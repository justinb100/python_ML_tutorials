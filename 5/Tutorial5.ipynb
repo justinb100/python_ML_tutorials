{
 "cells": [
  {
   "cell_type": "markdown",
   "metadata": {},
   "source": [
    "# Tutorial 5. Building Recommendation Engines\n",
    "\n",
    "In this notebook we will cover the following:\n",
    "\n",
    "1. [Building machine learning pipelines](#pipelines)\n",
    "2. [Finding the nearest neighbors](#neighbor)\n",
    "3. [Constructing a k-nearest neighbors classifier](#knnc)\n",
    "4. [Constructing a k-nearest neighbors regressor](#knnr)\n",
    "5. [Computing the Euclidean distance score](#euclidean)\n",
    "6. [Computing the Pearson correlation score](#pearson)\n",
    "7. [Finding similar users in the dataset](#similar)\n",
    "8. [Generating movie recommendations](#movies)\n",
    "\n",
    "A recommendation engine is a model that can predict what a user may be interested in. If you have a massive catalog, then users may or may not find all the content that is of interest to them easily. Through recommendation companies can increase consumption. \n",
    "\n",
    "Recommendation engines produce a set of recommendations using either collaborative filtering or content-based filtering. Collaborative filtering builds a model from the past behavior of the user as well as ratings given by other users, and then use the model to predict what the user might be interested in. Content-based filtering uses the characteristics of the item itself in order to recommend more items to the user. In this notebook we will focus on collaborative filtering."
   ]
  },
  {
   "cell_type": "code",
   "execution_count": 1,
   "metadata": {
    "collapsed": true
   },
   "outputs": [],
   "source": [
    "import numpy as np # linear algebra\n",
    "import pandas as pd # data processing, CSV file I/O (e.g. pd.read_csv)\n",
    "from IPython.display import display\n",
    "import seaborn as sns\n",
    "import matplotlib\n",
    "%matplotlib inline\n",
    "import matplotlib.pylab as plt"
   ]
  },
  {
   "cell_type": "markdown",
   "metadata": {},
   "source": [
    "## 5.1 Building machine learning pipelines <a class=\"anchor\" id=\"pipelines\"></a>\n",
    "\n",
    "The sklearn library has provisions to build machine learning pipelines. Just need to specify the functions, and it will build a composed object that makes the data go through the whole pipeline. The pipeline can include functions, such as preprocessing, feature selection, supervised learning, etc. \n",
    "\n",
    "In this example we will build a pipeline to take input feature vector, slect for top *k* features, and then classify using random forest classifier."
   ]
  },
  {
   "cell_type": "code",
   "execution_count": 2,
   "metadata": {
    "collapsed": false
   },
   "outputs": [
    {
     "data": {
      "text/html": [
       "<div>\n",
       "<table border=\"1\" class=\"dataframe\">\n",
       "  <thead>\n",
       "    <tr style=\"text-align: right;\">\n",
       "      <th></th>\n",
       "      <th>0</th>\n",
       "      <th>1</th>\n",
       "      <th>2</th>\n",
       "      <th>3</th>\n",
       "      <th>4</th>\n",
       "      <th>5</th>\n",
       "      <th>6</th>\n",
       "      <th>7</th>\n",
       "      <th>8</th>\n",
       "      <th>9</th>\n",
       "      <th>10</th>\n",
       "      <th>11</th>\n",
       "      <th>12</th>\n",
       "      <th>13</th>\n",
       "      <th>14</th>\n",
       "      <th>15</th>\n",
       "      <th>16</th>\n",
       "      <th>17</th>\n",
       "      <th>18</th>\n",
       "      <th>19</th>\n",
       "    </tr>\n",
       "  </thead>\n",
       "  <tbody>\n",
       "    <tr>\n",
       "      <th>0</th>\n",
       "      <td>1.713576</td>\n",
       "      <td>1.439197</td>\n",
       "      <td>-0.520948</td>\n",
       "      <td>-0.713714</td>\n",
       "      <td>0.344009</td>\n",
       "      <td>0.485706</td>\n",
       "      <td>0.400112</td>\n",
       "      <td>-1.190726</td>\n",
       "      <td>-1.539913</td>\n",
       "      <td>-2.014251</td>\n",
       "      <td>2.290371</td>\n",
       "      <td>-0.340784</td>\n",
       "      <td>1.474930</td>\n",
       "      <td>-1.585158</td>\n",
       "      <td>1.171786</td>\n",
       "      <td>1.151755</td>\n",
       "      <td>0.292251</td>\n",
       "      <td>0.274904</td>\n",
       "      <td>0.514694</td>\n",
       "      <td>2.039680</td>\n",
       "    </tr>\n",
       "    <tr>\n",
       "      <th>1</th>\n",
       "      <td>-1.064889</td>\n",
       "      <td>-0.393262</td>\n",
       "      <td>-0.910414</td>\n",
       "      <td>0.170676</td>\n",
       "      <td>0.460912</td>\n",
       "      <td>0.099957</td>\n",
       "      <td>0.905942</td>\n",
       "      <td>0.008978</td>\n",
       "      <td>-0.174598</td>\n",
       "      <td>-1.592487</td>\n",
       "      <td>1.084500</td>\n",
       "      <td>-0.638209</td>\n",
       "      <td>-0.416705</td>\n",
       "      <td>-1.266994</td>\n",
       "      <td>-1.007282</td>\n",
       "      <td>-2.003490</td>\n",
       "      <td>1.399173</td>\n",
       "      <td>0.046372</td>\n",
       "      <td>-0.286616</td>\n",
       "      <td>0.695744</td>\n",
       "    </tr>\n",
       "    <tr>\n",
       "      <th>2</th>\n",
       "      <td>-0.898202</td>\n",
       "      <td>0.010480</td>\n",
       "      <td>-0.875772</td>\n",
       "      <td>2.102937</td>\n",
       "      <td>-0.389200</td>\n",
       "      <td>-0.166459</td>\n",
       "      <td>-1.828210</td>\n",
       "      <td>-0.370173</td>\n",
       "      <td>0.418565</td>\n",
       "      <td>1.918689</td>\n",
       "      <td>0.240772</td>\n",
       "      <td>-0.647067</td>\n",
       "      <td>1.527212</td>\n",
       "      <td>-1.999533</td>\n",
       "      <td>-1.683216</td>\n",
       "      <td>0.904898</td>\n",
       "      <td>1.436084</td>\n",
       "      <td>-0.863161</td>\n",
       "      <td>1.546197</td>\n",
       "      <td>-1.784068</td>\n",
       "    </tr>\n",
       "    <tr>\n",
       "      <th>3</th>\n",
       "      <td>0.476545</td>\n",
       "      <td>0.245169</td>\n",
       "      <td>-1.141151</td>\n",
       "      <td>-2.673577</td>\n",
       "      <td>-1.025233</td>\n",
       "      <td>0.387235</td>\n",
       "      <td>-1.920168</td>\n",
       "      <td>-1.121378</td>\n",
       "      <td>-0.317466</td>\n",
       "      <td>-1.099295</td>\n",
       "      <td>-0.989888</td>\n",
       "      <td>0.847119</td>\n",
       "      <td>-0.720615</td>\n",
       "      <td>-1.142787</td>\n",
       "      <td>1.160186</td>\n",
       "      <td>1.279623</td>\n",
       "      <td>-0.857703</td>\n",
       "      <td>0.338095</td>\n",
       "      <td>-0.975597</td>\n",
       "      <td>0.513788</td>\n",
       "    </tr>\n",
       "    <tr>\n",
       "      <th>4</th>\n",
       "      <td>-0.887151</td>\n",
       "      <td>-0.842608</td>\n",
       "      <td>-1.709142</td>\n",
       "      <td>-1.069628</td>\n",
       "      <td>-0.745772</td>\n",
       "      <td>-1.097347</td>\n",
       "      <td>-0.110912</td>\n",
       "      <td>2.763106</td>\n",
       "      <td>-0.718625</td>\n",
       "      <td>0.139889</td>\n",
       "      <td>-0.126145</td>\n",
       "      <td>-0.025445</td>\n",
       "      <td>0.855455</td>\n",
       "      <td>0.190808</td>\n",
       "      <td>0.770156</td>\n",
       "      <td>-1.453555</td>\n",
       "      <td>-1.032089</td>\n",
       "      <td>-1.398897</td>\n",
       "      <td>2.105889</td>\n",
       "      <td>0.316453</td>\n",
       "    </tr>\n",
       "  </tbody>\n",
       "</table>\n",
       "</div>"
      ],
      "text/plain": [
       "         0         1         2         3         4         5         6   \\\n",
       "0  1.713576  1.439197 -0.520948 -0.713714  0.344009  0.485706  0.400112   \n",
       "1 -1.064889 -0.393262 -0.910414  0.170676  0.460912  0.099957  0.905942   \n",
       "2 -0.898202  0.010480 -0.875772  2.102937 -0.389200 -0.166459 -1.828210   \n",
       "3  0.476545  0.245169 -1.141151 -2.673577 -1.025233  0.387235 -1.920168   \n",
       "4 -0.887151 -0.842608 -1.709142 -1.069628 -0.745772 -1.097347 -0.110912   \n",
       "\n",
       "         7         8         9         10        11        12        13  \\\n",
       "0 -1.190726 -1.539913 -2.014251  2.290371 -0.340784  1.474930 -1.585158   \n",
       "1  0.008978 -0.174598 -1.592487  1.084500 -0.638209 -0.416705 -1.266994   \n",
       "2 -0.370173  0.418565  1.918689  0.240772 -0.647067  1.527212 -1.999533   \n",
       "3 -1.121378 -0.317466 -1.099295 -0.989888  0.847119 -0.720615 -1.142787   \n",
       "4  2.763106 -0.718625  0.139889 -0.126145 -0.025445  0.855455  0.190808   \n",
       "\n",
       "         14        15        16        17        18        19  \n",
       "0  1.171786  1.151755  0.292251  0.274904  0.514694  2.039680  \n",
       "1 -1.007282 -2.003490  1.399173  0.046372 -0.286616  0.695744  \n",
       "2 -1.683216  0.904898  1.436084 -0.863161  1.546197 -1.784068  \n",
       "3  1.160186  1.279623 -0.857703  0.338095 -0.975597  0.513788  \n",
       "4  0.770156 -1.453555 -1.032089 -1.398897  2.105889  0.316453  "
      ]
     },
     "execution_count": 2,
     "metadata": {},
     "output_type": "execute_result"
    }
   ],
   "source": [
    "from sklearn.datasets import samples_generator\n",
    "from sklearn.ensemble import RandomForestClassifier\n",
    "from sklearn.feature_selection import SelectKBest, f_classif\n",
    "from sklearn.pipeline import Pipeline\n",
    "\n",
    "# Generate sample data\n",
    "X,y = samples_generator.make_classification(n_informative=4,n_features=20,\n",
    "                                           n_redundant=0,random_state=5)\n",
    "X = pd.DataFrame(X); y = pd.DataFrame(y)\n",
    "X.head()"
   ]
  },
  {
   "cell_type": "markdown",
   "metadata": {},
   "source": [
    "First step is to select the *k* best features before the data is used further. In this case let's use *k*=10. The univariate statistical test we're using for the selector is *f_classif* which computes the ANOVA F-value for the provided sample. There are other selectors you can use for both regression and classification, can see them [here](http://scikit-learn.org/stable/modules/feature_selection.html):"
   ]
  },
  {
   "cell_type": "code",
   "execution_count": 3,
   "metadata": {
    "collapsed": true
   },
   "outputs": [],
   "source": [
    "# Feature selector\n",
    "selector_k_best = SelectKBest(f_classif,k=10)"
   ]
  },
  {
   "cell_type": "markdown",
   "metadata": {},
   "source": [
    "Next step is to use random forest classifier to classify the data"
   ]
  },
  {
   "cell_type": "code",
   "execution_count": 4,
   "metadata": {
    "collapsed": true
   },
   "outputs": [],
   "source": [
    "#Random Forest classifier\n",
    "clf = RandomForestClassifier(n_estimators=50,max_depth=4)"
   ]
  },
  {
   "cell_type": "markdown",
   "metadata": {},
   "source": [
    "### Build the pipeline\n",
    "\n",
    "We can assign names to the blocks of the pipeline, for example below we assign *selector* and *rf* to feature selector and random forest classifier."
   ]
  },
  {
   "cell_type": "code",
   "execution_count": 5,
   "metadata": {
    "collapsed": true
   },
   "outputs": [],
   "source": [
    "pipe = Pipeline([('selector',selector_k_best),('rf',clf)])"
   ]
  },
  {
   "cell_type": "markdown",
   "metadata": {},
   "source": [
    "We can also update the parameters in the future, by using the names we assigned in the last step. For example, if we want to set *k* to 6 instead of 10, and *n_estimators* to 25 instead of 50, we can do it as follows:"
   ]
  },
  {
   "cell_type": "code",
   "execution_count": 6,
   "metadata": {
    "collapsed": false
   },
   "outputs": [
    {
     "data": {
      "text/plain": [
       "Pipeline(steps=[('selector', SelectKBest(k=6, score_func=<function f_classif at 0x10fc43b70>)), ('rf', RandomForestClassifier(bootstrap=True, class_weight=None, criterion='gini',\n",
       "            max_depth=4, max_features='auto', max_leaf_nodes=None,\n",
       "            min_impurity_split=1e-07, min_samples_leaf=1,\n",
       "            min_samples_split=2, min_weight_fraction_leaf=0.0,\n",
       "            n_estimators=25, n_jobs=1, oob_score=False, random_state=None,\n",
       "            verbose=0, warm_start=False))])"
      ]
     },
     "execution_count": 6,
     "metadata": {},
     "output_type": "execute_result"
    }
   ],
   "source": [
    "pipe.set_params(selector__k=6,rf__n_estimators=25)"
   ]
  },
  {
   "cell_type": "markdown",
   "metadata": {},
   "source": [
    "### Train the classifier"
   ]
  },
  {
   "cell_type": "code",
   "execution_count": 7,
   "metadata": {
    "collapsed": false
   },
   "outputs": [
    {
     "data": {
      "text/plain": [
       "Pipeline(steps=[('selector', SelectKBest(k=6, score_func=<function f_classif at 0x10fc43b70>)), ('rf', RandomForestClassifier(bootstrap=True, class_weight=None, criterion='gini',\n",
       "            max_depth=4, max_features='auto', max_leaf_nodes=None,\n",
       "            min_impurity_split=1e-07, min_samples_leaf=1,\n",
       "            min_samples_split=2, min_weight_fraction_leaf=0.0,\n",
       "            n_estimators=25, n_jobs=1, oob_score=False, random_state=None,\n",
       "            verbose=0, warm_start=False))])"
      ]
     },
     "execution_count": 7,
     "metadata": {},
     "output_type": "execute_result"
    }
   ],
   "source": [
    "pipe.fit(X,y[0])"
   ]
  },
  {
   "cell_type": "markdown",
   "metadata": {},
   "source": [
    "Predict outputs for the training data and estimate it's performance:"
   ]
  },
  {
   "cell_type": "code",
   "execution_count": 8,
   "metadata": {
    "collapsed": false
   },
   "outputs": [
    {
     "name": "stdout",
     "output_type": "stream",
     "text": [
      "Score of classifier:  0.94\n"
     ]
    }
   ],
   "source": [
    "ypred = pipe.predict(X)\n",
    "score = pipe.score(X,y[0])\n",
    "print('Score of classifier: ',score)"
   ]
  },
  {
   "cell_type": "markdown",
   "metadata": {},
   "source": [
    "Now let's see which features were selected:"
   ]
  },
  {
   "cell_type": "code",
   "execution_count": 9,
   "metadata": {
    "collapsed": false
   },
   "outputs": [
    {
     "name": "stdout",
     "output_type": "stream",
     "text": [
      "Features selected:  [ 1  6 10 11 12 16]\n"
     ]
    }
   ],
   "source": [
    "features_status = pipe.named_steps['selector'].get_support()\n",
    "features = np.arange(1,21)\n",
    "print('Features selected: ',features[features_status])"
   ]
  },
  {
   "cell_type": "markdown",
   "metadata": {},
   "source": [
    "Can see above that 6 features were selected as prescribed. The advantage of using *k* best features is that it can work with low-dimensional data to help reduce the computational complexity. The way the *k* features are selected is based on univariate feature selection, where it performs univariate statistical tests (1 variable invloved) and then extracts the top-performing features from the feature vector.\n",
    "\n",
    "When these tests are performed each feature is assigned a score - based on the scores we select the *k* best features.\n",
    "\n",
    "You can also use the pipeline created on test data, and it will take the same features."
   ]
  },
  {
   "cell_type": "markdown",
   "metadata": {},
   "source": [
    "## 5.2 Finding the nearest neighbors <a class=\"anchor\" id=\"neighbor\"></a>\n",
    "\n",
    "Nearest neighbors is a model that refers to a general class of algorithms that aim to make a decision based o the number of nearest neighbors in the training dataset.\n",
    "\n",
    "We will create data to use for this example:"
   ]
  },
  {
   "cell_type": "code",
   "execution_count": 10,
   "metadata": {
    "collapsed": false
   },
   "outputs": [
    {
     "data": {
      "text/html": [
       "<div>\n",
       "<table border=\"1\" class=\"dataframe\">\n",
       "  <thead>\n",
       "    <tr style=\"text-align: right;\">\n",
       "      <th></th>\n",
       "      <th>x1</th>\n",
       "      <th>x2</th>\n",
       "    </tr>\n",
       "  </thead>\n",
       "  <tbody>\n",
       "    <tr>\n",
       "      <th>0</th>\n",
       "      <td>1.0</td>\n",
       "      <td>1.0</td>\n",
       "    </tr>\n",
       "    <tr>\n",
       "      <th>1</th>\n",
       "      <td>1.0</td>\n",
       "      <td>3.0</td>\n",
       "    </tr>\n",
       "    <tr>\n",
       "      <th>2</th>\n",
       "      <td>2.0</td>\n",
       "      <td>2.0</td>\n",
       "    </tr>\n",
       "    <tr>\n",
       "      <th>3</th>\n",
       "      <td>2.5</td>\n",
       "      <td>5.0</td>\n",
       "    </tr>\n",
       "    <tr>\n",
       "      <th>4</th>\n",
       "      <td>3.0</td>\n",
       "      <td>1.0</td>\n",
       "    </tr>\n",
       "  </tbody>\n",
       "</table>\n",
       "</div>"
      ],
      "text/plain": [
       "    x1   x2\n",
       "0  1.0  1.0\n",
       "1  1.0  3.0\n",
       "2  2.0  2.0\n",
       "3  2.5  5.0\n",
       "4  3.0  1.0"
      ]
     },
     "execution_count": 10,
     "metadata": {},
     "output_type": "execute_result"
    }
   ],
   "source": [
    "from sklearn.neighbors import NearestNeighbors\n",
    "\n",
    "X = pd.DataFrame( np.array([[1,1],[1,3],[2,2],[2.5,5],[3,1],[4,2],[2.,3.5],\n",
    "                            [3,3],[3.5,4] ]),columns=['x1','x2'])\n",
    "X.head()"
   ]
  },
  {
   "cell_type": "markdown",
   "metadata": {},
   "source": [
    "Goal is to find the 3 closest neighbors to any given point:"
   ]
  },
  {
   "cell_type": "code",
   "execution_count": 11,
   "metadata": {
    "collapsed": false
   },
   "outputs": [
    {
     "data": {
      "text/plain": [
       "[<matplotlib.lines.Line2D at 0x1100af588>]"
      ]
     },
     "execution_count": 11,
     "metadata": {},
     "output_type": "execute_result"
    },
    {
     "data": {
      "image/png": "[encoded data removed]",
      "text/plain": [
       "<matplotlib.figure.Figure at 0x1100aff28>"
      ]
     },
     "metadata": {},
     "output_type": "display_data"
    }
   ],
   "source": [
    "# Number of neighbors wanted\n",
    "num_neighbors= 3\n",
    "\n",
    "# Input data point not present in X\n",
    "input=[2.6,1.7]\n",
    "\n",
    "# Plot scatter\n",
    "sns.lmplot(x='x1',y='x2',data=X,fit_reg=False)\n",
    "plt.plot(input[0],input[1],'ro')"
   ]
  },
  {
   "cell_type": "markdown",
   "metadata": {},
   "source": [
    "The red dot above is the input point we want to find the closest neighbors to.\n",
    "\n",
    "### Build nearest neighbors model"
   ]
  },
  {
   "cell_type": "code",
   "execution_count": 12,
   "metadata": {
    "collapsed": false
   },
   "outputs": [
    {
     "name": "stdout",
     "output_type": "stream",
     "text": [
      "[[2 4 7]]\n",
      "The k-nearest neighbors are as follows:\n"
     ]
    },
    {
     "name": "stderr",
     "output_type": "stream",
     "text": [
      "/anaconda/lib/python3.6/site-packages/sklearn/utils/validation.py:395: DeprecationWarning: Passing 1d arrays as data is deprecated in 0.17 and will raise ValueError in 0.19. Reshape your data either using X.reshape(-1, 1) if your data has a single feature or X.reshape(1, -1) if it contains a single sample.\n",
      "  DeprecationWarning)\n"
     ]
    },
    {
     "data": {
      "text/html": [
       "<div>\n",
       "<table border=\"1\" class=\"dataframe\">\n",
       "  <thead>\n",
       "    <tr style=\"text-align: right;\">\n",
       "      <th></th>\n",
       "      <th>x1</th>\n",
       "      <th>x2</th>\n",
       "    </tr>\n",
       "  </thead>\n",
       "  <tbody>\n",
       "    <tr>\n",
       "      <th>2</th>\n",
       "      <td>2.0</td>\n",
       "      <td>2.0</td>\n",
       "    </tr>\n",
       "    <tr>\n",
       "      <th>4</th>\n",
       "      <td>3.0</td>\n",
       "      <td>1.0</td>\n",
       "    </tr>\n",
       "    <tr>\n",
       "      <th>7</th>\n",
       "      <td>3.0</td>\n",
       "      <td>3.0</td>\n",
       "    </tr>\n",
       "  </tbody>\n",
       "</table>\n",
       "</div>"
      ],
      "text/plain": [
       "    x1   x2\n",
       "2  2.0  2.0\n",
       "4  3.0  1.0\n",
       "7  3.0  3.0"
      ]
     },
     "execution_count": 12,
     "metadata": {},
     "output_type": "execute_result"
    }
   ],
   "source": [
    "knn = NearestNeighbors(n_neighbors=num_neighbors,algorithm='ball_tree').fit(X)\n",
    "\n",
    "#Find distances of input to all points\n",
    "distances,indices = knn.kneighbors(input)\n",
    "print( indices)\n",
    "print('The k-nearest neighbors are as follows:')\n",
    "knnX = X.iloc[indices[0]]\n",
    "knnX.head()"
   ]
  },
  {
   "cell_type": "markdown",
   "metadata": {},
   "source": [
    "Make plot of the nearest neighbors:"
   ]
  },
  {
   "cell_type": "code",
   "execution_count": 13,
   "metadata": {
    "collapsed": false
   },
   "outputs": [
    {
     "data": {
      "text/plain": [
       "<matplotlib.collections.PathCollection at 0x1127067b8>"
      ]
     },
     "execution_count": 13,
     "metadata": {},
     "output_type": "execute_result"
    },
    {
     "data": {
      "image/png": "[encoded data removed]",
      "text/plain": [
       "<matplotlib.figure.Figure at 0x1127065f8>"
      ]
     },
     "metadata": {},
     "output_type": "display_data"
    }
   ],
   "source": [
    "sns.lmplot(x='x1',y='x2',data=X,fit_reg=False)\n",
    "plt.plot(input[0],input[1],'ro')\n",
    "plt.scatter(knnX.x1,knnX.x2,marker='o',s=200,color='r',facecolors='none',linewidth=3.0)"
   ]
  },
  {
   "cell_type": "markdown",
   "metadata": {},
   "source": [
    "## 5.3 Constructing a k-nearest neighbors classifier <a class=\"anchor\" id=\"knnc\"></a>\n",
    "\n",
    "The **k-nearest neighbors** classifier uses the *k*-nearest neighbors in the training dataset to find the class of an unknown object. To find the class to which an unknown datapoint belongs to, we find the *k*-nearest neighbors and then take a majority vote.\n",
    "\n",
    "In this example we will use the *data_nn_classifier.txt* file.\n",
    "\n",
    "#### How does it work?\n",
    "The *k*-nearest neighbors classifier stores all the available datapoints and classifies new datapoints based on a similarity metric. This metric usually is in the form of a distance function. The algorithm is a non-parametric technique, which means it doesn't need to find any underlying parameters, and all you need is a *k* value. Once the *k* neighbors are found, a majority vote is taken for classification.\n"
   ]
  },
  {
   "cell_type": "code",
   "execution_count": 14,
   "metadata": {
    "collapsed": false
   },
   "outputs": [
    {
     "data": {
      "text/html": [
       "<div>\n",
       "<table border=\"1\" class=\"dataframe\">\n",
       "  <thead>\n",
       "    <tr style=\"text-align: right;\">\n",
       "      <th></th>\n",
       "      <th>x1</th>\n",
       "      <th>x2</th>\n",
       "      <th>y</th>\n",
       "    </tr>\n",
       "  </thead>\n",
       "  <tbody>\n",
       "    <tr>\n",
       "      <th>0</th>\n",
       "      <td>1.82</td>\n",
       "      <td>2.04</td>\n",
       "      <td>0</td>\n",
       "    </tr>\n",
       "    <tr>\n",
       "      <th>1</th>\n",
       "      <td>3.31</td>\n",
       "      <td>6.78</td>\n",
       "      <td>1</td>\n",
       "    </tr>\n",
       "    <tr>\n",
       "      <th>2</th>\n",
       "      <td>6.33</td>\n",
       "      <td>2.55</td>\n",
       "      <td>2</td>\n",
       "    </tr>\n",
       "    <tr>\n",
       "      <th>3</th>\n",
       "      <td>2.05</td>\n",
       "      <td>2.47</td>\n",
       "      <td>0</td>\n",
       "    </tr>\n",
       "    <tr>\n",
       "      <th>4</th>\n",
       "      <td>4.30</td>\n",
       "      <td>5.25</td>\n",
       "      <td>1</td>\n",
       "    </tr>\n",
       "  </tbody>\n",
       "</table>\n",
       "</div>"
      ],
      "text/plain": [
       "     x1    x2  y\n",
       "0  1.82  2.04  0\n",
       "1  3.31  6.78  1\n",
       "2  6.33  2.55  2\n",
       "3  2.05  2.47  0\n",
       "4  4.30  5.25  1"
      ]
     },
     "metadata": {},
     "output_type": "display_data"
    },
    {
     "data": {
      "text/plain": [
       "<seaborn.axisgrid.FacetGrid at 0x1128f0048>"
      ]
     },
     "execution_count": 14,
     "metadata": {},
     "output_type": "execute_result"
    },
    {
     "data": {
      "image/png": "[encoded data removed]",
      "text/plain": [
       "<matplotlib.figure.Figure at 0x112841ac8>"
      ]
     },
     "metadata": {},
     "output_type": "display_data"
    }
   ],
   "source": [
    "from sklearn import neighbors,datasets\n",
    "data = pd.read_csv('data_nn_classifier.txt',names=['x1','x2','y'])\n",
    "display( data.head() )\n",
    "sns.lmplot(data=data,x='x1',y='x2',hue='y',fit_reg=False)"
   ]
  },
  {
   "cell_type": "markdown",
   "metadata": {},
   "source": [
    "Can see that the classes are clearly clustered into 3 groups above.\n",
    "\n",
    "### Build classifier"
   ]
  },
  {
   "cell_type": "code",
   "execution_count": 15,
   "metadata": {
    "collapsed": false
   },
   "outputs": [],
   "source": [
    "from sklearn.model_selection import train_test_split\n",
    "# Number of nearest neighbors to consider\n",
    "n_neighbors = 10\n",
    "\n",
    "# To visualize boundaries, need a grid size \n",
    "h = 0.01\n",
    "\n",
    "# KNN Classifier model and train\n",
    "train,test = train_test_split(data,test_size=0.1, random_state=42)\n",
    "Xtrain = train.drop(['y'],axis=1); ytrain=train.y\n",
    "Xtest  = test.drop(['y'],axis=1); ytest = test.y\n",
    "clf = neighbors.KNeighborsClassifier(n_neighbors,weights='distance')\n",
    "clf.fit(Xtrain,ytrain)\n",
    "\n",
    "ypred_test = clf.predict(Xtest)\n",
    "ypred_train= clf.predict(Xtrain)\n",
    "#Creat meshgrid to evaluate classifier at training points\n",
    "x1max,x2max = Xtrain.max()\n",
    "x1min,x2min = Xtrain.min()\n",
    "x1grid,x2grid = np.meshgrid(np.arange(x1min,x1max,h),np.arange(x2min,x2max,h))\n",
    "output = clf.predict(np.c_[x1grid.ravel(),x2grid.ravel()])\n",
    "output = output.reshape(x1grid.shape)"
   ]
  },
  {
   "cell_type": "markdown",
   "metadata": {},
   "source": [
    "Make plots of boundaries and plot training points:"
   ]
  },
  {
   "cell_type": "code",
   "execution_count": 16,
   "metadata": {
    "collapsed": false
   },
   "outputs": [
    {
     "data": {
      "text/plain": [
       "<matplotlib.collections.QuadMesh at 0x112a1c1d0>"
      ]
     },
     "execution_count": 16,
     "metadata": {},
     "output_type": "execute_result"
    },
    {
     "data": {
      "text/plain": [
       "<matplotlib.figure.Figure at 0x112a01d30>"
      ]
     },
     "metadata": {},
     "output_type": "display_data"
    },
    {
     "data": {
      "image/png": "[encoded data removed]",
      "text/plain": [
       "<matplotlib.figure.Figure at 0x1100af438>"
      ]
     },
     "metadata": {},
     "output_type": "display_data"
    }
   ],
   "source": [
    "plt.figure()\n",
    "sns.lmplot(data=train,x='x1',y='x2',hue='y',fit_reg=False)\n",
    "plt.pcolormesh(x1grid,x2grid,output,cmap=matplotlib.cm.Pastel1,zorder=0)"
   ]
  },
  {
   "cell_type": "markdown",
   "metadata": {},
   "source": [
    "Use test datapoints as test with the same boundary:"
   ]
  },
  {
   "cell_type": "code",
   "execution_count": 17,
   "metadata": {
    "collapsed": false
   },
   "outputs": [
    {
     "data": {
      "text/plain": [
       "<matplotlib.collections.QuadMesh at 0x112a0a7b8>"
      ]
     },
     "execution_count": 17,
     "metadata": {},
     "output_type": "execute_result"
    },
    {
     "data": {
      "text/plain": [
       "<matplotlib.figure.Figure at 0x112b0c748>"
      ]
     },
     "metadata": {},
     "output_type": "display_data"
    },
    {
     "data": {
      "image/png": "[encoded data removed]",
      "text/plain": [
       "<matplotlib.figure.Figure at 0x1050802e8>"
      ]
     },
     "metadata": {},
     "output_type": "display_data"
    }
   ],
   "source": [
    "plt.figure()\n",
    "sns.lmplot(data=test,x='x1',y='x2',hue='y',fit_reg=False)\n",
    "plt.pcolormesh(x1grid,x2grid,output,cmap=matplotlib.cm.Pastel1,zorder=0)"
   ]
  },
  {
   "cell_type": "markdown",
   "metadata": {},
   "source": [
    "Can see from the above that all of the test datapoints were correctly classified. Let's add on to the previous plot and also show the 10 nearest neighbors for all the test points."
   ]
  },
  {
   "cell_type": "code",
   "execution_count": 18,
   "metadata": {
    "collapsed": false
   },
   "outputs": [
    {
     "data": {
      "text/plain": [
       "<matplotlib.text.Text at 0x1056ecdd8>"
      ]
     },
     "execution_count": 18,
     "metadata": {},
     "output_type": "execute_result"
    },
    {
     "data": {
      "image/png": "[encoded data removed]",
      "text/plain": [
       "<matplotlib.figure.Figure at 0x1056c6898>"
      ]
     },
     "metadata": {},
     "output_type": "display_data"
    }
   ],
   "source": [
    "distances, indices = clf.kneighbors(Xtest)\n",
    "neighborpoints = train.iloc[np.unique(indices.ravel())]\n",
    "sns.lmplot(data=neighborpoints,x='x1',y='x2',hue='y',fit_reg=False)\n",
    "plt.pcolormesh(x1grid,x2grid,output,cmap=matplotlib.cm.Pastel1,zorder=0)\n",
    "plt.title('k-nearest points for all test data')"
   ]
  },
  {
   "cell_type": "markdown",
   "metadata": {},
   "source": [
    "Now look at test classification report:"
   ]
  },
  {
   "cell_type": "code",
   "execution_count": 19,
   "metadata": {
    "collapsed": false
   },
   "outputs": [
    {
     "name": "stdout",
     "output_type": "stream",
     "text": [
      "             precision    recall  f1-score   support\n",
      "\n",
      "     class0       1.00      1.00      1.00         6\n",
      "     class1       1.00      1.00      1.00         7\n",
      "     class2       1.00      1.00      1.00         2\n",
      "\n",
      "avg / total       1.00      1.00      1.00        15\n",
      "\n",
      "\n",
      "Accuracy score:  1.0\n"
     ]
    }
   ],
   "source": [
    "from sklearn.metrics import classification_report,accuracy_score\n",
    "print(classification_report(ytest,ypred_test,target_names=['class0','class1','class2']))\n",
    "print('\\nAccuracy score: ',accuracy_score(ytrain,ypred_train))"
   ]
  },
  {
   "cell_type": "markdown",
   "metadata": {},
   "source": [
    "## 5.4 Constructing a k-nearest neighbors regressor <a class=\"anchor\" id=\"knnr\"></a>\n",
    "\n",
    "We can use the same k-nearest neighbor algorithm to build a regressor. We will create test data to use for this example.\n",
    "\n",
    "#### How does it work?\n",
    "The regressor is similar to the classifier, but except for majority vote, when estimating a new datapoint the *k* nearest neighbors are found and  the value is the average of the values of its *k* nearest neighbors."
   ]
  },
  {
   "cell_type": "code",
   "execution_count": 20,
   "metadata": {
    "collapsed": false
   },
   "outputs": [
    {
     "data": {
      "text/plain": [
       "<seaborn.axisgrid.FacetGrid at 0x1056d5cc0>"
      ]
     },
     "execution_count": 20,
     "metadata": {},
     "output_type": "execute_result"
    },
    {
     "data": {
      "image/png": "[encoded data removed]",
      "text/plain": [
       "<matplotlib.figure.Figure at 0x1056d5c88>"
      ]
     },
     "metadata": {},
     "output_type": "display_data"
    }
   ],
   "source": [
    "#Generate data\n",
    "amplitude = 10.; num_points=100\n",
    "X = amplitude*np.random.rand(num_points,1)-0.5*amplitude\n",
    "\n",
    "#Target and add noise\n",
    "y = np.sinc(X).ravel(); y+=0.2*(0.5 - np.random.rand(y.size))\n",
    "X.shape\n",
    "y.shape\n",
    "data = pd.DataFrame({'X':X.ravel(),'y':y})\n",
    "\n",
    "#Visualize\n",
    "sns.lmplot(data=data,x='X',y='y',fit_reg=False)"
   ]
  },
  {
   "cell_type": "markdown",
   "metadata": {},
   "source": [
    "Make grid to evaluate near-continuous function:"
   ]
  },
  {
   "cell_type": "code",
   "execution_count": 21,
   "metadata": {
    "collapsed": true
   },
   "outputs": [],
   "source": [
    "xgrid = np.linspace(-0.5*amplitude,0.5*amplitude,10*num_points)[:,np.newaxis]"
   ]
  },
  {
   "cell_type": "markdown",
   "metadata": {},
   "source": [
    "### Build KNN regressor model"
   ]
  },
  {
   "cell_type": "code",
   "execution_count": 22,
   "metadata": {
    "collapsed": false
   },
   "outputs": [],
   "source": [
    "n_neighbors=8\n",
    "\n",
    "# Model\n",
    "knn_regressor = neighbors.KNeighborsRegressor(n_neighbors,weights='distance')\n",
    "\n",
    "#Train\n",
    "knn_regressor.fit(X,y)\n",
    "\n",
    "#Predict\n",
    "yvals = knn_regressor.predict(xgrid)"
   ]
  },
  {
   "cell_type": "markdown",
   "metadata": {},
   "source": [
    "Make plot to see how well it does:"
   ]
  },
  {
   "cell_type": "code",
   "execution_count": 23,
   "metadata": {
    "collapsed": false
   },
   "outputs": [
    {
     "data": {
      "text/plain": [
       "[<matplotlib.lines.Line2D at 0x124cb9160>]"
      ]
     },
     "execution_count": 23,
     "metadata": {},
     "output_type": "execute_result"
    },
    {
     "data": {
      "image/png": "[encoded data removed]",
      "text/plain": [
       "<matplotlib.figure.Figure at 0x10a8a2198>"
      ]
     },
     "metadata": {},
     "output_type": "display_data"
    }
   ],
   "source": [
    "plt.figure()\n",
    "plt.scatter(X,y,marker='o',facecolors='none',edgecolors='b',s=50)\n",
    "plt.plot(xgrid,yvals,'k',linewidth=3.0)"
   ]
  },
  {
   "cell_type": "markdown",
   "metadata": {},
   "source": [
    "## 5.5 Computing the Euclidean distance score <a class=\"anchor\" id=\"euclidean\"></a>\n",
    "\n",
    "In order to build a recommendation engine, we need to define a similarity metric so that we can find users in the database who are similar to a given user. **Euclidean distance score** is one metric we can use to compute distance between datapoints. \n",
    "\n",
    "We will use the *movie_ratings.json* file as the data file. It contains names of users and ratings for different movies."
   ]
  },
  {
   "cell_type": "code",
   "execution_count": 24,
   "metadata": {
    "collapsed": false
   },
   "outputs": [
    {
     "data": {
      "text/html": [
       "<div>\n",
       "<table border=\"1\" class=\"dataframe\">\n",
       "  <thead>\n",
       "    <tr style=\"text-align: right;\">\n",
       "      <th></th>\n",
       "      <th>Alex Roberts</th>\n",
       "      <th>Jillian Hobart</th>\n",
       "      <th>John Carson</th>\n",
       "      <th>Melissa Jones</th>\n",
       "      <th>Michael Henry</th>\n",
       "      <th>Michelle Peterson</th>\n",
       "      <th>William Reynolds</th>\n",
       "    </tr>\n",
       "  </thead>\n",
       "  <tbody>\n",
       "    <tr>\n",
       "      <th>Anger Management</th>\n",
       "      <td>NaN</td>\n",
       "      <td>3.0</td>\n",
       "      <td>3.0</td>\n",
       "      <td>2</td>\n",
       "      <td>NaN</td>\n",
       "      <td>1.5</td>\n",
       "      <td>NaN</td>\n",
       "    </tr>\n",
       "    <tr>\n",
       "      <th>Fracture</th>\n",
       "      <td>5.0</td>\n",
       "      <td>4.0</td>\n",
       "      <td>3.5</td>\n",
       "      <td>3</td>\n",
       "      <td>4.0</td>\n",
       "      <td>5.0</td>\n",
       "      <td>3.5</td>\n",
       "    </tr>\n",
       "    <tr>\n",
       "      <th>Inception</th>\n",
       "      <td>3.0</td>\n",
       "      <td>NaN</td>\n",
       "      <td>2.5</td>\n",
       "      <td>3</td>\n",
       "      <td>NaN</td>\n",
       "      <td>3.0</td>\n",
       "      <td>2.5</td>\n",
       "    </tr>\n",
       "    <tr>\n",
       "      <th>Jerry Maguire</th>\n",
       "      <td>3.0</td>\n",
       "      <td>4.5</td>\n",
       "      <td>3.0</td>\n",
       "      <td>3</td>\n",
       "      <td>NaN</td>\n",
       "      <td>3.0</td>\n",
       "      <td>4.0</td>\n",
       "    </tr>\n",
       "    <tr>\n",
       "      <th>Pulp Fiction</th>\n",
       "      <td>4.0</td>\n",
       "      <td>3.5</td>\n",
       "      <td>3.5</td>\n",
       "      <td>4</td>\n",
       "      <td>4.5</td>\n",
       "      <td>3.5</td>\n",
       "      <td>3.0</td>\n",
       "    </tr>\n",
       "    <tr>\n",
       "      <th>Serendipity</th>\n",
       "      <td>3.5</td>\n",
       "      <td>2.5</td>\n",
       "      <td>2.5</td>\n",
       "      <td>2</td>\n",
       "      <td>1.0</td>\n",
       "      <td>3.5</td>\n",
       "      <td>NaN</td>\n",
       "    </tr>\n",
       "  </tbody>\n",
       "</table>\n",
       "</div>"
      ],
      "text/plain": [
       "                  Alex Roberts  Jillian Hobart  John Carson  Melissa Jones  \\\n",
       "Anger Management           NaN             3.0          3.0              2   \n",
       "Fracture                   5.0             4.0          3.5              3   \n",
       "Inception                  3.0             NaN          2.5              3   \n",
       "Jerry Maguire              3.0             4.5          3.0              3   \n",
       "Pulp Fiction               4.0             3.5          3.5              4   \n",
       "Serendipity                3.5             2.5          2.5              2   \n",
       "\n",
       "                  Michael Henry  Michelle Peterson  William Reynolds  \n",
       "Anger Management            NaN                1.5               NaN  \n",
       "Fracture                    4.0                5.0               3.5  \n",
       "Inception                   NaN                3.0               2.5  \n",
       "Jerry Maguire               NaN                3.0               4.0  \n",
       "Pulp Fiction                4.5                3.5               3.0  \n",
       "Serendipity                 1.0                3.5               NaN  "
      ]
     },
     "execution_count": 24,
     "metadata": {},
     "output_type": "execute_result"
    }
   ],
   "source": [
    "ratingsdf = pd.read_json('movie_ratings.json')\n",
    "ratingsdf.head(10)"
   ]
  },
  {
   "cell_type": "markdown",
   "metadata": {},
   "source": [
    "Can see above that users are the columns and the movies are the rows, movies without ratings are listed as NaN.\n",
    "\n",
    "Next we compute the euclidean distance, if the ratings are similar then the sum of squared differences will be very low and the score will be high."
   ]
  },
  {
   "cell_type": "code",
   "execution_count": 25,
   "metadata": {
    "collapsed": false
   },
   "outputs": [],
   "source": [
    "def euclidean_score(dataset,user1,user2):\n",
    "    # Check to make sure both users in dataset\n",
    "    if not (user1 in dataset.columns and user2 in dataset.columns):\n",
    "        raise TypeError('Either user1 or user2 is not present in dataset')\n",
    "    # Find movies rate by both user1 and user2\n",
    "    shared_movies = dataset.index[ (dataset[user1].notnull()) &(dataset[user1].notnull()) ]\n",
    "    # If no shared movies then no similarity\n",
    "    if len(shared_movies) == 0:\n",
    "        return 0\n",
    "    # For each common ratings, we compute the square root of the sum of  the\n",
    "    # squared differences and normalize so score is between 0 and 1\n",
    "    scores = dataset.ix[shared_movies][[user1,user2]]\n",
    "    display(scores.head())\n",
    "    SSE = np.sum( np.diff(scores.values,axis=1)**2 )\n",
    "    return 1./(1+np.sqrt(SSE))"
   ]
  },
  {
   "cell_type": "code",
   "execution_count": 26,
   "metadata": {
    "collapsed": false
   },
   "outputs": [
    {
     "data": {
      "text/html": [
       "<div>\n",
       "<table border=\"1\" class=\"dataframe\">\n",
       "  <thead>\n",
       "    <tr style=\"text-align: right;\">\n",
       "      <th></th>\n",
       "      <th>John Carson</th>\n",
       "      <th>Michelle Peterson</th>\n",
       "    </tr>\n",
       "  </thead>\n",
       "  <tbody>\n",
       "    <tr>\n",
       "      <th>Anger Management</th>\n",
       "      <td>3.0</td>\n",
       "      <td>1.5</td>\n",
       "    </tr>\n",
       "    <tr>\n",
       "      <th>Fracture</th>\n",
       "      <td>3.5</td>\n",
       "      <td>5.0</td>\n",
       "    </tr>\n",
       "    <tr>\n",
       "      <th>Inception</th>\n",
       "      <td>2.5</td>\n",
       "      <td>3.0</td>\n",
       "    </tr>\n",
       "    <tr>\n",
       "      <th>Jerry Maguire</th>\n",
       "      <td>3.0</td>\n",
       "      <td>3.0</td>\n",
       "    </tr>\n",
       "    <tr>\n",
       "      <th>Pulp Fiction</th>\n",
       "      <td>3.5</td>\n",
       "      <td>3.5</td>\n",
       "    </tr>\n",
       "  </tbody>\n",
       "</table>\n",
       "</div>"
      ],
      "text/plain": [
       "                  John Carson  Michelle Peterson\n",
       "Anger Management          3.0                1.5\n",
       "Fracture                  3.5                5.0\n",
       "Inception                 2.5                3.0\n",
       "Jerry Maguire             3.0                3.0\n",
       "Pulp Fiction              3.5                3.5"
      ]
     },
     "metadata": {},
     "output_type": "display_data"
    },
    {
     "name": "stdout",
     "output_type": "stream",
     "text": [
      "Euclidean score:  0.294298055086\n"
     ]
    }
   ],
   "source": [
    "# Calculate euclidean distance for two users\n",
    "user1='John Carson'\n",
    "user2='Michelle Peterson'\n",
    "print('Euclidean score: ', euclidean_score(ratingsdf,user1,user2))"
   ]
  },
  {
   "cell_type": "markdown",
   "metadata": {},
   "source": [
    "The higher the score the more similar the users movie ratings are."
   ]
  },
  {
   "cell_type": "markdown",
   "metadata": {},
   "source": [
    "## 5.6 Computing the Pearson correlation score <a class=\"anchor\" id=\"pearson\"></a>\n",
    "\n",
    "The Euclidean distance score is a good metric, but has shortcomings especially if the scale between the objects is much different. This is why Pearson correlation score is frequently used in recommendation engines.\n",
    "\n",
    "The goal of the below example is to use the same movie ratings data to find users who are similar to eachother."
   ]
  },
  {
   "cell_type": "code",
   "execution_count": 27,
   "metadata": {
    "collapsed": false
   },
   "outputs": [],
   "source": [
    "ratingsdf = pd.read_json('movie_ratings.json')"
   ]
  },
  {
   "cell_type": "markdown",
   "metadata": {},
   "source": [
    "Below we calculate Pearson correlation coefficient for two different users movie ratings:\n",
    "\n",
    "### Pearson Score"
   ]
  },
  {
   "cell_type": "code",
   "execution_count": 28,
   "metadata": {
    "collapsed": true
   },
   "outputs": [],
   "source": [
    "# Returns the Pearson correlation score between user1 and user2 \n",
    "def pearson_score(dataset, user1, user2,ret_share=False):\n",
    "    # Check to make sure both users in dataset\n",
    "    if not (user1 in dataset.columns and user2 in dataset.columns):\n",
    "        raise TypeError('Either user1 or user2 is not present in dataset')\n",
    "    # Find movies rate by both user1 and user2\n",
    "    shared_movies = dataset.loc[(dataset[user1].notnull()) & (dataset[user2].notnull())].index.values\n",
    "\n",
    "    # If no shared movies then no similarity\n",
    "    if len(shared_movies) == 0:\n",
    "        return 0\n",
    "    \n",
    "    num_ratings = len(shared_movies)\n",
    "    scores = dataset.ix[shared_movies][[user1,user2]]\n",
    "    \n",
    "    # Compute the sum of ratings of all the common preferences \n",
    "    user1_sum = np.sum(scores[user1],axis=0)\n",
    "    user2_sum = np.sum(scores[user2],axis=0)\n",
    "    \n",
    "    # Compute the sum of squared ratings of all the common preferences \n",
    "    user1_squared_sum = np.sum(np.square(scores[user1]),axis=0)\n",
    "    user2_squared_sum = np.sum(np.square(scores[user2]),axis=0)\n",
    "    \n",
    "    # Compute the sum of products of the common ratings \n",
    "    product_sum = np.sum(scores[user1]*scores[user2],axis=0)\n",
    "    \n",
    "    # Compute the Pearson correlation\n",
    "    Sxy = product_sum - (user1_sum * user2_sum / num_ratings)\n",
    "    Sxx = user1_squared_sum - np.square(user1_sum)/ num_ratings\n",
    "    Syy = user2_squared_sum - np.square(user2_sum)/ num_ratings\n",
    "    \n",
    "    # Return shared movies if wanted along with Pearson score\n",
    "    if ret_share:\n",
    "        if Sxx * Syy == 0:\n",
    "            return 0, shared_movies\n",
    "        return Sxy / np.sqrt(Sxx * Syy), shared_movies\n",
    "    else:\n",
    "        if Sxx * Syy == 0:\n",
    "            return 0\n",
    "        return Sxy / np.sqrt(Sxx * Syy)"
   ]
  },
  {
   "cell_type": "code",
   "execution_count": 29,
   "metadata": {
    "collapsed": false
   },
   "outputs": [
    {
     "data": {
      "text/html": [
       "<div>\n",
       "<table border=\"1\" class=\"dataframe\">\n",
       "  <thead>\n",
       "    <tr style=\"text-align: right;\">\n",
       "      <th></th>\n",
       "      <th>William Reynolds</th>\n",
       "      <th>Michael Henry</th>\n",
       "    </tr>\n",
       "  </thead>\n",
       "  <tbody>\n",
       "    <tr>\n",
       "      <th>Anger Management</th>\n",
       "      <td>NaN</td>\n",
       "      <td>NaN</td>\n",
       "    </tr>\n",
       "    <tr>\n",
       "      <th>Fracture</th>\n",
       "      <td>3.5</td>\n",
       "      <td>4.0</td>\n",
       "    </tr>\n",
       "    <tr>\n",
       "      <th>Inception</th>\n",
       "      <td>2.5</td>\n",
       "      <td>NaN</td>\n",
       "    </tr>\n",
       "    <tr>\n",
       "      <th>Jerry Maguire</th>\n",
       "      <td>4.0</td>\n",
       "      <td>NaN</td>\n",
       "    </tr>\n",
       "    <tr>\n",
       "      <th>Pulp Fiction</th>\n",
       "      <td>3.0</td>\n",
       "      <td>4.5</td>\n",
       "    </tr>\n",
       "    <tr>\n",
       "      <th>Serendipity</th>\n",
       "      <td>NaN</td>\n",
       "      <td>1.0</td>\n",
       "    </tr>\n",
       "  </tbody>\n",
       "</table>\n",
       "</div>"
      ],
      "text/plain": [
       "                  William Reynolds  Michael Henry\n",
       "Anger Management               NaN            NaN\n",
       "Fracture                       3.5            4.0\n",
       "Inception                      2.5            NaN\n",
       "Jerry Maguire                  4.0            NaN\n",
       "Pulp Fiction                   3.0            4.5\n",
       "Serendipity                    NaN            1.0"
      ]
     },
     "metadata": {},
     "output_type": "display_data"
    },
    {
     "name": "stdout",
     "output_type": "stream",
     "text": [
      "Pearson correlation score:  -1.0\n"
     ]
    }
   ],
   "source": [
    "# Calculate pearson distance for two users\n",
    "user1='William Reynolds'\n",
    "user2='Michael Henry'\n",
    "display( ratingsdf[[user1,user2]].head(10) )\n",
    "print('Pearson correlation score: ', pearson_score(ratingsdf,user1,user2))"
   ]
  },
  {
   "cell_type": "markdown",
   "metadata": {},
   "source": [
    "## 5.7 Finding similar users in the dataset <a class=\"anchor\" id=\"similar\"></a>\n",
    "\n",
    "One of the most important tasks in building recommendation engine is finding users that are similar. We will use the movie ratings dataset and the Pearson Score in the last section.\n",
    "\n",
    "Below we have a function that takes a given user and then finds the top *k* other users that are similar to the input user:"
   ]
  },
  {
   "cell_type": "code",
   "execution_count": 30,
   "metadata": {
    "collapsed": false
   },
   "outputs": [],
   "source": [
    "# Finds a specified number of users who are similar to the input user\n",
    "def find_similar_users(dataset,user,num_users):\n",
    "    if not (user in dataset.columns):\n",
    "        raise TypeError('User is not present in dataset')\n",
    "    # Compute Pearson scores for all users \n",
    "    allusers = dataset.drop([user],axis=1).columns\n",
    "    allusers = allusers.values\n",
    "    pearson = []; shared_movies = []\n",
    "    for user2 in allusers:\n",
    "        ps,sm = pearson_score(dataset,user,user2,ret_share=True)\n",
    "        pearson.append(ps);shared_movies.append(sm)\n",
    "    scores = pd.DataFrame({'users':allusers,'scores':pearson,'sharemovs':shared_movies}).sort_values(by='scores',ascending=False)\n",
    "    # If num_users is not 'all' grab the top k scores\n",
    "    if num_users is not 'all':\n",
    "        scores = scores[:num_users]\n",
    "    return scores"
   ]
  },
  {
   "cell_type": "markdown",
   "metadata": {},
   "source": [
    "### Finding similar users \n",
    "\n",
    "Now we want to find 3 similar users to 'John Carson', it also displays the shared movies in one column:"
   ]
  },
  {
   "cell_type": "code",
   "execution_count": 31,
   "metadata": {
    "collapsed": false
   },
   "outputs": [
    {
     "name": "stdout",
     "output_type": "stream",
     "text": [
      "Top 3 users similar to  John Carson\n"
     ]
    },
    {
     "data": {
      "text/html": [
       "<div>\n",
       "<table border=\"1\" class=\"dataframe\">\n",
       "  <thead>\n",
       "    <tr style=\"text-align: right;\">\n",
       "      <th></th>\n",
       "      <th>scores</th>\n",
       "      <th>sharemovs</th>\n",
       "      <th>users</th>\n",
       "    </tr>\n",
       "  </thead>\n",
       "  <tbody>\n",
       "    <tr>\n",
       "      <th>3</th>\n",
       "      <td>0.991241</td>\n",
       "      <td>[Fracture, Pulp Fiction, Serendipity]</td>\n",
       "      <td>Michael Henry</td>\n",
       "    </tr>\n",
       "    <tr>\n",
       "      <th>0</th>\n",
       "      <td>0.747018</td>\n",
       "      <td>[Fracture, Inception, Jerry Maguire, Pulp Fict...</td>\n",
       "      <td>Alex Roberts</td>\n",
       "    </tr>\n",
       "    <tr>\n",
       "      <th>2</th>\n",
       "      <td>0.594089</td>\n",
       "      <td>[Anger Management, Fracture, Inception, Jerry ...</td>\n",
       "      <td>Melissa Jones</td>\n",
       "    </tr>\n",
       "  </tbody>\n",
       "</table>\n",
       "</div>"
      ],
      "text/plain": [
       "     scores                                          sharemovs          users\n",
       "3  0.991241              [Fracture, Pulp Fiction, Serendipity]  Michael Henry\n",
       "0  0.747018  [Fracture, Inception, Jerry Maguire, Pulp Fict...   Alex Roberts\n",
       "2  0.594089  [Anger Management, Fracture, Inception, Jerry ...  Melissa Jones"
      ]
     },
     "execution_count": 31,
     "metadata": {},
     "output_type": "execute_result"
    }
   ],
   "source": [
    "user='John Carson'\n",
    "scores = find_similar_users(ratingsdf,user,3)\n",
    "print('Top 3 users similar to ', user)\n",
    "scores.head()"
   ]
  },
  {
   "cell_type": "markdown",
   "metadata": {},
   "source": [
    "## 5.8 Generating movie recommendations <a class=\"anchor\" id=\"movies\"></a>\n",
    "\n",
    "Now that we have built all the different parts, we can generate movie recommendations. \n",
    "\n",
    "Define a function to generate movie recommendations for a given user. It uses the similarity (Pearson score) to weight movie ratings from users for movies a given user has not seen."
   ]
  },
  {
   "cell_type": "code",
   "execution_count": 32,
   "metadata": {
    "collapsed": false
   },
   "outputs": [],
   "source": [
    "# Generate movie recommendations for a user\n",
    "def generate_recommendations(dataset,user):\n",
    "    # Make sure user is in dataset\n",
    "    if not (user in dataset.columns):\n",
    "        raise TypeError('User is not present in dataset')\n",
    "    # Find Pearson scores of user with all other users\n",
    "    scores = find_similar_users(dataset,user,num_users='all')\n",
    "    # Find which movies user has not rated\n",
    "    unseenmovs = dataset.loc[dataset[user].isnull() ].index.values\n",
    "    if len(unseenmovs) == 0:\n",
    "        raise TypeError('User has seen all movies, no recommendation possible')\n",
    "    \n",
    "    # Use Pearson (Similarity Score) to multiply the ranked choices for each user\n",
    "    # Create ranking dataset from movies\n",
    "    rankDF = pd.DataFrame(data=0, columns=['total_score','similarity_sums'],index=unseenmovs)\n",
    "    # Multiply dataset through by scores\n",
    "    #Remove users with similarity <=0 \n",
    "    scores = scores.ix[scores.scores>0]\n",
    "    weightdata = dataset.loc[unseenmovs,scores.users]\n",
    "    for user2 in scores.users: weightdata[user2] = weightdata[user2] * scores.loc[scores.users==user2,'scores'].values[0]\n",
    "    for movie in unseenmovs:        \n",
    "        rankDF.ix[movie,'total_score']     = weightdata.ix[movie].sum()\n",
    "        users2drop =  weightdata.ix[movie].isnull().values\n",
    "        rankDF.ix[movie,'similarity_sums'] = scores.ix[~users2drop,:].scores.sum()\n",
    "    rankDF['score'] = rankDF.total_score/rankDF.similarity_sums\n",
    "    \n",
    "    return rankDF.sort_values(by='score',ascending=False).score "
   ]
  },
  {
   "cell_type": "code",
   "execution_count": 33,
   "metadata": {
    "collapsed": false
   },
   "outputs": [
    {
     "name": "stdout",
     "output_type": "stream",
     "text": [
      "Recommendations for Michael Henry:\n",
      " Jerry Maguire       3.347790\n",
      "Inception           2.832550\n",
      "Anger Management    2.530981\n",
      "Name: score, dtype: float64\n"
     ]
    }
   ],
   "source": [
    "print('Recommendations for Michael Henry:\\n',generate_recommendations(ratingsdf,'Michael Henry'))"
   ]
  }
 ],
 "metadata": {
  "kernelspec": {
   "display_name": "Python 3",
   "language": "python",
   "name": "python3"
  },
  "language_info": {
   "codemirror_mode": {
    "name": "ipython",
    "version": 3
   },
   "file_extension": ".py",
   "mimetype": "text/x-python",
   "name": "python",
   "nbconvert_exporter": "python",
   "pygments_lexer": "ipython3",
   "version": "3.6.0"
  }
 },
 "nbformat": 4,
 "nbformat_minor": 2
}
