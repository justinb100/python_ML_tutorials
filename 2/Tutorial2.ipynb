{
 "cells": [
  {
   "cell_type": "markdown",
   "metadata": {},
   "source": [
    "# Tutorial 2. Constructing classifiers \n",
    "\n",
    "In this notebook we will cover the following:\n",
    "\n",
    "1. [Building a simple classifier](#simple)\n",
    "2. [Building a logistic regression classifier](#logistic)\n",
    "3. [Building a Naive Bayes classifier](#nbayes)\n",
    "4. [Splitting dataset for training/testing](#split)\n",
    "5. [Evaluating accuracy using cross-validation](#crossval)\n",
    "6. [Visualizing the confusion matrix](#confusion)\n",
    "7. [Extracting the performance report](#report)\n",
    "8. [Evaluaating cars based on their characteristics](#cars)\n",
    "9. [Extracting validation curves](#valid)\n",
    "10. [Extracting learning curves](#learning)\n",
    "11. [Estimating the income bracket](#income)\n",
    "\n",
    "In machine learning, classification is the process of using data characteristics to separate it into different classes. Different from regression, where the output is a real number, a supervised learning classifier builds a model using labeled training data to classify unknown data. Classification can be binary, separate data into two classes or multiclass, where more than 2 classes."
   ]
  },
  {
   "cell_type": "code",
   "execution_count": 1,
   "metadata": {
    "collapsed": false
   },
   "outputs": [],
   "source": [
    "import numpy as np # linear algebra\n",
    "import pandas as pd # data processing, CSV file I/O (e.g. pd.read_csv)\n",
    "from IPython.display import display\n",
    "import seaborn as sns\n",
    "import matplotlib\n",
    "%matplotlib inline\n",
    "import matplotlib.pylab as plt"
   ]
  },
  {
   "cell_type": "markdown",
   "metadata": {},
   "source": [
    "## 2.1 Building a simple classifier <a class=\"anchor\" id=\"simple\"></a>"
   ]
  },
  {
   "cell_type": "code",
   "execution_count": 2,
   "metadata": {
    "collapsed": false
   },
   "outputs": [
    {
     "data": {
      "text/html": [
       "<div>\n",
       "<table border=\"1\" class=\"dataframe\">\n",
       "  <thead>\n",
       "    <tr style=\"text-align: right;\">\n",
       "      <th></th>\n",
       "      <th>x1</th>\n",
       "      <th>x2</th>\n",
       "      <th>y</th>\n",
       "    </tr>\n",
       "  </thead>\n",
       "  <tbody>\n",
       "    <tr>\n",
       "      <th>0</th>\n",
       "      <td>3</td>\n",
       "      <td>1</td>\n",
       "      <td>0</td>\n",
       "    </tr>\n",
       "    <tr>\n",
       "      <th>1</th>\n",
       "      <td>2</td>\n",
       "      <td>5</td>\n",
       "      <td>1</td>\n",
       "    </tr>\n",
       "    <tr>\n",
       "      <th>2</th>\n",
       "      <td>1</td>\n",
       "      <td>8</td>\n",
       "      <td>1</td>\n",
       "    </tr>\n",
       "    <tr>\n",
       "      <th>3</th>\n",
       "      <td>6</td>\n",
       "      <td>4</td>\n",
       "      <td>0</td>\n",
       "    </tr>\n",
       "    <tr>\n",
       "      <th>4</th>\n",
       "      <td>5</td>\n",
       "      <td>2</td>\n",
       "      <td>0</td>\n",
       "    </tr>\n",
       "  </tbody>\n",
       "</table>\n",
       "</div>"
      ],
      "text/plain": [
       "   x1  x2  y\n",
       "0   3   1  0\n",
       "1   2   5  1\n",
       "2   1   8  1\n",
       "3   6   4  0\n",
       "4   5   2  0"
      ]
     },
     "execution_count": 2,
     "metadata": {},
     "output_type": "execute_result"
    }
   ],
   "source": [
    "data = pd.DataFrame([[3,1],[2,5],[1,8],[6,4],[5,2],[3,5],[4,7],[4,-1]],columns=['x1','x2'])\n",
    "data['y'] = [0,1,1,0,0,1,1,0] \n",
    "data.head()"
   ]
  },
  {
   "cell_type": "markdown",
   "metadata": {},
   "source": [
    "Separate data based on whether y=0 or y=1 and visualize with a scatter plot"
   ]
  },
  {
   "cell_type": "code",
   "execution_count": 3,
   "metadata": {
    "collapsed": false
   },
   "outputs": [
    {
     "data": {
      "text/plain": [
       "<seaborn.axisgrid.FacetGrid at 0x1058317f0>"
      ]
     },
     "execution_count": 3,
     "metadata": {},
     "output_type": "execute_result"
    },
    {
     "data": {
      "image/png": "[encoded data removed]",
      "text/plain": [
       "<matplotlib.figure.Figure at 0x105831e10>"
      ]
     },
     "metadata": {},
     "output_type": "display_data"
    }
   ],
   "source": [
    "sns.lmplot(\"x1\", \"x2\", data=data, hue='y', fit_reg=False)"
   ]
  },
  {
   "cell_type": "markdown",
   "metadata": {},
   "source": [
    "We can see the points are separated in different regions, we can draw a line in-between them."
   ]
  },
  {
   "cell_type": "code",
   "execution_count": 4,
   "metadata": {
    "collapsed": false
   },
   "outputs": [
    {
     "data": {
      "text/plain": [
       "[<matplotlib.lines.Line2D at 0x1120f6780>]"
      ]
     },
     "execution_count": 4,
     "metadata": {},
     "output_type": "execute_result"
    },
    {
     "data": {
      "image/png": "[encoded data removed]",
      "text/plain": [
       "<matplotlib.figure.Figure at 0x1121a82e8>"
      ]
     },
     "metadata": {},
     "output_type": "display_data"
    }
   ],
   "source": [
    "sns.lmplot(\"x1\", \"x2\", data=data, hue='y', fit_reg=False)\n",
    "plt.plot(range(10),range(10),'k')"
   ]
  },
  {
   "cell_type": "markdown",
   "metadata": {},
   "source": [
    "The above is an example of simple classifier based on the data we have, follows the rule that if we have apoint (a,b) if a > b then it lies in y=0 and if a < b it lies in y=1. This is called a **linear classifier** since the separating line is straight and not curved."
   ]
  },
  {
   "cell_type": "markdown",
   "metadata": {},
   "source": [
    "## 2.2 Building a logistic regression classifier <a class=\"anchor\" id=\"logistic\"></a>\n",
    "Given a data set of points, the goal is to build a model that can draw linear boundaries between the classes. It extracts these boundaries by solving a set of equations derived from the training data."
   ]
  },
  {
   "cell_type": "code",
   "execution_count": 5,
   "metadata": {
    "collapsed": false
   },
   "outputs": [
    {
     "data": {
      "text/html": [
       "<div>\n",
       "<table border=\"1\" class=\"dataframe\">\n",
       "  <thead>\n",
       "    <tr style=\"text-align: right;\">\n",
       "      <th></th>\n",
       "      <th>x1</th>\n",
       "      <th>x2</th>\n",
       "      <th>y</th>\n",
       "    </tr>\n",
       "  </thead>\n",
       "  <tbody>\n",
       "    <tr>\n",
       "      <th>0</th>\n",
       "      <td>4.0</td>\n",
       "      <td>7.0</td>\n",
       "      <td>0</td>\n",
       "    </tr>\n",
       "    <tr>\n",
       "      <th>1</th>\n",
       "      <td>3.5</td>\n",
       "      <td>8.0</td>\n",
       "      <td>0</td>\n",
       "    </tr>\n",
       "    <tr>\n",
       "      <th>2</th>\n",
       "      <td>3.1</td>\n",
       "      <td>6.2</td>\n",
       "      <td>0</td>\n",
       "    </tr>\n",
       "    <tr>\n",
       "      <th>3</th>\n",
       "      <td>0.5</td>\n",
       "      <td>1.0</td>\n",
       "      <td>1</td>\n",
       "    </tr>\n",
       "    <tr>\n",
       "      <th>4</th>\n",
       "      <td>1.0</td>\n",
       "      <td>2.0</td>\n",
       "      <td>1</td>\n",
       "    </tr>\n",
       "  </tbody>\n",
       "</table>\n",
       "</div>"
      ],
      "text/plain": [
       "    x1   x2  y\n",
       "0  4.0  7.0  0\n",
       "1  3.5  8.0  0\n",
       "2  3.1  6.2  0\n",
       "3  0.5  1.0  1\n",
       "4  1.0  2.0  1"
      ]
     },
     "execution_count": 5,
     "metadata": {},
     "output_type": "execute_result"
    }
   ],
   "source": [
    "from sklearn import linear_model\n",
    "\n",
    "data = pd.DataFrame([[4,7],[3.5,8],[3.1,6.2],[0.5,1],[1,2],[1.2,1.9],[6,2],[5.7,1.5],[5.4,2.2]],columns=['x1','x2'])\n",
    "data['y'] = [0,0,0,1,1,1,2,2,2]\n",
    "data.head()"
   ]
  },
  {
   "cell_type": "markdown",
   "metadata": {},
   "source": [
    "Visualize the data as before in a scatter plot, we see below there are 3 regions where the different classes are grouped together"
   ]
  },
  {
   "cell_type": "code",
   "execution_count": 6,
   "metadata": {
    "collapsed": false
   },
   "outputs": [
    {
     "data": {
      "text/plain": [
       "<seaborn.axisgrid.FacetGrid at 0x11219df28>"
      ]
     },
     "execution_count": 6,
     "metadata": {},
     "output_type": "execute_result"
    },
    {
     "data": {
      "image/png": "[encoded data removed]",
      "text/plain": [
       "<matplotlib.figure.Figure at 0x112352940>"
      ]
     },
     "metadata": {},
     "output_type": "display_data"
    }
   ],
   "source": [
    "sns.lmplot(\"x1\", \"x2\", data=data, hue='y', fit_reg=False)"
   ]
  },
  {
   "cell_type": "markdown",
   "metadata": {},
   "source": [
    "### Logistic Regression Classifier\n",
    "In the classifier below the parameters we use are *solver* which specifies the type of sovler that algorithm will use, and *C* controls the regularization strength where a higher value indicates a higher regularization strength."
   ]
  },
  {
   "cell_type": "code",
   "execution_count": 7,
   "metadata": {
    "collapsed": false
   },
   "outputs": [
    {
     "data": {
      "text/plain": [
       "LogisticRegression(C=100, class_weight=None, dual=False, fit_intercept=True,\n",
       "          intercept_scaling=1, max_iter=100, multi_class='ovr', n_jobs=1,\n",
       "          penalty='l2', random_state=None, solver='liblinear', tol=0.0001,\n",
       "          verbose=0, warm_start=False)"
      ]
     },
     "execution_count": 7,
     "metadata": {},
     "output_type": "execute_result"
    }
   ],
   "source": [
    "classifier = linear_model.LogisticRegression(solver='liblinear',C=100)\n",
    "classifier.fit(data[['x1','x2']],data['y'])"
   ]
  },
  {
   "cell_type": "markdown",
   "metadata": {},
   "source": [
    "Plot the boundary using the minimum/maximum from the input data, we're going to make this a function since will call on it later"
   ]
  },
  {
   "cell_type": "code",
   "execution_count": 8,
   "metadata": {
    "collapsed": false
   },
   "outputs": [
    {
     "data": {
      "text/plain": [
       "<matplotlib.collections.QuadMesh at 0x112ca8208>"
      ]
     },
     "execution_count": 8,
     "metadata": {},
     "output_type": "execute_result"
    },
    {
     "data": {
      "image/png": "[encoded data removed]",
      "text/plain": [
       "<matplotlib.figure.Figure at 0x112ca8a20>"
      ]
     },
     "metadata": {},
     "output_type": "display_data"
    }
   ],
   "source": [
    "def classifier_boundary_2d(classifier,X):\n",
    "    step_size = 0.01\n",
    "    maxs  = X.max()\n",
    "    mins  = X.min()\n",
    "    x1,x2 = np.meshgrid(np.arange(mins.x1 -1,maxs.x1+1,step_size), np.arange(mins.x2-1,maxs.x2+1,step_size))\n",
    "    output = classifier.predict(np.c_[x1.ravel(),x2.ravel()])\n",
    "    output = output.reshape(x1.shape)\n",
    "    return x1,x2,output\n",
    "\n",
    "# Boundary\n",
    "X = data[['x1','x2']];Y = data['y']\n",
    "x1,x2,output = classifier_boundary_2d(classifier,X)\n",
    "sns.lmplot(\"x1\", \"x2\", data=data, hue='y', fit_reg=False)\n",
    "plt.pcolormesh(x1,x2,output,cmap=plt.cm.gray,zorder=0)"
   ]
  },
  {
   "cell_type": "markdown",
   "metadata": {},
   "source": [
    "Let's play around with the regularization parameter *C*, decreasing it weakens the regularization"
   ]
  },
  {
   "cell_type": "code",
   "execution_count": 9,
   "metadata": {
    "collapsed": false
   },
   "outputs": [
    {
     "data": {
      "text/plain": [
       "<matplotlib.collections.QuadMesh at 0x105505e48>"
      ]
     },
     "execution_count": 9,
     "metadata": {},
     "output_type": "execute_result"
    },
    {
     "data": {
      "image/png": "[encoded data removed]",
      "text/plain": [
       "<matplotlib.figure.Figure at 0x1121d1908>"
      ]
     },
     "metadata": {},
     "output_type": "display_data"
    }
   ],
   "source": [
    "classifier = linear_model.LogisticRegression(solver='liblinear',C=1)\n",
    "classifier.fit(data[['x1','x2']],data['y'])\n",
    "#Plot\n",
    "output = classifier.predict(np.c_[x1.ravel(),x2.ravel()])\n",
    "output = output.reshape(x1.shape)\n",
    "\n",
    "sns.lmplot(\"x1\", \"x2\", data=data, hue='y', fit_reg=False)\n",
    "plt.pcolormesh(x1,x2,output,cmap=plt.cm.gray,zorder=0)"
   ]
  },
  {
   "cell_type": "markdown",
   "metadata": {},
   "source": [
    "Above seems to overfit the data, and is not optimal let's try larger one"
   ]
  },
  {
   "cell_type": "code",
   "execution_count": 10,
   "metadata": {
    "collapsed": false
   },
   "outputs": [
    {
     "data": {
      "text/plain": [
       "<matplotlib.collections.QuadMesh at 0x112a85b70>"
      ]
     },
     "execution_count": 10,
     "metadata": {},
     "output_type": "execute_result"
    },
    {
     "data": {
      "image/png": "[encoded data removed]",
      "text/plain": [
       "<matplotlib.figure.Figure at 0x116ed9710>"
      ]
     },
     "metadata": {},
     "output_type": "display_data"
    }
   ],
   "source": [
    "classifier = linear_model.LogisticRegression(solver='liblinear',C=1000000)\n",
    "classifier.fit(data.drop(['y'],axis=1),data['y'])\n",
    "#Plot\n",
    "output = classifier.predict(np.c_[x1.ravel(),x2.ravel()])\n",
    "output = output.reshape(x1.shape)\n",
    "\n",
    "sns.lmplot(\"x1\", \"x2\", data=data, hue='y', fit_reg=False)\n",
    "plt.pcolormesh(x1,x2,output,cmap=plt.cm.gray,zorder=0)"
   ]
  },
  {
   "cell_type": "markdown",
   "metadata": {},
   "source": [
    "This looks a bit better."
   ]
  },
  {
   "cell_type": "markdown",
   "metadata": {},
   "source": [
    "## 2.3 Building a Naive Bayes classifier<a class=\"anchor\" id=\"nbayes\"></a>\n",
    "Naive Bayes classifier is a supervised learning classifier that uses Bayes' theorem to build the model. Use the data file *data_vultivar.txt* for this."
   ]
  },
  {
   "cell_type": "code",
   "execution_count": 11,
   "metadata": {
    "collapsed": false
   },
   "outputs": [
    {
     "data": {
      "text/html": [
       "<div>\n",
       "<table border=\"1\" class=\"dataframe\">\n",
       "  <thead>\n",
       "    <tr style=\"text-align: right;\">\n",
       "      <th></th>\n",
       "      <th>x1</th>\n",
       "      <th>x2</th>\n",
       "      <th>y</th>\n",
       "    </tr>\n",
       "  </thead>\n",
       "  <tbody>\n",
       "    <tr>\n",
       "      <th>0</th>\n",
       "      <td>8.73</td>\n",
       "      <td>0.31</td>\n",
       "      <td>2</td>\n",
       "    </tr>\n",
       "    <tr>\n",
       "      <th>1</th>\n",
       "      <td>4.71</td>\n",
       "      <td>-0.42</td>\n",
       "      <td>3</td>\n",
       "    </tr>\n",
       "    <tr>\n",
       "      <th>2</th>\n",
       "      <td>4.58</td>\n",
       "      <td>6.18</td>\n",
       "      <td>1</td>\n",
       "    </tr>\n",
       "    <tr>\n",
       "      <th>3</th>\n",
       "      <td>9.38</td>\n",
       "      <td>2.18</td>\n",
       "      <td>2</td>\n",
       "    </tr>\n",
       "    <tr>\n",
       "      <th>4</th>\n",
       "      <td>4.78</td>\n",
       "      <td>5.28</td>\n",
       "      <td>1</td>\n",
       "    </tr>\n",
       "  </tbody>\n",
       "</table>\n",
       "</div>"
      ],
      "text/plain": [
       "     x1    x2  y\n",
       "0  8.73  0.31  2\n",
       "1  4.71 -0.42  3\n",
       "2  4.58  6.18  1\n",
       "3  9.38  2.18  2\n",
       "4  4.78  5.28  1"
      ]
     },
     "execution_count": 11,
     "metadata": {},
     "output_type": "execute_result"
    }
   ],
   "source": [
    "from sklearn.naive_bayes import GaussianNB\n",
    "\n",
    "data = pd.read_csv('data_multivar.txt',names=['x1','x2','y'])\n",
    "data.head()"
   ]
  },
  {
   "cell_type": "markdown",
   "metadata": {},
   "source": [
    "As always good to plot the data first"
   ]
  },
  {
   "cell_type": "code",
   "execution_count": 12,
   "metadata": {
    "collapsed": false
   },
   "outputs": [
    {
     "data": {
      "text/plain": [
       "<seaborn.axisgrid.FacetGrid at 0x11d51be48>"
      ]
     },
     "execution_count": 12,
     "metadata": {},
     "output_type": "execute_result"
    },
    {
     "data": {
      "image/png": "[encoded data removed]",
      "text/plain": [
       "<matplotlib.figure.Figure at 0x11d53fe48>"
      ]
     },
     "metadata": {},
     "output_type": "display_data"
    }
   ],
   "source": [
    "sns.lmplot(\"x1\", \"x2\", data=data, hue='y', fit_reg=False)"
   ]
  },
  {
   "cell_type": "markdown",
   "metadata": {},
   "source": [
    "From the above we can see there are 4 classes, and they appear to cluster distinctly in 4 regions shown. Let's build a Naive Bayes classifier for this data, and then compute the accuracy of the model."
   ]
  },
  {
   "cell_type": "code",
   "execution_count": 13,
   "metadata": {
    "collapsed": false
   },
   "outputs": [
    {
     "name": "stdout",
     "output_type": "stream",
     "text": [
      "Accuracy of NB classifier = 99.5\n"
     ]
    }
   ],
   "source": [
    "classifier_nb = GaussianNB()\n",
    "classifier_nb.fit(data.drop(['y'],axis=1),data.y)\n",
    "y_pred = classifier_nb.predict(data.drop(['y'],axis=1))\n",
    "# Accuracy \n",
    "accuracy = 100.*(data.y == y_pred).sum()/data.drop(['y'],axis=1).shape[0]\n",
    "print('Accuracy of NB classifier =', accuracy)"
   ]
  },
  {
   "cell_type": "markdown",
   "metadata": {},
   "source": [
    "Let's make a plot like before"
   ]
  },
  {
   "cell_type": "code",
   "execution_count": 14,
   "metadata": {
    "collapsed": false
   },
   "outputs": [
    {
     "data": {
      "text/plain": [
       "<matplotlib.collections.QuadMesh at 0x112b94b00>"
      ]
     },
     "execution_count": 14,
     "metadata": {},
     "output_type": "execute_result"
    },
    {
     "data": {
      "image/png": "[encoded data removed]",
      "text/plain": [
       "<matplotlib.figure.Figure at 0x11af773c8>"
      ]
     },
     "metadata": {},
     "output_type": "display_data"
    }
   ],
   "source": [
    "sns.lmplot(\"x1\", \"x2\", data=data, hue='y', fit_reg=False)\n",
    "x1,x2,output = classifier_boundary_2d(classifier_nb,data.drop(['y'],axis=1))\n",
    "plt.pcolormesh(x1,x2,output,cmap=plt.cm.gray,zorder=0)"
   ]
  },
  {
   "cell_type": "markdown",
   "metadata": {},
   "source": [
    "Can see that the classifier does a very good job on the training data, but how well will it do on unknown data? There is no restriction on the boundaries to be linear here."
   ]
  },
  {
   "cell_type": "markdown",
   "metadata": {},
   "source": [
    "## 2.4 Splitting dataset for training/testing <a class=\"anchor\" id=\"split\"></a>\n",
    "Here we will split our data (same as in the previous section) into training and testing datasets"
   ]
  },
  {
   "cell_type": "code",
   "execution_count": 15,
   "metadata": {
    "collapsed": false
   },
   "outputs": [
    {
     "name": "stderr",
     "output_type": "stream",
     "text": [
      "/anaconda/lib/python3.6/site-packages/sklearn/cross_validation.py:44: DeprecationWarning: This module was deprecated in version 0.18 in favor of the model_selection module into which all the refactored classes and functions are moved. Also note that the interface of the new CV iterators are different from that of this module. This module will be removed in 0.20.\n",
      "  \"This module will be removed in 0.20.\", DeprecationWarning)\n"
     ]
    }
   ],
   "source": [
    "from sklearn import cross_validation\n",
    "\n",
    "X = data.drop(['y'],axis=1); Y = data.y\n",
    "Xtrain,Xtest,Ytrain,Ytest = cross_validation.train_test_split(X,Y,test_size=0.25,random_state=5)"
   ]
  },
  {
   "cell_type": "markdown",
   "metadata": {},
   "source": [
    "25% of data is now used for testing, let's repeat the previous section but for training data to fit the model."
   ]
  },
  {
   "cell_type": "code",
   "execution_count": 16,
   "metadata": {
    "collapsed": false
   },
   "outputs": [
    {
     "name": "stdout",
     "output_type": "stream",
     "text": [
      "Accuracy of test data: 98.0\n"
     ]
    }
   ],
   "source": [
    "classifier_nb_new = GaussianNB()\n",
    "classifier_nb_new.fit(Xtrain,Ytrain)\n",
    "Ypred_test = classifier_nb_new.predict(Xtest)\n",
    "# Accuracy\n",
    "accuracy = 100.*(Ytest == Ypred_test).sum()/Xtest.shape[0]\n",
    "print('Accuracy of test data:',accuracy)"
   ]
  },
  {
   "cell_type": "markdown",
   "metadata": {},
   "source": [
    "Can see it dropped about 1.5% compared to before. So let's plot the boundary and only the test data now."
   ]
  },
  {
   "cell_type": "code",
   "execution_count": 17,
   "metadata": {
    "collapsed": false
   },
   "outputs": [
    {
     "data": {
      "text/plain": [
       "<matplotlib.collections.QuadMesh at 0x11ed69630>"
      ]
     },
     "execution_count": 17,
     "metadata": {},
     "output_type": "execute_result"
    },
    {
     "data": {
      "image/png": "[encoded data removed]",
      "text/plain": [
       "<matplotlib.figure.Figure at 0x11ed69240>"
      ]
     },
     "metadata": {},
     "output_type": "display_data"
    }
   ],
   "source": [
    "datatest = pd.DataFrame(Xtest);datatest['y'] = Ytest\n",
    "sns.lmplot(\"x1\", \"x2\", data=datatest, hue='y', fit_reg=False)\n",
    "x1,x2,output = classifier_boundary_2d(classifier_nb_new,Xtrain)\n",
    "plt.pcolormesh(x1,x2,output,cmap=plt.cm.gray,zorder=0)"
   ]
  },
  {
   "cell_type": "markdown",
   "metadata": {},
   "source": [
    "In the above we see that the classifer does a reasonable job for the test data set."
   ]
  },
  {
   "cell_type": "markdown",
   "metadata": {},
   "source": [
    "## 2.5 Evaluating accuracy using cross-validation <a class=\"anchor\" id=\"crossval\"></a>\n",
    "**Cross-validation** is an important part of machine learning. A more robust validation than just separating into training and test, is to repeat this process with different subsets. Fine-tuning for a particular subset may lead to overfitting, and it will fail to perform well on another subset. \n",
    "\n",
    "When dealing with a classifier, there are different performance metrics when compared to regression:\n",
    "    - precision: number of items that are correctly classified as a percentage of the overall number of items\n",
    "    - recall: the number of items that are retrieved as a percentage of the overall number of items in the training list\n",
    "    - F1 score: 2*precision*recall/(precision+recall)\n",
    "\n",
    "Example: Want to classify items in dataset as interesting or not. 100 items in dataset, we use classifier to identify 82 items for us, classifier picks out 73 as items of interest, only 65 are actually of interest and 8 misclassified.\n",
    "\n",
    "    Precision:\n",
    "    - Correct identifications = 65 (true positives)\n",
    "    - Total number of identifications = 73 (true positives + false positives)\n",
    "    - Precision = 65/73 = 89%\n",
    "    \n",
    "The precision is intuitively the ability of the classifier not to label as positive a sample that is negative.\n",
    "\n",
    "    Recall:\n",
    "    - Total # of interesting items in the dataset = 82 (true positives + false negatives)\n",
    "    - Number of items retrieved correctly = 65 (true positives\n",
    "    - Recall = 65/82 = 79%\n",
    "\n",
    "The recall is intuitively the ability of the classifier to find all the positive samples.\n",
    "\n",
    "    F1 Score:\n",
    "    - F1_score = 0.84\n",
    "    \n",
    "### Cross validation on classifier in last section"
   ]
  },
  {
   "cell_type": "markdown",
   "metadata": {},
   "source": [
    "#### Accuracy"
   ]
  },
  {
   "cell_type": "code",
   "execution_count": 18,
   "metadata": {
    "collapsed": false
   },
   "outputs": [
    {
     "name": "stdout",
     "output_type": "stream",
     "text": [
      "[ 1.      1.      0.9875  1.      0.9875]\n",
      "mean= 0.995\n"
     ]
    }
   ],
   "source": [
    "num_validations = 5\n",
    "accuracy = cross_validation.cross_val_score(classifier_nb,X,Y,scoring='accuracy', cv=num_validations)\n",
    "print(accuracy)\n",
    "print('mean=',accuracy.mean())"
   ]
  },
  {
   "cell_type": "markdown",
   "metadata": {},
   "source": [
    "#### F1 Score"
   ]
  },
  {
   "cell_type": "code",
   "execution_count": 19,
   "metadata": {
    "collapsed": false
   },
   "outputs": [
    {
     "name": "stdout",
     "output_type": "stream",
     "text": [
      "[ 1.      1.      0.9875  1.      0.9875]\n",
      "mean= 0.994996873046\n"
     ]
    }
   ],
   "source": [
    "f1 = cross_validation.cross_val_score(classifier_nb,X,Y,scoring='f1_weighted', cv=num_validations)\n",
    "print(accuracy)\n",
    "print('mean=',f1.mean())"
   ]
  },
  {
   "cell_type": "markdown",
   "metadata": {},
   "source": [
    "#### Precision"
   ]
  },
  {
   "cell_type": "code",
   "execution_count": 20,
   "metadata": {
    "collapsed": false
   },
   "outputs": [
    {
     "name": "stdout",
     "output_type": "stream",
     "text": [
      "[ 1.          1.          0.98809524  1.          0.98809524]\n",
      "mean= 0.995238095238\n"
     ]
    }
   ],
   "source": [
    "precis = cross_validation.cross_val_score(classifier_nb,X,Y,scoring='precision_weighted', cv=num_validations)\n",
    "print(precis)\n",
    "print('mean=',precis.mean())"
   ]
  },
  {
   "cell_type": "markdown",
   "metadata": {},
   "source": [
    "#### Recall"
   ]
  },
  {
   "cell_type": "code",
   "execution_count": 21,
   "metadata": {
    "collapsed": false
   },
   "outputs": [
    {
     "name": "stdout",
     "output_type": "stream",
     "text": [
      "[ 1.      1.      0.9875  1.      0.9875]\n",
      "mean= 0.995\n"
     ]
    }
   ],
   "source": [
    "recall = cross_validation.cross_val_score(classifier_nb,X,Y,scoring='recall_weighted', cv=num_validations)\n",
    "print(recall)\n",
    "print('mean=',recall.mean())"
   ]
  },
  {
   "cell_type": "markdown",
   "metadata": {},
   "source": [
    "## 2.6 Visualizing the confusion matrix <a class=\"anchor\" id=\"confusion\"></a>\n",
    "Confusion matrix is a table that is commonly used to understand the performance of a classification model. Help identify which classes are being wronly classified."
   ]
  },
  {
   "cell_type": "code",
   "execution_count": 22,
   "metadata": {
    "collapsed": false
   },
   "outputs": [],
   "source": [
    "from sklearn.metrics import confusion_matrix\n",
    "# simple data\n",
    "y_true=[1,0,0,2,1,0,3,3,3]\n",
    "y_pred=[1,1,0,2,1,0,1,3,3]\n",
    "conf_mat = confusion_matrix(y_true,y_pred)"
   ]
  },
  {
   "cell_type": "markdown",
   "metadata": {},
   "source": [
    "Can see there are 4 classes in the simple data"
   ]
  },
  {
   "cell_type": "code",
   "execution_count": 23,
   "metadata": {
    "collapsed": true
   },
   "outputs": [],
   "source": [
    "# Visualization code taken from sklearn examples on confusion matrix\n",
    "import itertools\n",
    "def plot_confusion_matrix(cm, classes,\n",
    "                          normalize=False,\n",
    "                          title='Confusion matrix',\n",
    "                          cmap=plt.cm.Blues):\n",
    "    \"\"\"\n",
    "    This function prints and plots the confusion matrix.\n",
    "    Normalization can be applied by setting `normalize=True`.\n",
    "    \"\"\"\n",
    "    plt.imshow(cm, interpolation='nearest', cmap=cmap)\n",
    "    plt.title(title)\n",
    "    plt.colorbar()\n",
    "    tick_marks = np.arange(len(classes))\n",
    "    plt.xticks(tick_marks, classes, rotation=45)\n",
    "    plt.yticks(tick_marks, classes)\n",
    "\n",
    "    if normalize:\n",
    "        cm = cm.astype('float') / cm.sum(axis=1)[:, np.newaxis]\n",
    "        print(\"Normalized confusion matrix\")\n",
    "    else:\n",
    "        print('Confusion matrix, without normalization')\n",
    "\n",
    "    print(cm)\n",
    "\n",
    "    thresh = cm.max() / 2.\n",
    "    for i, j in itertools.product(range(cm.shape[0]), range(cm.shape[1])):\n",
    "        plt.text(j, i, cm[i, j],\n",
    "                 horizontalalignment=\"center\",\n",
    "                 color=\"white\" if cm[i, j] > thresh else \"black\")\n",
    "\n",
    "    plt.tight_layout()\n",
    "    plt.ylabel('True label')\n",
    "    plt.xlabel('Predicted label')"
   ]
  },
  {
   "cell_type": "code",
   "execution_count": 24,
   "metadata": {
    "collapsed": false
   },
   "outputs": [
    {
     "name": "stdout",
     "output_type": "stream",
     "text": [
      "Confusion matrix, without normalization\n",
      "[[2 1 0 0]\n",
      " [0 2 0 0]\n",
      " [0 0 1 0]\n",
      " [0 1 0 2]]\n"
     ]
    },
    {
     "data": {
      "image/png": "[encoded data removed]",
      "text/plain": [
       "<matplotlib.figure.Figure at 0x1051f9ba8>"
      ]
     },
     "metadata": {},
     "output_type": "display_data"
    }
   ],
   "source": [
    "plot_confusion_matrix(conf_mat,['class0','class1','class2','class3'])"
   ]
  },
  {
   "cell_type": "markdown",
   "metadata": {},
   "source": [
    "For a perfect model we would want the diagonals to be all strong."
   ]
  },
  {
   "cell_type": "markdown",
   "metadata": {},
   "source": [
    "Now let's use the classifier from 2.4 to make a confusion matrix"
   ]
  },
  {
   "cell_type": "code",
   "execution_count": 25,
   "metadata": {
    "collapsed": false
   },
   "outputs": [
    {
     "name": "stdout",
     "output_type": "stream",
     "text": [
      "Confusion matrix, without normalization\n",
      "[[23  0  0  0]\n",
      " [ 0 20  1  0]\n",
      " [ 0  0 34  0]\n",
      " [ 1  0  0 21]]\n"
     ]
    },
    {
     "data": {
      "image/png": "[encoded data removed]",
      "text/plain": [
       "<matplotlib.figure.Figure at 0x11345cdd8>"
      ]
     },
     "metadata": {},
     "output_type": "display_data"
    }
   ],
   "source": [
    "conf_mat2 = confusion_matrix(Ytest,Ypred_test)\n",
    "plot_confusion_matrix(conf_mat2,['class0','class1','class2','class3'])"
   ]
  },
  {
   "cell_type": "markdown",
   "metadata": {},
   "source": [
    "Can see that for the test data for Naive Bayes classifier it does a pretty good job."
   ]
  },
  {
   "cell_type": "markdown",
   "metadata": {},
   "source": [
    "## 2.7 Extracting a performance report  <a class=\"anchor\" id=\"report\"></a>\n",
    "There is a function in scikit-learn that can directly print the performance report of precison, recall, and F1. Let's apply it to the same Naive Bayes clasifier problem earlier for the test data\n"
   ]
  },
  {
   "cell_type": "code",
   "execution_count": 26,
   "metadata": {
    "collapsed": false
   },
   "outputs": [
    {
     "name": "stdout",
     "output_type": "stream",
     "text": [
      "             precision    recall  f1-score   support\n",
      "\n",
      "     class0       0.96      1.00      0.98        23\n",
      "     class1       1.00      0.95      0.98        21\n",
      "     class2       0.97      1.00      0.99        34\n",
      "     class3       1.00      0.95      0.98        22\n",
      "\n",
      "avg / total       0.98      0.98      0.98       100\n",
      "\n"
     ]
    }
   ],
   "source": [
    "from sklearn.metrics import classification_report\n",
    "classes = ['class0','class1','class2','class3']\n",
    "\n",
    "print(classification_report(Ytest,Ypred_test,target_names=classes))"
   ]
  },
  {
   "cell_type": "markdown",
   "metadata": {},
   "source": [
    "## 2.8 Evaluating cars based on their characteristics  <a class=\"anchor\" id=\"cars\"></a>\n",
    "Use classification for real-world problem. Dataset contains details on cars such as doors, trunck space, maintenance costs, etc. The target classification is the quality of the car:\n",
    "\n",
    "Class Values: \n",
    "\n",
    "unacc, acc, good, vgood \n",
    "\n",
    "Attributes: \n",
    "\n",
    "- buying: vhigh, high, med, low.\n",
    "- maint: vhigh, high, med, low. \n",
    "- doors: 2, 3, 4, 5more. \n",
    "- persons: 2, 4, more. \n",
    "- lug_boot: small, med, big. \n",
    "- safety: low, med, high. \n",
    "\n",
    "Load in dataset *car.data.txt*"
   ]
  },
  {
   "cell_type": "code",
   "execution_count": 27,
   "metadata": {
    "collapsed": false
   },
   "outputs": [
    {
     "data": {
      "text/html": [
       "<div>\n",
       "<table border=\"1\" class=\"dataframe\">\n",
       "  <thead>\n",
       "    <tr style=\"text-align: right;\">\n",
       "      <th></th>\n",
       "      <th>buying</th>\n",
       "      <th>maint</th>\n",
       "      <th>doors</th>\n",
       "      <th>persons</th>\n",
       "      <th>lugboot</th>\n",
       "      <th>safety</th>\n",
       "      <th>quality</th>\n",
       "    </tr>\n",
       "  </thead>\n",
       "  <tbody>\n",
       "    <tr>\n",
       "      <th>0</th>\n",
       "      <td>vhigh</td>\n",
       "      <td>vhigh</td>\n",
       "      <td>2</td>\n",
       "      <td>2</td>\n",
       "      <td>small</td>\n",
       "      <td>low</td>\n",
       "      <td>unacc</td>\n",
       "    </tr>\n",
       "    <tr>\n",
       "      <th>1</th>\n",
       "      <td>vhigh</td>\n",
       "      <td>vhigh</td>\n",
       "      <td>2</td>\n",
       "      <td>2</td>\n",
       "      <td>small</td>\n",
       "      <td>med</td>\n",
       "      <td>unacc</td>\n",
       "    </tr>\n",
       "    <tr>\n",
       "      <th>2</th>\n",
       "      <td>vhigh</td>\n",
       "      <td>vhigh</td>\n",
       "      <td>2</td>\n",
       "      <td>2</td>\n",
       "      <td>small</td>\n",
       "      <td>high</td>\n",
       "      <td>unacc</td>\n",
       "    </tr>\n",
       "    <tr>\n",
       "      <th>3</th>\n",
       "      <td>vhigh</td>\n",
       "      <td>vhigh</td>\n",
       "      <td>2</td>\n",
       "      <td>2</td>\n",
       "      <td>med</td>\n",
       "      <td>low</td>\n",
       "      <td>unacc</td>\n",
       "    </tr>\n",
       "    <tr>\n",
       "      <th>4</th>\n",
       "      <td>vhigh</td>\n",
       "      <td>vhigh</td>\n",
       "      <td>2</td>\n",
       "      <td>2</td>\n",
       "      <td>med</td>\n",
       "      <td>med</td>\n",
       "      <td>unacc</td>\n",
       "    </tr>\n",
       "  </tbody>\n",
       "</table>\n",
       "</div>"
      ],
      "text/plain": [
       "  buying  maint doors persons lugboot safety quality\n",
       "0  vhigh  vhigh     2       2   small    low   unacc\n",
       "1  vhigh  vhigh     2       2   small    med   unacc\n",
       "2  vhigh  vhigh     2       2   small   high   unacc\n",
       "3  vhigh  vhigh     2       2     med    low   unacc\n",
       "4  vhigh  vhigh     2       2     med    med   unacc"
      ]
     },
     "metadata": {},
     "output_type": "display_data"
    },
    {
     "data": {
      "text/html": [
       "<div>\n",
       "<table border=\"1\" class=\"dataframe\">\n",
       "  <thead>\n",
       "    <tr style=\"text-align: right;\">\n",
       "      <th></th>\n",
       "      <th>buying</th>\n",
       "      <th>maint</th>\n",
       "      <th>doors</th>\n",
       "      <th>persons</th>\n",
       "      <th>lugboot</th>\n",
       "      <th>safety</th>\n",
       "      <th>quality</th>\n",
       "    </tr>\n",
       "  </thead>\n",
       "  <tbody>\n",
       "    <tr>\n",
       "      <th>count</th>\n",
       "      <td>1728</td>\n",
       "      <td>1728</td>\n",
       "      <td>1728</td>\n",
       "      <td>1728</td>\n",
       "      <td>1728</td>\n",
       "      <td>1728</td>\n",
       "      <td>1728</td>\n",
       "    </tr>\n",
       "    <tr>\n",
       "      <th>unique</th>\n",
       "      <td>4</td>\n",
       "      <td>4</td>\n",
       "      <td>4</td>\n",
       "      <td>3</td>\n",
       "      <td>3</td>\n",
       "      <td>3</td>\n",
       "      <td>4</td>\n",
       "    </tr>\n",
       "    <tr>\n",
       "      <th>top</th>\n",
       "      <td>vhigh</td>\n",
       "      <td>vhigh</td>\n",
       "      <td>3</td>\n",
       "      <td>more</td>\n",
       "      <td>big</td>\n",
       "      <td>low</td>\n",
       "      <td>unacc</td>\n",
       "    </tr>\n",
       "    <tr>\n",
       "      <th>freq</th>\n",
       "      <td>432</td>\n",
       "      <td>432</td>\n",
       "      <td>432</td>\n",
       "      <td>576</td>\n",
       "      <td>576</td>\n",
       "      <td>576</td>\n",
       "      <td>1210</td>\n",
       "    </tr>\n",
       "  </tbody>\n",
       "</table>\n",
       "</div>"
      ],
      "text/plain": [
       "       buying  maint doors persons lugboot safety quality\n",
       "count    1728   1728  1728    1728    1728   1728    1728\n",
       "unique      4      4     4       3       3      3       4\n",
       "top     vhigh  vhigh     3    more     big    low   unacc\n",
       "freq      432    432   432     576     576    576    1210"
      ]
     },
     "execution_count": 27,
     "metadata": {},
     "output_type": "execute_result"
    }
   ],
   "source": [
    "carDF = pd.read_csv('car.data.txt',names=['buying','maint','doors','persons','lugboot','safety','quality'])\n",
    "display( carDF.head(5) );carDF.describe()"
   ]
  },
  {
   "cell_type": "markdown",
   "metadata": {},
   "source": [
    "Can see there are no missing values in the dataset.\n",
    "\n",
    "Make some barplots for buying and maintenance for quality."
   ]
  },
  {
   "cell_type": "code",
   "execution_count": 28,
   "metadata": {
    "collapsed": false,
    "scrolled": true
   },
   "outputs": [
    {
     "data": {
      "image/png": "[encoded data removed]",
      "text/plain": [
       "<matplotlib.figure.Figure at 0x1134e2780>"
      ]
     },
     "metadata": {},
     "output_type": "display_data"
    }
   ],
   "source": [
    "features=['buying','maint','doors','persons','safety','lugboot']\n",
    "fig,axes=plt.subplots(3,2,figsize=[5,8])\n",
    "for f,ax in zip(features,axes.ravel()):\n",
    "    sns.countplot(x=\"quality\", hue=f, data=carDF,ax=ax)\n",
    "plt.tight_layout()\n"
   ]
  },
  {
   "cell_type": "markdown",
   "metadata": {},
   "source": [
    "Seems like in terms of buying and mainteance, those who buy a car for a lot of money and have high maintenance are not happy with the quality of their car.\n",
    "\n",
    "Now let's encode quality so we can get some statistics relative to the features"
   ]
  },
  {
   "cell_type": "code",
   "execution_count": 29,
   "metadata": {
    "collapsed": false
   },
   "outputs": [
    {
     "data": {
      "text/html": [
       "<div>\n",
       "<table border=\"1\" class=\"dataframe\">\n",
       "  <thead>\n",
       "    <tr style=\"text-align: right;\">\n",
       "      <th></th>\n",
       "      <th>buying</th>\n",
       "      <th>maint</th>\n",
       "      <th>doors</th>\n",
       "      <th>persons</th>\n",
       "      <th>lugboot</th>\n",
       "      <th>safety</th>\n",
       "      <th>quality</th>\n",
       "    </tr>\n",
       "  </thead>\n",
       "  <tbody>\n",
       "    <tr>\n",
       "      <th>0</th>\n",
       "      <td>vhigh</td>\n",
       "      <td>vhigh</td>\n",
       "      <td>2</td>\n",
       "      <td>2</td>\n",
       "      <td>small</td>\n",
       "      <td>low</td>\n",
       "      <td>0</td>\n",
       "    </tr>\n",
       "    <tr>\n",
       "      <th>1</th>\n",
       "      <td>vhigh</td>\n",
       "      <td>vhigh</td>\n",
       "      <td>2</td>\n",
       "      <td>2</td>\n",
       "      <td>small</td>\n",
       "      <td>med</td>\n",
       "      <td>0</td>\n",
       "    </tr>\n",
       "    <tr>\n",
       "      <th>2</th>\n",
       "      <td>vhigh</td>\n",
       "      <td>vhigh</td>\n",
       "      <td>2</td>\n",
       "      <td>2</td>\n",
       "      <td>small</td>\n",
       "      <td>high</td>\n",
       "      <td>0</td>\n",
       "    </tr>\n",
       "    <tr>\n",
       "      <th>3</th>\n",
       "      <td>vhigh</td>\n",
       "      <td>vhigh</td>\n",
       "      <td>2</td>\n",
       "      <td>2</td>\n",
       "      <td>med</td>\n",
       "      <td>low</td>\n",
       "      <td>0</td>\n",
       "    </tr>\n",
       "    <tr>\n",
       "      <th>4</th>\n",
       "      <td>vhigh</td>\n",
       "      <td>vhigh</td>\n",
       "      <td>2</td>\n",
       "      <td>2</td>\n",
       "      <td>med</td>\n",
       "      <td>med</td>\n",
       "      <td>0</td>\n",
       "    </tr>\n",
       "  </tbody>\n",
       "</table>\n",
       "</div>"
      ],
      "text/plain": [
       "  buying  maint doors persons lugboot safety  quality\n",
       "0  vhigh  vhigh     2       2   small    low        0\n",
       "1  vhigh  vhigh     2       2   small    med        0\n",
       "2  vhigh  vhigh     2       2   small   high        0\n",
       "3  vhigh  vhigh     2       2     med    low        0\n",
       "4  vhigh  vhigh     2       2     med    med        0"
      ]
     },
     "execution_count": 29,
     "metadata": {},
     "output_type": "execute_result"
    }
   ],
   "source": [
    "from sklearn import preprocessing\n",
    "q_map = {'unacc':0,'acc':1,'good':2,'vgood':3}\n",
    "carDF['quality'] = carDF.quality.map(q_map)\n",
    "#qclasses = carDF.quality.unique().tolist();print(qclasses)\n",
    "#q_le = preprocessing.LabelEncoder().fit(qclasses)\n",
    "#carDF['quality'] = q_le.transform(carDF.quality)\n",
    "carDF.head(5)"
   ]
  },
  {
   "cell_type": "code",
   "execution_count": 30,
   "metadata": {
    "collapsed": false
   },
   "outputs": [
    {
     "data": {
      "image/png": "[encoded data removed]",
      "text/plain": [
       "<matplotlib.figure.Figure at 0x113b5e278>"
      ]
     },
     "metadata": {},
     "output_type": "display_data"
    }
   ],
   "source": [
    "fig,axes=plt.subplots(3,2,figsize=[5,8])\n",
    "for f,ax in zip(features,axes.ravel()):\n",
    "    sns.barplot(x=f, y=\"quality\", data=carDF,ax=ax)\n",
    "plt.tight_layout()\n"
   ]
  },
  {
   "cell_type": "markdown",
   "metadata": {},
   "source": [
    "From the above we see that buying a cheaper car results in higher quality rating, and same with lower maintenance costs. Looks like 3 and above doors have higher quality than 2 doors. Cars with 4 persons and more have tied quality and 2 persons is unacceptable. Safety is strongly correlated, all low safety are unacceptable. Lugboot is strongly correlated as well."
   ]
  },
  {
   "cell_type": "markdown",
   "metadata": {},
   "source": [
    "Now we can encode all the features"
   ]
  },
  {
   "cell_type": "code",
   "execution_count": 31,
   "metadata": {
    "collapsed": false
   },
   "outputs": [
    {
     "data": {
      "text/html": [
       "<div>\n",
       "<table border=\"1\" class=\"dataframe\">\n",
       "  <thead>\n",
       "    <tr style=\"text-align: right;\">\n",
       "      <th></th>\n",
       "      <th>buying</th>\n",
       "      <th>maint</th>\n",
       "      <th>doors</th>\n",
       "      <th>persons</th>\n",
       "      <th>lugboot</th>\n",
       "      <th>safety</th>\n",
       "    </tr>\n",
       "  </thead>\n",
       "  <tbody>\n",
       "    <tr>\n",
       "      <th>0</th>\n",
       "      <td>vhigh</td>\n",
       "      <td>vhigh</td>\n",
       "      <td>2</td>\n",
       "      <td>2</td>\n",
       "      <td>small</td>\n",
       "      <td>low</td>\n",
       "    </tr>\n",
       "    <tr>\n",
       "      <th>1</th>\n",
       "      <td>vhigh</td>\n",
       "      <td>vhigh</td>\n",
       "      <td>2</td>\n",
       "      <td>2</td>\n",
       "      <td>small</td>\n",
       "      <td>med</td>\n",
       "    </tr>\n",
       "    <tr>\n",
       "      <th>2</th>\n",
       "      <td>vhigh</td>\n",
       "      <td>vhigh</td>\n",
       "      <td>2</td>\n",
       "      <td>2</td>\n",
       "      <td>small</td>\n",
       "      <td>high</td>\n",
       "    </tr>\n",
       "    <tr>\n",
       "      <th>3</th>\n",
       "      <td>vhigh</td>\n",
       "      <td>vhigh</td>\n",
       "      <td>2</td>\n",
       "      <td>2</td>\n",
       "      <td>med</td>\n",
       "      <td>low</td>\n",
       "    </tr>\n",
       "    <tr>\n",
       "      <th>4</th>\n",
       "      <td>vhigh</td>\n",
       "      <td>vhigh</td>\n",
       "      <td>2</td>\n",
       "      <td>2</td>\n",
       "      <td>med</td>\n",
       "      <td>med</td>\n",
       "    </tr>\n",
       "  </tbody>\n",
       "</table>\n",
       "</div>"
      ],
      "text/plain": [
       "  buying  maint doors persons lugboot safety\n",
       "0  vhigh  vhigh     2       2   small    low\n",
       "1  vhigh  vhigh     2       2   small    med\n",
       "2  vhigh  vhigh     2       2   small   high\n",
       "3  vhigh  vhigh     2       2     med    low\n",
       "4  vhigh  vhigh     2       2     med    med"
      ]
     },
     "execution_count": 31,
     "metadata": {},
     "output_type": "execute_result"
    }
   ],
   "source": [
    "X = carDF.drop(['quality'],axis=1)\n",
    "y = carDF.quality\n",
    "X.head()"
   ]
  },
  {
   "cell_type": "code",
   "execution_count": 32,
   "metadata": {
    "collapsed": false
   },
   "outputs": [
    {
     "data": {
      "text/html": [
       "<div>\n",
       "<table border=\"1\" class=\"dataframe\">\n",
       "  <thead>\n",
       "    <tr style=\"text-align: right;\">\n",
       "      <th></th>\n",
       "      <th>buying</th>\n",
       "      <th>maint</th>\n",
       "      <th>doors</th>\n",
       "      <th>persons</th>\n",
       "      <th>lugboot</th>\n",
       "      <th>safety</th>\n",
       "    </tr>\n",
       "  </thead>\n",
       "  <tbody>\n",
       "    <tr>\n",
       "      <th>0</th>\n",
       "      <td>3</td>\n",
       "      <td>3</td>\n",
       "      <td>0</td>\n",
       "      <td>0</td>\n",
       "      <td>2</td>\n",
       "      <td>1</td>\n",
       "    </tr>\n",
       "    <tr>\n",
       "      <th>1</th>\n",
       "      <td>3</td>\n",
       "      <td>3</td>\n",
       "      <td>0</td>\n",
       "      <td>0</td>\n",
       "      <td>2</td>\n",
       "      <td>2</td>\n",
       "    </tr>\n",
       "    <tr>\n",
       "      <th>2</th>\n",
       "      <td>3</td>\n",
       "      <td>3</td>\n",
       "      <td>0</td>\n",
       "      <td>0</td>\n",
       "      <td>2</td>\n",
       "      <td>0</td>\n",
       "    </tr>\n",
       "    <tr>\n",
       "      <th>3</th>\n",
       "      <td>3</td>\n",
       "      <td>3</td>\n",
       "      <td>0</td>\n",
       "      <td>0</td>\n",
       "      <td>1</td>\n",
       "      <td>1</td>\n",
       "    </tr>\n",
       "    <tr>\n",
       "      <th>4</th>\n",
       "      <td>3</td>\n",
       "      <td>3</td>\n",
       "      <td>0</td>\n",
       "      <td>0</td>\n",
       "      <td>1</td>\n",
       "      <td>2</td>\n",
       "    </tr>\n",
       "  </tbody>\n",
       "</table>\n",
       "</div>"
      ],
      "text/plain": [
       "   buying  maint  doors  persons  lugboot  safety\n",
       "0       3      3      0        0        2       1\n",
       "1       3      3      0        0        2       2\n",
       "2       3      3      0        0        2       0\n",
       "3       3      3      0        0        1       1\n",
       "4       3      3      0        0        1       2"
      ]
     },
     "execution_count": 32,
     "metadata": {},
     "output_type": "execute_result"
    }
   ],
   "source": [
    "from collections import defaultdict\n",
    "d = defaultdict(preprocessing.LabelEncoder)\n",
    "X = X.apply(lambda x: d[x.name].fit_transform(x))\n",
    "X.head()"
   ]
  },
  {
   "cell_type": "markdown",
   "metadata": {},
   "source": [
    "### Build and train classifier\n",
    "Using random forest classifier"
   ]
  },
  {
   "cell_type": "code",
   "execution_count": 33,
   "metadata": {
    "collapsed": false
   },
   "outputs": [
    {
     "data": {
      "text/plain": [
       "RandomForestClassifier(bootstrap=True, class_weight=None, criterion='gini',\n",
       "            max_depth=10, max_features='auto', max_leaf_nodes=None,\n",
       "            min_impurity_split=1e-07, min_samples_leaf=1,\n",
       "            min_samples_split=2, min_weight_fraction_leaf=0.0,\n",
       "            n_estimators=200, n_jobs=1, oob_score=False, random_state=7,\n",
       "            verbose=0, warm_start=False)"
      ]
     },
     "execution_count": 33,
     "metadata": {},
     "output_type": "execute_result"
    }
   ],
   "source": [
    "from sklearn.ensemble import RandomForestClassifier\n",
    "params = {'n_estimators':200,'max_depth':10,'random_state':7}\n",
    "clf_rf = RandomForestClassifier(**params)\n",
    "clf_rf.fit(X,y)"
   ]
  },
  {
   "cell_type": "markdown",
   "metadata": {},
   "source": [
    "Perform cross-validation we learned above"
   ]
  },
  {
   "cell_type": "code",
   "execution_count": 34,
   "metadata": {
    "collapsed": false
   },
   "outputs": [
    {
     "name": "stdout",
     "output_type": "stream",
     "text": [
      "Accuracy of the RF classifier: 79.06 %\n",
      "Accuracy of the Gaussian NB classifier: 60.59 %\n"
     ]
    }
   ],
   "source": [
    "accuracy = cross_validation.cross_val_score(clf_rf,X,y,scoring='accuracy',cv=5)\n",
    "print('Accuracy of the RF classifier:',round(100*accuracy.mean(),2),'%')\n",
    "#Compare to NB Gaussian\n",
    "clf_nb = GaussianNB()\n",
    "clf_nb.fit(X,y)\n",
    "accuracy = cross_validation.cross_val_score(clf_nb,X,y,scoring='accuracy',cv=5)\n",
    "print('Accuracy of the Gaussian NB classifier:',round(100*accuracy.mean(),2),'%')"
   ]
  },
  {
   "cell_type": "markdown",
   "metadata": {},
   "source": [
    "We see above that the random forest classifier outperforms Naive Bayes classifier.\n",
    "\n",
    "Below we test the classifier on a single data point."
   ]
  },
  {
   "cell_type": "code",
   "execution_count": 35,
   "metadata": {
    "collapsed": false
   },
   "outputs": [
    {
     "data": {
      "text/html": [
       "<div>\n",
       "<table border=\"1\" class=\"dataframe\">\n",
       "  <thead>\n",
       "    <tr style=\"text-align: right;\">\n",
       "      <th></th>\n",
       "      <th>buying</th>\n",
       "      <th>maint</th>\n",
       "      <th>doors</th>\n",
       "      <th>persons</th>\n",
       "      <th>lugboot</th>\n",
       "      <th>safety</th>\n",
       "    </tr>\n",
       "  </thead>\n",
       "  <tbody>\n",
       "    <tr>\n",
       "      <th>0</th>\n",
       "      <td>vhigh</td>\n",
       "      <td>vhigh</td>\n",
       "      <td>2</td>\n",
       "      <td>2</td>\n",
       "      <td>small</td>\n",
       "      <td>low</td>\n",
       "    </tr>\n",
       "  </tbody>\n",
       "</table>\n",
       "</div>"
      ],
      "text/plain": [
       "  buying  maint doors persons lugboot safety\n",
       "0  vhigh  vhigh     2       2   small    low"
      ]
     },
     "execution_count": 35,
     "metadata": {},
     "output_type": "execute_result"
    }
   ],
   "source": [
    "car = pd.DataFrame(data=[ ['vhigh','vhigh','2','2','small','low']], columns=X.columns.values.tolist())\n",
    "car"
   ]
  },
  {
   "cell_type": "code",
   "execution_count": 36,
   "metadata": {
    "collapsed": false
   },
   "outputs": [
    {
     "data": {
      "text/html": [
       "<div>\n",
       "<table border=\"1\" class=\"dataframe\">\n",
       "  <thead>\n",
       "    <tr style=\"text-align: right;\">\n",
       "      <th></th>\n",
       "      <th>buying</th>\n",
       "      <th>maint</th>\n",
       "      <th>doors</th>\n",
       "      <th>persons</th>\n",
       "      <th>lugboot</th>\n",
       "      <th>safety</th>\n",
       "    </tr>\n",
       "  </thead>\n",
       "  <tbody>\n",
       "    <tr>\n",
       "      <th>0</th>\n",
       "      <td>3</td>\n",
       "      <td>3</td>\n",
       "      <td>0</td>\n",
       "      <td>0</td>\n",
       "      <td>2</td>\n",
       "      <td>1</td>\n",
       "    </tr>\n",
       "  </tbody>\n",
       "</table>\n",
       "</div>"
      ],
      "text/plain": [
       "   buying  maint  doors  persons  lugboot  safety\n",
       "0       3      3      0        0        2       1"
      ]
     },
     "execution_count": 36,
     "metadata": {},
     "output_type": "execute_result"
    }
   ],
   "source": [
    "# Using the previous dictionary to label future data\n",
    "car = car.apply(lambda x: d[x.name].transform(x))\n",
    "car.head()"
   ]
  },
  {
   "cell_type": "code",
   "execution_count": 37,
   "metadata": {
    "collapsed": false
   },
   "outputs": [
    {
     "name": "stdout",
     "output_type": "stream",
     "text": [
      "Car classified as: unacc\n"
     ]
    }
   ],
   "source": [
    "output =clf_rf.predict(car)\n",
    "inv_q_map = {v: k for k, v in q_map.items()}\n",
    "print('Car classified as:',inv_q_map[output[0]])"
   ]
  },
  {
   "cell_type": "markdown",
   "metadata": {},
   "source": [
    "## 2.9 Extracting validation curves  <a class=\"anchor\" id=\"valid\"></a>\n",
    "In the previous example we built a classifier but did not know how to define the initial parameters for the Random Forest Classifier, *n_estimators* and *max_depth*.  They are known as **hyperparameters** and performance of classifier depends on them. Validation curves inform how performance is affected with change in hyperparameters."
   ]
  },
  {
   "cell_type": "code",
   "execution_count": 38,
   "metadata": {
    "collapsed": false
   },
   "outputs": [
    {
     "name": "stderr",
     "output_type": "stream",
     "text": [
      "/anaconda/lib/python3.6/site-packages/sklearn/learning_curve.py:23: DeprecationWarning: This module was deprecated in version 0.18 in favor of the model_selection module into which all the functions are moved. This module will be removed in 0.20\n",
      "  DeprecationWarning)\n"
     ]
    },
    {
     "name": "stdout",
     "output_type": "stream",
     "text": [
      "VALIDATION CURVES:\n",
      "\n",
      "Param: n_estimators \n",
      "\n",
      " Training Scores: [[ 0.80680174  0.80824891  0.80752533  0.80463097  0.81358382]\n",
      " [ 0.79522431  0.80535456  0.81041968  0.8089725   0.81069364]\n",
      " [ 0.80101302  0.80680174  0.81114327  0.81476122  0.8150289 ]\n",
      " [ 0.8024602   0.80535456  0.81186686  0.80752533  0.80346821]\n",
      " [ 0.80028944  0.80463097  0.81114327  0.80824891  0.81069364]\n",
      " [ 0.80390738  0.80535456  0.81041968  0.80969609  0.81647399]\n",
      " [ 0.80390738  0.80463097  0.81114327  0.81476122  0.81719653]\n",
      " [ 0.80390738  0.80607815  0.81114327  0.81403763  0.81647399]]\n",
      "Test Scores: [[ 0.71098266  0.76589595  0.72543353  0.76300578  0.75290698]\n",
      " [ 0.71098266  0.75433526  0.71965318  0.75722543  0.74127907]\n",
      " [ 0.71098266  0.72254335  0.71965318  0.75722543  0.74418605]\n",
      " [ 0.71098266  0.71387283  0.71965318  0.75722543  0.72674419]\n",
      " [ 0.71098266  0.74277457  0.71965318  0.75722543  0.74127907]\n",
      " [ 0.71098266  0.74277457  0.71965318  0.75722543  0.74127907]\n",
      " [ 0.71098266  0.74566474  0.71965318  0.75722543  0.74418605]\n",
      " [ 0.71098266  0.75144509  0.71965318  0.75722543  0.74127907]]\n"
     ]
    }
   ],
   "source": [
    "#Validation curves\n",
    "from sklearn.learning_curve import validation_curve\n",
    "clf = RandomForestClassifier(max_depth=4,random_state=7)\n",
    "parameter_grid= np.linspace(25,200,8).astype(int)\n",
    "\n",
    "train_scores, test_scores = validation_curve(clf,X,y,\"n_estimators\",parameter_grid,cv=5)\n",
    "print(\"VALIDATION CURVES:\\n\",)\n",
    "print('Param: n_estimators \\n\\n Training Scores:',train_scores)\n",
    "print('Test Scores:',test_scores)"
   ]
  },
  {
   "cell_type": "markdown",
   "metadata": {},
   "source": [
    "Make plots of curves"
   ]
  },
  {
   "cell_type": "code",
   "execution_count": 39,
   "metadata": {
    "collapsed": false
   },
   "outputs": [
    {
     "data": {
      "text/plain": [
       "<matplotlib.legend.Legend at 0x113d128d0>"
      ]
     },
     "execution_count": 39,
     "metadata": {},
     "output_type": "execute_result"
    },
    {
     "data": {
      "image/png": "[encoded data removed]",
      "text/plain": [
       "<matplotlib.figure.Figure at 0x1141cfc50>"
      ]
     },
     "metadata": {},
     "output_type": "display_data"
    }
   ],
   "source": [
    "plt.figure()\n",
    "plt.plot(parameter_grid,100*np.average(train_scores,axis=1),label='train scores');plt.title('Training curve'),plt.xlabel('n_estimators');plt.ylabel('Accuracy')\n",
    "plt.plot(parameter_grid,100*np.average(test_scores,axis=1),label='test scores',color='orange')\n",
    "plt.legend()\n",
    "         "
   ]
  },
  {
   "cell_type": "markdown",
   "metadata": {},
   "source": [
    "Repeat for max_depth parameter"
   ]
  },
  {
   "cell_type": "code",
   "execution_count": 40,
   "metadata": {
    "collapsed": false
   },
   "outputs": [
    {
     "name": "stdout",
     "output_type": "stream",
     "text": [
      "[[ 0.70043415  0.70043415  0.72865412  0.70043415  0.69942197]\n",
      " [ 0.80390738  0.80463097  0.81114327  0.81476122  0.81719653]\n",
      " [ 0.92402315  0.93270622  0.93198263  0.91389291  0.90895954]\n",
      " [ 0.97322721  0.97612156  0.97756874  0.98408104  0.97976879]\n",
      " [ 0.99855282  0.99855282  0.99710564  1.          0.99638728]\n",
      " [ 1.          1.          1.          1.          1.        ]\n",
      " [ 1.          1.          1.          1.          1.        ]\n",
      " [ 1.          1.          1.          1.          1.        ]\n",
      " [ 1.          1.          1.          1.          1.        ]\n",
      " [ 1.          1.          1.          1.          1.        ]]\n"
     ]
    },
    {
     "data": {
      "text/plain": [
       "<matplotlib.legend.Legend at 0x113a63160>"
      ]
     },
     "execution_count": 40,
     "metadata": {},
     "output_type": "execute_result"
    },
    {
     "data": {
      "image/png": "[encoded data removed]",
      "text/plain": [
       "<matplotlib.figure.Figure at 0x114218390>"
      ]
     },
     "metadata": {},
     "output_type": "display_data"
    }
   ],
   "source": [
    "clf = RandomForestClassifier(n_estimators=175,random_state=7)\n",
    "parameter_grid= np.linspace(2,20,10).astype(int)\n",
    "train_scores, test_scores = validation_curve(clf,X,y,\"max_depth\",parameter_grid,cv=5)\n",
    "print(train_scores)\n",
    "plt.figure()\n",
    "plt.plot(parameter_grid,100*np.average(train_scores,axis=1),label='train scores');plt.title('Training curve'),plt.xlabel('max_depth');plt.ylabel('Accuracy')\n",
    "plt.plot(parameter_grid,100*np.average(test_scores,axis=1),label='test scores',color='orange')\n",
    "plt.legend()"
   ]
  },
  {
   "cell_type": "markdown",
   "metadata": {},
   "source": [
    "Looks like the max_depth peaks at 15, and there is no gain after."
   ]
  },
  {
   "cell_type": "markdown",
   "metadata": {},
   "source": [
    "## 2.10 Extracting learning curves  <a class=\"anchor\" id=\"learning\"></a>\n",
    "Learning curves help understand how sie of training data set influences the model."
   ]
  },
  {
   "cell_type": "code",
   "execution_count": 41,
   "metadata": {
    "collapsed": false
   },
   "outputs": [
    {
     "data": {
      "text/plain": [
       "<matplotlib.legend.Legend at 0x113595978>"
      ]
     },
     "execution_count": 41,
     "metadata": {},
     "output_type": "execute_result"
    },
    {
     "data": {
      "image/png": "[encoded data removed]",
      "text/plain": [
       "<matplotlib.figure.Figure at 0x114218278>"
      ]
     },
     "metadata": {},
     "output_type": "display_data"
    }
   ],
   "source": [
    "from sklearn.learning_curve import learning_curve\n",
    "\n",
    "clf = RandomForestClassifier(random_state=7)\n",
    "parameter_grid=np.array([200,400,800,1200])\n",
    "train_sizes,train_scores,test_scores = learning_curve(clf,X,y,train_sizes=parameter_grid,cv=5)\n",
    "plt.figure()\n",
    "plt.plot(parameter_grid,100*np.average(train_scores,axis=1),label='train scores');plt.title('Learning curve'),plt.xlabel('Num train samples');plt.ylabel('Accuracy')\n",
    "plt.plot(parameter_grid,100*np.average(test_scores,axis=1),label='test scores',color='orange')\n",
    "plt.legend()"
   ]
  },
  {
   "cell_type": "markdown",
   "metadata": {},
   "source": [
    "See above how much gain there is for increasing sample training size, larger the better."
   ]
  },
  {
   "cell_type": "markdown",
   "metadata": {},
   "source": [
    "## 2.11 Estimating the income bracket  <a class=\"anchor\" id=\"income\"></a>\n",
    "We will use a classifier to build a model to estimate income bracket from 14 attributes. Two possible outcomes are:\n",
    "1. greater than 50K\n",
    "2. less than or equal to50K\n",
    "\n",
    "Data is in file *adult.data.txt* available here: https://archive.ics.uci.edu/ml/datasets/Census+Income\n",
    "\n",
    "- **age**: continuous. \n",
    "- **workclass**: Private, Self-emp-not-inc, Self-emp-inc, Federal-gov, Local-gov, State-gov, Without-pay, Never-worked. \n",
    "- **fnlwgt**: continuous. \n",
    "- **education**: Bachelors, Some-college, 11th, HS-grad, Prof-school, Assoc-acdm, Assoc-voc, 9th, 7th-8th, 12th, Masters, 1st-4th, 10th, Doctorate, 5th-6th, Preschool. \n",
    "- **education-num**: continuous. \n",
    "- **marital-status**: Married-civ-spouse, Divorced, Never-married, Separated, Widowed, Married-spouse-absent, Married-AF-spouse. \n",
    "- **occupation**: Tech-support, Craft-repair, Other-service, Sales, Exec-managerial, Prof-specialty, Handlers-cleaners, Machine-op-inspct, Adm-clerical, Farming-fishing, Transport-moving, Priv-house-serv, Protective-serv, Armed-Forces. \n",
    "- **relationship**: Wife, Own-child, Husband, Not-in-family, Other-relative, Unmarried. \n",
    "- **race**: White, Asian-Pac-Islander, Amer-Indian-Eskimo, Other, Black. \n",
    "- **sex**: Female, Male. \n",
    "- **capital-gain**: continuous. \n",
    "- **capital-loss**: continuous. \n",
    "- **hours-per-week**: continuous. \n",
    "- **native-country**: United-States, Cambodia, England, Puerto-Rico, Canada, Germany, Outlying-US(Guam-USVI-etc), India, Japan, Greece, South, China, Cuba, Iran, Honduras, Philippines, Italy, Poland, Jamaica, Vietnam, Mexico, Portugal, Ireland, France, Dominican-Republic, Laos, Ecuador, Taiwan, Haiti, Columbia, Hungary, Guatemala, Nicaragua, Scotland, Thailand, Yugoslavia, El-Salvador, Trinadad&Tobago, Peru, Hong, Holand-Netherlands.\n",
    "\n"
   ]
  },
  {
   "cell_type": "code",
   "execution_count": 42,
   "metadata": {
    "collapsed": true
   },
   "outputs": [],
   "source": [
    "from sklearn import preprocessing\n",
    "from sklearn.naive_bayes import GaussianNB"
   ]
  },
  {
   "cell_type": "markdown",
   "metadata": {},
   "source": [
    "Load and examine the dataset"
   ]
  },
  {
   "cell_type": "code",
   "execution_count": 43,
   "metadata": {
    "collapsed": false
   },
   "outputs": [
    {
     "data": {
      "text/html": [
       "<div>\n",
       "<table border=\"1\" class=\"dataframe\">\n",
       "  <thead>\n",
       "    <tr style=\"text-align: right;\">\n",
       "      <th></th>\n",
       "      <th>age</th>\n",
       "      <th>workcl</th>\n",
       "      <th>fnlwgt</th>\n",
       "      <th>edu</th>\n",
       "      <th>edu-num</th>\n",
       "      <th>mar-stat</th>\n",
       "      <th>occup</th>\n",
       "      <th>relshp</th>\n",
       "      <th>race</th>\n",
       "      <th>sex</th>\n",
       "      <th>cap-gain</th>\n",
       "      <th>cap-loss</th>\n",
       "      <th>hours</th>\n",
       "      <th>country</th>\n",
       "      <th>income</th>\n",
       "    </tr>\n",
       "  </thead>\n",
       "  <tbody>\n",
       "    <tr>\n",
       "      <th>0</th>\n",
       "      <td>39</td>\n",
       "      <td>State-gov</td>\n",
       "      <td>77516</td>\n",
       "      <td>Bachelors</td>\n",
       "      <td>13</td>\n",
       "      <td>Never-married</td>\n",
       "      <td>Adm-clerical</td>\n",
       "      <td>Not-in-family</td>\n",
       "      <td>White</td>\n",
       "      <td>Male</td>\n",
       "      <td>2174</td>\n",
       "      <td>0</td>\n",
       "      <td>40</td>\n",
       "      <td>United-States</td>\n",
       "      <td>&lt;=50K</td>\n",
       "    </tr>\n",
       "    <tr>\n",
       "      <th>1</th>\n",
       "      <td>50</td>\n",
       "      <td>Self-emp-not-inc</td>\n",
       "      <td>83311</td>\n",
       "      <td>Bachelors</td>\n",
       "      <td>13</td>\n",
       "      <td>Married-civ-spouse</td>\n",
       "      <td>Exec-managerial</td>\n",
       "      <td>Husband</td>\n",
       "      <td>White</td>\n",
       "      <td>Male</td>\n",
       "      <td>0</td>\n",
       "      <td>0</td>\n",
       "      <td>13</td>\n",
       "      <td>United-States</td>\n",
       "      <td>&lt;=50K</td>\n",
       "    </tr>\n",
       "    <tr>\n",
       "      <th>2</th>\n",
       "      <td>38</td>\n",
       "      <td>Private</td>\n",
       "      <td>215646</td>\n",
       "      <td>HS-grad</td>\n",
       "      <td>9</td>\n",
       "      <td>Divorced</td>\n",
       "      <td>Handlers-cleaners</td>\n",
       "      <td>Not-in-family</td>\n",
       "      <td>White</td>\n",
       "      <td>Male</td>\n",
       "      <td>0</td>\n",
       "      <td>0</td>\n",
       "      <td>40</td>\n",
       "      <td>United-States</td>\n",
       "      <td>&lt;=50K</td>\n",
       "    </tr>\n",
       "    <tr>\n",
       "      <th>3</th>\n",
       "      <td>53</td>\n",
       "      <td>Private</td>\n",
       "      <td>234721</td>\n",
       "      <td>11th</td>\n",
       "      <td>7</td>\n",
       "      <td>Married-civ-spouse</td>\n",
       "      <td>Handlers-cleaners</td>\n",
       "      <td>Husband</td>\n",
       "      <td>Black</td>\n",
       "      <td>Male</td>\n",
       "      <td>0</td>\n",
       "      <td>0</td>\n",
       "      <td>40</td>\n",
       "      <td>United-States</td>\n",
       "      <td>&lt;=50K</td>\n",
       "    </tr>\n",
       "    <tr>\n",
       "      <th>4</th>\n",
       "      <td>28</td>\n",
       "      <td>Private</td>\n",
       "      <td>338409</td>\n",
       "      <td>Bachelors</td>\n",
       "      <td>13</td>\n",
       "      <td>Married-civ-spouse</td>\n",
       "      <td>Prof-specialty</td>\n",
       "      <td>Wife</td>\n",
       "      <td>Black</td>\n",
       "      <td>Female</td>\n",
       "      <td>0</td>\n",
       "      <td>0</td>\n",
       "      <td>40</td>\n",
       "      <td>Cuba</td>\n",
       "      <td>&lt;=50K</td>\n",
       "    </tr>\n",
       "  </tbody>\n",
       "</table>\n",
       "</div>"
      ],
      "text/plain": [
       "   age            workcl  fnlwgt        edu  edu-num            mar-stat  \\\n",
       "0   39         State-gov   77516  Bachelors       13       Never-married   \n",
       "1   50  Self-emp-not-inc   83311  Bachelors       13  Married-civ-spouse   \n",
       "2   38           Private  215646    HS-grad        9            Divorced   \n",
       "3   53           Private  234721       11th        7  Married-civ-spouse   \n",
       "4   28           Private  338409  Bachelors       13  Married-civ-spouse   \n",
       "\n",
       "               occup         relshp   race     sex  cap-gain  cap-loss  hours  \\\n",
       "0       Adm-clerical  Not-in-family  White    Male      2174         0     40   \n",
       "1    Exec-managerial        Husband  White    Male         0         0     13   \n",
       "2  Handlers-cleaners  Not-in-family  White    Male         0         0     40   \n",
       "3  Handlers-cleaners        Husband  Black    Male         0         0     40   \n",
       "4     Prof-specialty           Wife  Black  Female         0         0     40   \n",
       "\n",
       "         country income  \n",
       "0  United-States  <=50K  \n",
       "1  United-States  <=50K  \n",
       "2  United-States  <=50K  \n",
       "3  United-States  <=50K  \n",
       "4           Cuba  <=50K  "
      ]
     },
     "execution_count": 43,
     "metadata": {},
     "output_type": "execute_result"
    }
   ],
   "source": [
    "features = ['age','workcl','fnlwgt','edu','edu-num','mar-stat','occup','relshp','race','sex','cap-gain','cap-loss','hours','country']\n",
    "incomeDF = pd.read_csv('adult.data.txt',names=features+['income'],skipinitialspace=True)\n",
    "incomeDF.head()"
   ]
  },
  {
   "cell_type": "code",
   "execution_count": 44,
   "metadata": {
    "collapsed": false
   },
   "outputs": [
    {
     "data": {
      "text/html": [
       "<div>\n",
       "<table border=\"1\" class=\"dataframe\">\n",
       "  <thead>\n",
       "    <tr style=\"text-align: right;\">\n",
       "      <th></th>\n",
       "      <th>age</th>\n",
       "      <th>fnlwgt</th>\n",
       "      <th>edu-num</th>\n",
       "      <th>cap-gain</th>\n",
       "      <th>cap-loss</th>\n",
       "      <th>hours</th>\n",
       "    </tr>\n",
       "  </thead>\n",
       "  <tbody>\n",
       "    <tr>\n",
       "      <th>count</th>\n",
       "      <td>32561.000000</td>\n",
       "      <td>3.256100e+04</td>\n",
       "      <td>32561.000000</td>\n",
       "      <td>32561.000000</td>\n",
       "      <td>32561.000000</td>\n",
       "      <td>32561.000000</td>\n",
       "    </tr>\n",
       "    <tr>\n",
       "      <th>mean</th>\n",
       "      <td>38.581647</td>\n",
       "      <td>1.897784e+05</td>\n",
       "      <td>10.080679</td>\n",
       "      <td>1077.648844</td>\n",
       "      <td>87.303830</td>\n",
       "      <td>40.437456</td>\n",
       "    </tr>\n",
       "    <tr>\n",
       "      <th>std</th>\n",
       "      <td>13.640433</td>\n",
       "      <td>1.055500e+05</td>\n",
       "      <td>2.572720</td>\n",
       "      <td>7385.292085</td>\n",
       "      <td>402.960219</td>\n",
       "      <td>12.347429</td>\n",
       "    </tr>\n",
       "    <tr>\n",
       "      <th>min</th>\n",
       "      <td>17.000000</td>\n",
       "      <td>1.228500e+04</td>\n",
       "      <td>1.000000</td>\n",
       "      <td>0.000000</td>\n",
       "      <td>0.000000</td>\n",
       "      <td>1.000000</td>\n",
       "    </tr>\n",
       "    <tr>\n",
       "      <th>25%</th>\n",
       "      <td>28.000000</td>\n",
       "      <td>1.178270e+05</td>\n",
       "      <td>9.000000</td>\n",
       "      <td>0.000000</td>\n",
       "      <td>0.000000</td>\n",
       "      <td>40.000000</td>\n",
       "    </tr>\n",
       "    <tr>\n",
       "      <th>50%</th>\n",
       "      <td>37.000000</td>\n",
       "      <td>1.783560e+05</td>\n",
       "      <td>10.000000</td>\n",
       "      <td>0.000000</td>\n",
       "      <td>0.000000</td>\n",
       "      <td>40.000000</td>\n",
       "    </tr>\n",
       "    <tr>\n",
       "      <th>75%</th>\n",
       "      <td>48.000000</td>\n",
       "      <td>2.370510e+05</td>\n",
       "      <td>12.000000</td>\n",
       "      <td>0.000000</td>\n",
       "      <td>0.000000</td>\n",
       "      <td>45.000000</td>\n",
       "    </tr>\n",
       "    <tr>\n",
       "      <th>max</th>\n",
       "      <td>90.000000</td>\n",
       "      <td>1.484705e+06</td>\n",
       "      <td>16.000000</td>\n",
       "      <td>99999.000000</td>\n",
       "      <td>4356.000000</td>\n",
       "      <td>99.000000</td>\n",
       "    </tr>\n",
       "  </tbody>\n",
       "</table>\n",
       "</div>"
      ],
      "text/plain": [
       "                age        fnlwgt       edu-num      cap-gain      cap-loss  \\\n",
       "count  32561.000000  3.256100e+04  32561.000000  32561.000000  32561.000000   \n",
       "mean      38.581647  1.897784e+05     10.080679   1077.648844     87.303830   \n",
       "std       13.640433  1.055500e+05      2.572720   7385.292085    402.960219   \n",
       "min       17.000000  1.228500e+04      1.000000      0.000000      0.000000   \n",
       "25%       28.000000  1.178270e+05      9.000000      0.000000      0.000000   \n",
       "50%       37.000000  1.783560e+05     10.000000      0.000000      0.000000   \n",
       "75%       48.000000  2.370510e+05     12.000000      0.000000      0.000000   \n",
       "max       90.000000  1.484705e+06     16.000000  99999.000000   4356.000000   \n",
       "\n",
       "              hours  \n",
       "count  32561.000000  \n",
       "mean      40.437456  \n",
       "std       12.347429  \n",
       "min        1.000000  \n",
       "25%       40.000000  \n",
       "50%       40.000000  \n",
       "75%       45.000000  \n",
       "max       99.000000  "
      ]
     },
     "metadata": {},
     "output_type": "display_data"
    },
    {
     "data": {
      "text/html": [
       "<div>\n",
       "<table border=\"1\" class=\"dataframe\">\n",
       "  <thead>\n",
       "    <tr style=\"text-align: right;\">\n",
       "      <th></th>\n",
       "      <th>workcl</th>\n",
       "      <th>edu</th>\n",
       "      <th>mar-stat</th>\n",
       "      <th>occup</th>\n",
       "      <th>relshp</th>\n",
       "      <th>race</th>\n",
       "      <th>sex</th>\n",
       "      <th>country</th>\n",
       "      <th>income</th>\n",
       "    </tr>\n",
       "  </thead>\n",
       "  <tbody>\n",
       "    <tr>\n",
       "      <th>count</th>\n",
       "      <td>32561</td>\n",
       "      <td>32561</td>\n",
       "      <td>32561</td>\n",
       "      <td>32561</td>\n",
       "      <td>32561</td>\n",
       "      <td>32561</td>\n",
       "      <td>32561</td>\n",
       "      <td>32561</td>\n",
       "      <td>32561</td>\n",
       "    </tr>\n",
       "    <tr>\n",
       "      <th>unique</th>\n",
       "      <td>9</td>\n",
       "      <td>16</td>\n",
       "      <td>7</td>\n",
       "      <td>15</td>\n",
       "      <td>6</td>\n",
       "      <td>5</td>\n",
       "      <td>2</td>\n",
       "      <td>42</td>\n",
       "      <td>2</td>\n",
       "    </tr>\n",
       "    <tr>\n",
       "      <th>top</th>\n",
       "      <td>Private</td>\n",
       "      <td>HS-grad</td>\n",
       "      <td>Married-civ-spouse</td>\n",
       "      <td>Prof-specialty</td>\n",
       "      <td>Husband</td>\n",
       "      <td>White</td>\n",
       "      <td>Male</td>\n",
       "      <td>United-States</td>\n",
       "      <td>&lt;=50K</td>\n",
       "    </tr>\n",
       "    <tr>\n",
       "      <th>freq</th>\n",
       "      <td>22696</td>\n",
       "      <td>10501</td>\n",
       "      <td>14976</td>\n",
       "      <td>4140</td>\n",
       "      <td>13193</td>\n",
       "      <td>27816</td>\n",
       "      <td>21790</td>\n",
       "      <td>29170</td>\n",
       "      <td>24720</td>\n",
       "    </tr>\n",
       "  </tbody>\n",
       "</table>\n",
       "</div>"
      ],
      "text/plain": [
       "         workcl      edu            mar-stat           occup   relshp   race  \\\n",
       "count     32561    32561               32561           32561    32561  32561   \n",
       "unique        9       16                   7              15        6      5   \n",
       "top     Private  HS-grad  Married-civ-spouse  Prof-specialty  Husband  White   \n",
       "freq      22696    10501               14976            4140    13193  27816   \n",
       "\n",
       "          sex        country income  \n",
       "count   32561          32561  32561  \n",
       "unique      2             42      2  \n",
       "top      Male  United-States  <=50K  \n",
       "freq    21790          29170  24720  "
      ]
     },
     "execution_count": 44,
     "metadata": {},
     "output_type": "execute_result"
    }
   ],
   "source": [
    "display( incomeDF.describe(include=[np.number]))\n",
    "incomeDF.describe(include=['O'])"
   ]
  },
  {
   "cell_type": "markdown",
   "metadata": {},
   "source": [
    "Since there are more <=50K earners, cookbook says it's better to select equal sample sizes so that there is no bias in the model - we can test this later not running this section of code."
   ]
  },
  {
   "cell_type": "code",
   "execution_count": 45,
   "metadata": {
    "collapsed": false
   },
   "outputs": [
    {
     "data": {
      "text/html": [
       "<div>\n",
       "<table border=\"1\" class=\"dataframe\">\n",
       "  <thead>\n",
       "    <tr style=\"text-align: right;\">\n",
       "      <th></th>\n",
       "      <th>age</th>\n",
       "      <th>fnlwgt</th>\n",
       "      <th>edu-num</th>\n",
       "      <th>cap-gain</th>\n",
       "      <th>cap-loss</th>\n",
       "      <th>hours</th>\n",
       "    </tr>\n",
       "  </thead>\n",
       "  <tbody>\n",
       "    <tr>\n",
       "      <th>count</th>\n",
       "      <td>15682.000000</td>\n",
       "      <td>1.568200e+04</td>\n",
       "      <td>15682.000000</td>\n",
       "      <td>15682.000000</td>\n",
       "      <td>15682.000000</td>\n",
       "      <td>15682.000000</td>\n",
       "    </tr>\n",
       "    <tr>\n",
       "      <th>mean</th>\n",
       "      <td>40.447775</td>\n",
       "      <td>1.891482e+05</td>\n",
       "      <td>10.625685</td>\n",
       "      <td>2077.924436</td>\n",
       "      <td>125.545402</td>\n",
       "      <td>42.084045</td>\n",
       "    </tr>\n",
       "    <tr>\n",
       "      <th>std</th>\n",
       "      <td>12.984697</td>\n",
       "      <td>1.043548e+05</td>\n",
       "      <td>2.615226</td>\n",
       "      <td>10501.450336</td>\n",
       "      <td>483.249168</td>\n",
       "      <td>12.216870</td>\n",
       "    </tr>\n",
       "    <tr>\n",
       "      <th>min</th>\n",
       "      <td>17.000000</td>\n",
       "      <td>1.487800e+04</td>\n",
       "      <td>1.000000</td>\n",
       "      <td>0.000000</td>\n",
       "      <td>0.000000</td>\n",
       "      <td>1.000000</td>\n",
       "    </tr>\n",
       "    <tr>\n",
       "      <th>25%</th>\n",
       "      <td>31.000000</td>\n",
       "      <td>1.185050e+05</td>\n",
       "      <td>9.000000</td>\n",
       "      <td>0.000000</td>\n",
       "      <td>0.000000</td>\n",
       "      <td>40.000000</td>\n",
       "    </tr>\n",
       "    <tr>\n",
       "      <th>50%</th>\n",
       "      <td>40.000000</td>\n",
       "      <td>1.774030e+05</td>\n",
       "      <td>10.000000</td>\n",
       "      <td>0.000000</td>\n",
       "      <td>0.000000</td>\n",
       "      <td>40.000000</td>\n",
       "    </tr>\n",
       "    <tr>\n",
       "      <th>75%</th>\n",
       "      <td>49.000000</td>\n",
       "      <td>2.349010e+05</td>\n",
       "      <td>13.000000</td>\n",
       "      <td>0.000000</td>\n",
       "      <td>0.000000</td>\n",
       "      <td>50.000000</td>\n",
       "    </tr>\n",
       "    <tr>\n",
       "      <th>max</th>\n",
       "      <td>90.000000</td>\n",
       "      <td>1.455435e+06</td>\n",
       "      <td>16.000000</td>\n",
       "      <td>99999.000000</td>\n",
       "      <td>4356.000000</td>\n",
       "      <td>99.000000</td>\n",
       "    </tr>\n",
       "  </tbody>\n",
       "</table>\n",
       "</div>"
      ],
      "text/plain": [
       "                age        fnlwgt       edu-num      cap-gain      cap-loss  \\\n",
       "count  15682.000000  1.568200e+04  15682.000000  15682.000000  15682.000000   \n",
       "mean      40.447775  1.891482e+05     10.625685   2077.924436    125.545402   \n",
       "std       12.984697  1.043548e+05      2.615226  10501.450336    483.249168   \n",
       "min       17.000000  1.487800e+04      1.000000      0.000000      0.000000   \n",
       "25%       31.000000  1.185050e+05      9.000000      0.000000      0.000000   \n",
       "50%       40.000000  1.774030e+05     10.000000      0.000000      0.000000   \n",
       "75%       49.000000  2.349010e+05     13.000000      0.000000      0.000000   \n",
       "max       90.000000  1.455435e+06     16.000000  99999.000000   4356.000000   \n",
       "\n",
       "              hours  \n",
       "count  15682.000000  \n",
       "mean      42.084045  \n",
       "std       12.216870  \n",
       "min        1.000000  \n",
       "25%       40.000000  \n",
       "50%       40.000000  \n",
       "75%       50.000000  \n",
       "max       99.000000  "
      ]
     },
     "execution_count": 45,
     "metadata": {},
     "output_type": "execute_result"
    }
   ],
   "source": [
    "highearn= incomeDF[incomeDF.income=='>50K'].sample(frac=1)\n",
    "Nsam    = len(highearn.index)\n",
    "lowearn = incomeDF[incomeDF.income=='<=50K'].sample(n=Nsam)\n",
    "#combine\n",
    "incomeDF = pd.concat([highearn,lowearn]).sample(frac=1) # randomize after concatenating\n",
    "incomeDF.head()\n",
    "incomeDF.describe()"
   ]
  },
  {
   "cell_type": "markdown",
   "metadata": {},
   "source": [
    "We see from the above there are 6 numerical features and 8 categorical ones."
   ]
  },
  {
   "cell_type": "code",
   "execution_count": 46,
   "metadata": {
    "collapsed": true
   },
   "outputs": [],
   "source": [
    "quantitative = ['age','fnlwgt','edu-num','cap-gain','cap-loss','hours']\n",
    "categorical  = ['workcl','edu','mar-stat','occup','relshp','race','sex','country']"
   ]
  },
  {
   "cell_type": "markdown",
   "metadata": {},
   "source": [
    "### Visualize Data\n",
    "\n",
    "Make some plots for the features"
   ]
  },
  {
   "cell_type": "code",
   "execution_count": 47,
   "metadata": {
    "collapsed": false
   },
   "outputs": [
    {
     "name": "stderr",
     "output_type": "stream",
     "text": [
      "/anaconda/lib/python3.6/site-packages/statsmodels/nonparametric/kdetools.py:20: VisibleDeprecationWarning: using a non-integer number instead of an integer will result in an error in the future\n",
      "  y = X[:m/2+1] + np.r_[0,X[m/2+1:],0]*1j\n"
     ]
    },
    {
     "data": {
      "image/png": "[encoded data removed]",
      "text/plain": [
       "<matplotlib.figure.Figure at 0x11354ecf8>"
      ]
     },
     "metadata": {},
     "output_type": "display_data"
    },
    {
     "data": {
      "image/png": "[encoded data removed]",
      "text/plain": [
       "<matplotlib.figure.Figure at 0x113a7ecf8>"
      ]
     },
     "metadata": {},
     "output_type": "display_data"
    },
    {
     "data": {
      "image/png": "[encoded data removed]",
      "text/plain": [
       "<matplotlib.figure.Figure at 0x11a90fba8>"
      ]
     },
     "metadata": {},
     "output_type": "display_data"
    },
    {
     "data": {
      "image/png": "[encoded data removed]",
      "text/plain": [
       "<matplotlib.figure.Figure at 0x113b5eac8>"
      ]
     },
     "metadata": {},
     "output_type": "display_data"
    },
    {
     "data": {
      "image/png": "[encoded data removed]",
      "text/plain": [
       "<matplotlib.figure.Figure at 0x11a7992e8>"
      ]
     },
     "metadata": {},
     "output_type": "display_data"
    },
    {
     "data": {
      "image/png": "[encoded data removed]",
      "text/plain": [
       "<matplotlib.figure.Figure at 0x11f09a748>"
      ]
     },
     "metadata": {},
     "output_type": "display_data"
    }
   ],
   "source": [
    "for quant in quantitative:\n",
    "    g=sns.FacetGrid(data=incomeDF,col='income',col_wrap=2)\n",
    "    g.map(sns.distplot,quant)"
   ]
  },
  {
   "cell_type": "markdown",
   "metadata": {},
   "source": [
    "Since we're working with Naive Bayes there is no need to normalize numerical features since it does that by design, if we were doing K-neighbors then it would matter. But we can see that larger cap-loss, hours, cap-gain,edu-num,fnlwgt and age are associated with >50K.\n",
    "\n",
    "Plot categorical features, but first need to encode income."
   ]
  },
  {
   "cell_type": "code",
   "execution_count": 48,
   "metadata": {
    "collapsed": true
   },
   "outputs": [],
   "source": [
    "incomeDF['income'] = incomeDF.income.map( {'<=50K':0,'>50K':1})"
   ]
  },
  {
   "cell_type": "code",
   "execution_count": 49,
   "metadata": {
    "collapsed": false
   },
   "outputs": [
    {
     "data": {
      "image/png": "[encoded data removed]",
      "text/plain": [
       "<matplotlib.figure.Figure at 0x11f3cb9b0>"
      ]
     },
     "metadata": {},
     "output_type": "display_data"
    }
   ],
   "source": [
    "#Plots of categorical features\n",
    "fig,axes=plt.subplots(3,3,figsize=[16,15])\n",
    "for cat,ax in zip(categorical,axes.ravel()):\n",
    "    sns.barplot(x='income', y=cat, data=incomeDF,ax=ax,orient='h')\n",
    "plt.tight_layout()\n"
   ]
  },
  {
   "cell_type": "markdown",
   "metadata": {},
   "source": [
    "There are relationships we would expect where certain educations and occupations are more likely to make more than 50K.\n",
    "\n",
    "### Encode the categorical features"
   ]
  },
  {
   "cell_type": "code",
   "execution_count": 50,
   "metadata": {
    "collapsed": false
   },
   "outputs": [
    {
     "data": {
      "text/html": [
       "<div>\n",
       "<table border=\"1\" class=\"dataframe\">\n",
       "  <thead>\n",
       "    <tr style=\"text-align: right;\">\n",
       "      <th></th>\n",
       "      <th>age</th>\n",
       "      <th>workcl</th>\n",
       "      <th>fnlwgt</th>\n",
       "      <th>edu</th>\n",
       "      <th>edu-num</th>\n",
       "      <th>mar-stat</th>\n",
       "      <th>occup</th>\n",
       "      <th>relshp</th>\n",
       "      <th>race</th>\n",
       "      <th>sex</th>\n",
       "      <th>cap-gain</th>\n",
       "      <th>cap-loss</th>\n",
       "      <th>hours</th>\n",
       "      <th>country</th>\n",
       "      <th>income</th>\n",
       "    </tr>\n",
       "  </thead>\n",
       "  <tbody>\n",
       "    <tr>\n",
       "      <th>25276</th>\n",
       "      <td>34</td>\n",
       "      <td>6</td>\n",
       "      <td>120672</td>\n",
       "      <td>5</td>\n",
       "      <td>4</td>\n",
       "      <td>4</td>\n",
       "      <td>6</td>\n",
       "      <td>4</td>\n",
       "      <td>2</td>\n",
       "      <td>1</td>\n",
       "      <td>0</td>\n",
       "      <td>0</td>\n",
       "      <td>10</td>\n",
       "      <td>39</td>\n",
       "      <td>0</td>\n",
       "    </tr>\n",
       "    <tr>\n",
       "      <th>21577</th>\n",
       "      <td>37</td>\n",
       "      <td>6</td>\n",
       "      <td>68899</td>\n",
       "      <td>11</td>\n",
       "      <td>9</td>\n",
       "      <td>2</td>\n",
       "      <td>3</td>\n",
       "      <td>0</td>\n",
       "      <td>4</td>\n",
       "      <td>1</td>\n",
       "      <td>0</td>\n",
       "      <td>2129</td>\n",
       "      <td>40</td>\n",
       "      <td>39</td>\n",
       "      <td>0</td>\n",
       "    </tr>\n",
       "    <tr>\n",
       "      <th>28527</th>\n",
       "      <td>27</td>\n",
       "      <td>4</td>\n",
       "      <td>132805</td>\n",
       "      <td>0</td>\n",
       "      <td>6</td>\n",
       "      <td>4</td>\n",
       "      <td>12</td>\n",
       "      <td>2</td>\n",
       "      <td>4</td>\n",
       "      <td>1</td>\n",
       "      <td>0</td>\n",
       "      <td>1980</td>\n",
       "      <td>40</td>\n",
       "      <td>39</td>\n",
       "      <td>0</td>\n",
       "    </tr>\n",
       "    <tr>\n",
       "      <th>8905</th>\n",
       "      <td>26</td>\n",
       "      <td>4</td>\n",
       "      <td>152436</td>\n",
       "      <td>11</td>\n",
       "      <td>9</td>\n",
       "      <td>0</td>\n",
       "      <td>1</td>\n",
       "      <td>1</td>\n",
       "      <td>4</td>\n",
       "      <td>0</td>\n",
       "      <td>0</td>\n",
       "      <td>0</td>\n",
       "      <td>50</td>\n",
       "      <td>39</td>\n",
       "      <td>0</td>\n",
       "    </tr>\n",
       "    <tr>\n",
       "      <th>1330</th>\n",
       "      <td>25</td>\n",
       "      <td>4</td>\n",
       "      <td>188488</td>\n",
       "      <td>11</td>\n",
       "      <td>9</td>\n",
       "      <td>4</td>\n",
       "      <td>7</td>\n",
       "      <td>2</td>\n",
       "      <td>4</td>\n",
       "      <td>1</td>\n",
       "      <td>0</td>\n",
       "      <td>0</td>\n",
       "      <td>40</td>\n",
       "      <td>39</td>\n",
       "      <td>0</td>\n",
       "    </tr>\n",
       "  </tbody>\n",
       "</table>\n",
       "</div>"
      ],
      "text/plain": [
       "       age  workcl  fnlwgt  edu  edu-num  mar-stat  occup  relshp  race  sex  \\\n",
       "25276   34       6  120672    5        4         4      6       4     2    1   \n",
       "21577   37       6   68899   11        9         2      3       0     4    1   \n",
       "28527   27       4  132805    0        6         4     12       2     4    1   \n",
       "8905    26       4  152436   11        9         0      1       1     4    0   \n",
       "1330    25       4  188488   11        9         4      7       2     4    1   \n",
       "\n",
       "       cap-gain  cap-loss  hours  country  income  \n",
       "25276         0         0     10       39       0  \n",
       "21577         0      2129     40       39       0  \n",
       "28527         0      1980     40       39       0  \n",
       "8905          0         0     50       39       0  \n",
       "1330          0         0     40       39       0  "
      ]
     },
     "execution_count": 50,
     "metadata": {},
     "output_type": "execute_result"
    }
   ],
   "source": [
    "from collections import defaultdict\n",
    "d = defaultdict(preprocessing.LabelEncoder)\n",
    "incomeDF[categorical] = incomeDF[categorical].apply(lambda x: d[x.name].fit_transform(x))\n",
    "incomeDF.head()"
   ]
  },
  {
   "cell_type": "markdown",
   "metadata": {},
   "source": [
    "### Separate training and test data"
   ]
  },
  {
   "cell_type": "code",
   "execution_count": 51,
   "metadata": {
    "collapsed": true
   },
   "outputs": [],
   "source": [
    "X = incomeDF.drop(['income'],axis=1); y = incomeDF.income\n",
    "Xtrain,Xtest,ytrain,ytest = cross_validation.train_test_split(X,y,test_size=0.2,random_state=5)"
   ]
  },
  {
   "cell_type": "markdown",
   "metadata": {},
   "source": [
    "### Build Naive Bayes Classifier"
   ]
  },
  {
   "cell_type": "code",
   "execution_count": 52,
   "metadata": {
    "collapsed": false
   },
   "outputs": [
    {
     "name": "stdout",
     "output_type": "stream",
     "text": [
      "Scores: [ 0.638942    0.62436224  0.6278699   0.61894133  0.625     ]\n",
      "             precision    recall  f1-score   support\n",
      "\n",
      "      <=50K       0.58      0.94      0.72      7841\n",
      "       >50K       0.84      0.31      0.46      7841\n",
      "\n",
      "avg / total       0.71      0.63      0.59     15682\n",
      "\n",
      "Confusion matrix, without normalization\n",
      "[[7386  455]\n",
      " [5394 2447]]\n"
     ]
    },
    {
     "data": {
      "image/png": "[encoded data removed]",
      "text/plain": [
       "<matplotlib.figure.Figure at 0x11fb2e9b0>"
      ]
     },
     "metadata": {},
     "output_type": "display_data"
    }
   ],
   "source": [
    "# Train classifier use K-fold cross-validation\n",
    "from sklearn.model_selection import cross_val_score, cross_val_predict\n",
    "\n",
    "clf_nb = GaussianNB()\n",
    "scores_nb = cross_val_score(clf_nb, X,y, cv=5)\n",
    "print('Scores:',scores_nb)\n",
    "predict_nb = cross_val_predict(clf_nb, X,y, cv=5)\n",
    "#Look at classification report and confusion matrix\n",
    "print(classification_report(y,predict_nb,target_names=['<=50K','>50K']))\n",
    "confmat_nb = confusion_matrix(y,predict_nb)\n",
    "plot_confusion_matrix(confmat_nb,['<=50K','>50K'])"
   ]
  },
  {
   "cell_type": "markdown",
   "metadata": {},
   "source": [
    "Can see from the above it is doing a poor job in correctly classifying earners >50K "
   ]
  },
  {
   "cell_type": "markdown",
   "metadata": {},
   "source": [
    "### Build Random Forest Classifier"
   ]
  },
  {
   "cell_type": "code",
   "execution_count": 53,
   "metadata": {
    "collapsed": false
   },
   "outputs": [
    {
     "name": "stdout",
     "output_type": "stream",
     "text": [
      "             precision    recall  f1-score   support\n",
      "\n",
      "      <=50K       0.87      0.77      0.81      7841\n",
      "       >50K       0.79      0.88      0.83      7841\n",
      "\n",
      "avg / total       0.83      0.83      0.82     15682\n",
      "\n",
      "Confusion matrix, without normalization\n",
      "[[6032 1809]\n",
      " [ 931 6910]]\n"
     ]
    },
    {
     "data": {
      "image/png": "[encoded data removed]",
      "text/plain": [
       "<matplotlib.figure.Figure at 0x11f60f438>"
      ]
     },
     "metadata": {},
     "output_type": "display_data"
    }
   ],
   "source": [
    "params = {'n_estimators':200,'max_depth':10,'random_state':7}\n",
    "\n",
    "clf_rf = RandomForestClassifier(**params)\n",
    "scores = cross_val_score(clf_rf, X,y, cv=5)\n",
    "predict = cross_val_predict(clf_rf, X,y, cv=5)\n",
    "#clf_rf.fit(Xtrain,ytrain)\n",
    "#ypred_rf = clf_rf.predict(Xtest)\n",
    "# Look at classification report and confusion matrix\n",
    "print(classification_report(y,predict,target_names=['<=50K','>50K']))\n",
    "confmat_rf = confusion_matrix(y,predict)\n",
    "plot_confusion_matrix(confmat_rf,['<=50K','>50K'])"
   ]
  },
  {
   "cell_type": "markdown",
   "metadata": {},
   "source": [
    "Our first go using Random Forest is better than Naive Bayes. We can try to search for optimal parameters. Since below we are doing cross-validation with our classifier we will use the full dataset, not just the training."
   ]
  },
  {
   "cell_type": "code",
   "execution_count": 54,
   "metadata": {
    "collapsed": true
   },
   "outputs": [],
   "source": [
    "# Utility function to report best scores from grid_searches\n",
    "def report(results, n_top=3):\n",
    "    for i in range(1, n_top + 1):\n",
    "        candidates = np.flatnonzero(results['rank_test_score'] == i)\n",
    "        for candidate in candidates:\n",
    "            print(\"Model with rank: {0}\".format(i))\n",
    "            print(\"Mean validation score: {0:.3f} (std: {1:.3f})\".format(\n",
    "                  results['mean_test_score'][candidate],\n",
    "                  results['std_test_score'][candidate]))\n",
    "            print(\"Parameters: {0}\".format(results['params'][candidate]))\n",
    "            print(\"\")"
   ]
  },
  {
   "cell_type": "code",
   "execution_count": 55,
   "metadata": {
    "collapsed": false
   },
   "outputs": [
    {
     "name": "stdout",
     "output_type": "stream",
     "text": [
      "RandomizedSearchCV took 462.87 seconds for 20 candidates parameter settings.\n",
      "Model with rank: 1\n",
      "Mean validation score: 0.825 (std: 0.008)\n",
      "Parameters: {'bootstrap': True, 'criterion': 'gini', 'max_depth': 50, 'max_features': 2, 'min_samples_leaf': 12, 'min_samples_split': 5, 'n_estimators': 1000}\n",
      "\n",
      "Model with rank: 2\n",
      "Mean validation score: 0.824 (std: 0.008)\n",
      "Parameters: {'bootstrap': False, 'criterion': 'gini', 'max_depth': None, 'max_features': 5, 'min_samples_leaf': 12, 'min_samples_split': 10, 'n_estimators': 200}\n",
      "\n",
      "Model with rank: 2\n",
      "Mean validation score: 0.824 (std: 0.007)\n",
      "Parameters: {'bootstrap': False, 'criterion': 'entropy', 'max_depth': 50, 'max_features': 5, 'min_samples_leaf': 74, 'min_samples_split': 9, 'n_estimators': 1000}\n",
      "\n"
     ]
    }
   ],
   "source": [
    "from sklearn.model_selection import GridSearchCV,cross_val_predict\n",
    "from sklearn.model_selection import RandomizedSearchCV\n",
    "from scipy.stats import randint as sp_randint\n",
    "from time import time \n",
    "\n",
    "clfs_rf = RandomForestClassifier()\n",
    "cv = 5 #k-fold cross validation\n",
    "param_dist = {\"n_estimators\":[200,1000,1500],\n",
    "              \"max_depth\": [50,30,None],\n",
    "              \"max_features\": sp_randint(1, 14),\n",
    "              \"min_samples_split\": sp_randint(2, 14),\n",
    "              \"min_samples_leaf\": sp_randint(10,100),\n",
    "              \"bootstrap\": [True, False],\n",
    "              \"criterion\": [\"gini\", \"entropy\"]}\n",
    "# run randomized search\n",
    "n_iter_search = 20\n",
    "random_search = RandomizedSearchCV(clfs_rf, param_distributions=param_dist,n_iter=n_iter_search,n_jobs=-1,cv=cv)\n",
    "start = time()\n",
    "random_search.fit(X, y)\n",
    "print(\"RandomizedSearchCV took %.2f seconds for %d candidates\"\n",
    "      \" parameter settings.\" % ((time() - start), n_iter_search))\n",
    "report(random_search.cv_results_)"
   ]
  },
  {
   "cell_type": "code",
   "execution_count": 56,
   "metadata": {
    "collapsed": false
   },
   "outputs": [
    {
     "name": "stdout",
     "output_type": "stream",
     "text": [
      "             precision    recall  f1-score   support\n",
      "\n",
      "      <=50K       0.89      0.79      0.83      1595\n",
      "       >50K       0.80      0.90      0.85      1542\n",
      "\n",
      "avg / total       0.85      0.84      0.84      3137\n",
      "\n",
      "Confusion matrix, without normalization\n",
      "[[1254  341]\n",
      " [ 155 1387]]\n"
     ]
    },
    {
     "data": {
      "image/png": "[encoded data removed]",
      "text/plain": [
       "<matplotlib.figure.Figure at 0x114770f60>"
      ]
     },
     "metadata": {},
     "output_type": "display_data"
    }
   ],
   "source": [
    "#Use #1 classifier for prediction\n",
    "ypred_srf = random_search.predict(Xtest)\n",
    "# Look at classification report and confusion matrix\n",
    "print(classification_report(ytest,ypred_srf,target_names=['<=50K','>50K']))\n",
    "confmat_srf = confusion_matrix(ytest,ypred_srf)\n",
    "plot_confusion_matrix(confmat_srf,['<=50K','>50K'])"
   ]
  }
 ],
 "metadata": {
  "kernelspec": {
   "display_name": "Python 3",
   "language": "python",
   "name": "python3"
  },
  "language_info": {
   "codemirror_mode": {
    "name": "ipython",
    "version": 3
   },
   "file_extension": ".py",
   "mimetype": "text/x-python",
   "name": "python",
   "nbconvert_exporter": "python",
   "pygments_lexer": "ipython3",
   "version": "3.6.0"
  }
 },
 "nbformat": 4,
 "nbformat_minor": 2
}
