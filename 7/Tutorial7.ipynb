{
 "cells": [
  {
   "cell_type": "markdown",
   "metadata": {},
   "source": [
    "# Tutorial 7. Deep Neural Networks\n",
    "\n",
    "In this notebook we will cover the following:\n",
    "\n",
    "1. [Building a perceptron](#perceptron)\n",
    "2. [Building a single layer neural network](#single)\n",
    "3. [Building a deep neural network](#deep)\n",
    "4. [Creating a vector quantizer](#quantizer)\n",
    "5. [Building a recurrent neural network for sequential data analysis](#recurrent)\n",
    "6. [Visualizing the characters in an optical character recognition database](#characters)\n",
    "7. [Building an optical character recognizer using neural networks](#optical)\n",
    "\n",
    "The human brain's job is to identify and recognize things, and we want machines to be able to do the same. A **neural network** is a framework that is modeled after the human brain to simulate our learning processes. Neural networks are designed to learn from data and recognize underlying patterns.\n",
    "\n",
    "Neural networks can be used classification, clustering, generation and other related tasks. A neural network consists of layers of **neurons** that are modeled after the bilogical neurons in the brain. Each layer is a set of independent neurons that are connected to the neurons of the adjacent layers. The input layer corresponds to the input data that we provide and the output layer consists of the ouput that we desire. All the layers inbetween are called **hidden layers**, the larger number of hidden layers the more freedom to train itself and higher accuracy. \n",
    "\n",
    "If we wanted neural network to clasify data, in order for a neural network to work, we need to provide labeled training data. The neural network will train itself by optimizing the cost function. The cost function is the error between actual labels and the predicted labels from the neural network. We keep iterating until the error goes below a pre-defined threshold. \n",
    "\n",
    "**Deep** neural networks are neural networks that consist of many hidden layers, and falls under the realm of deep learning - the field dedicated to the stufy of neural networks.\n",
    "\n",
    "We will use the **neurolab** package for python available here: https://pythonhosted.org/neurolab/install.html."
   ]
  },
  {
   "cell_type": "code",
   "execution_count": 1,
   "metadata": {
    "collapsed": true
   },
   "outputs": [],
   "source": [
    "import numpy as np # linear algebra\n",
    "import pandas as pd # data processing, CSV file I/O (e.g. pd.read_csv)\n",
    "from IPython.display import display\n",
    "import seaborn as sns\n",
    "import matplotlib\n",
    "%matplotlib inline\n",
    "import matplotlib.pylab as plt\n",
    "import neurolab"
   ]
  },
  {
   "cell_type": "markdown",
   "metadata": {},
   "source": [
    "## 7.1 Building a perceptron <a class=\"anchor\" id=\"perceptron\"></a>\n",
    "\n",
    "A **perceptron** is a single neuron that performs all the computation. It is a very simple model, but it forms the basis of building a complex neural network. The neuron combines inputs using different weights, and it then adds a bias value to compute the output. It's a simple linear equation relating input values with the ouput of the perceptron.\n",
    "\n",
    "![title](img/perceptron.png)\n",
    "\n",
    "In this example we will work with generated test data."
   ]
  },
  {
   "cell_type": "code",
   "execution_count": 2,
   "metadata": {
    "collapsed": false
   },
   "outputs": [
    {
     "data": {
      "text/html": [
       "<div>\n",
       "<table border=\"1\" class=\"dataframe\">\n",
       "  <thead>\n",
       "    <tr style=\"text-align: right;\">\n",
       "      <th></th>\n",
       "      <th>x1</th>\n",
       "      <th>x2</th>\n",
       "      <th>y</th>\n",
       "    </tr>\n",
       "  </thead>\n",
       "  <tbody>\n",
       "    <tr>\n",
       "      <th>0</th>\n",
       "      <td>0.3</td>\n",
       "      <td>0.3</td>\n",
       "      <td>0</td>\n",
       "    </tr>\n",
       "    <tr>\n",
       "      <th>1</th>\n",
       "      <td>0.1</td>\n",
       "      <td>0.4</td>\n",
       "      <td>0</td>\n",
       "    </tr>\n",
       "    <tr>\n",
       "      <th>2</th>\n",
       "      <td>0.4</td>\n",
       "      <td>0.6</td>\n",
       "      <td>0</td>\n",
       "    </tr>\n",
       "    <tr>\n",
       "      <th>3</th>\n",
       "      <td>0.9</td>\n",
       "      <td>0.5</td>\n",
       "      <td>1</td>\n",
       "    </tr>\n",
       "  </tbody>\n",
       "</table>\n",
       "</div>"
      ],
      "text/plain": [
       "    x1   x2  y\n",
       "0  0.3  0.3  0\n",
       "1  0.1  0.4  0\n",
       "2  0.4  0.6  0\n",
       "3  0.9  0.5  1"
      ]
     },
     "execution_count": 2,
     "metadata": {},
     "output_type": "execute_result"
    }
   ],
   "source": [
    "data = pd.DataFrame([[0.3,0.3],[0.1,0.4],[0.4,0.6],[0.9,0.5]],columns=['x1','x2'])\n",
    "data['y'] = np.array([[0],[0],[0],[1]])\n",
    "data.head()"
   ]
  },
  {
   "cell_type": "markdown",
   "metadata": {},
   "source": [
    "Make a plot:"
   ]
  },
  {
   "cell_type": "code",
   "execution_count": 3,
   "metadata": {
    "collapsed": false
   },
   "outputs": [
    {
     "data": {
      "text/plain": [
       "<seaborn.axisgrid.FacetGrid at 0x114853da0>"
      ]
     },
     "execution_count": 3,
     "metadata": {},
     "output_type": "execute_result"
    },
    {
     "data": {
      "image/png": "[encoded data removed]",
      "text/plain": [
       "<matplotlib.figure.Figure at 0x114875e48>"
      ]
     },
     "metadata": {},
     "output_type": "display_data"
    }
   ],
   "source": [
    "sns.lmplot(data=data,x='x1',y='x2',hue='y',fit_reg=False)"
   ]
  },
  {
   "cell_type": "markdown",
   "metadata": {},
   "source": [
    "### Build perceptron\n",
    "\n",
    "Build a perceptron with two inputs, the function also needs the mimimum and maximum values of the input data:"
   ]
  },
  {
   "cell_type": "code",
   "execution_count": 4,
   "metadata": {
    "collapsed": true
   },
   "outputs": [],
   "source": [
    "perceptron = neurolab.net.newp([[0,1],[0,1]],1) # 1 perceptron with max/min for inputs"
   ]
  },
  {
   "cell_type": "markdown",
   "metadata": {},
   "source": [
    "Train the perceptron, the number of *epochs* specifies the number of complete passes through the training set. The *show* parameter specifies how frequently we want to display the progress. The *lr* parameter specifies the learning rate of the perceptron, it is the step size for the algorithm to search through the parameter space. If learning rate is large then the algorithm will move faster, but might miss the optimum value."
   ]
  },
  {
   "cell_type": "code",
   "execution_count": 5,
   "metadata": {
    "collapsed": false
   },
   "outputs": [
    {
     "name": "stdout",
     "output_type": "stream",
     "text": [
      "The goal of learning is reached\n"
     ]
    }
   ],
   "source": [
    "X = data.drop(['y'],axis=1);y=data.y\n",
    "error = perceptron.train(X.values,y.values.reshape((X.shape[0],1)),epochs=50,show=15,lr=0.01)"
   ]
  },
  {
   "cell_type": "markdown",
   "metadata": {},
   "source": [
    "Note above we had to reshape the y values to a 2dimensional axis for the function to work. Now let's plot the results:"
   ]
  },
  {
   "cell_type": "code",
   "execution_count": 6,
   "metadata": {
    "collapsed": false
   },
   "outputs": [
    {
     "data": {
      "text/plain": [
       "<matplotlib.text.Text at 0x11706f668>"
      ]
     },
     "execution_count": 6,
     "metadata": {},
     "output_type": "execute_result"
    },
    {
     "data": {
      "image/png": "[encoded data removed]",
      "text/plain": [
       "<matplotlib.figure.Figure at 0x116eb36a0>"
      ]
     },
     "metadata": {},
     "output_type": "display_data"
    }
   ],
   "source": [
    "plt.figure()\n",
    "plt.plot(error);plt.xlabel('Number of epochs');plt.ylabel('Training error');plt.title('Training error progress')"
   ]
  },
  {
   "cell_type": "markdown",
   "metadata": {},
   "source": [
    "Can see the the error drops to zero after 4 epochs."
   ]
  },
  {
   "cell_type": "markdown",
   "metadata": {},
   "source": [
    "## 7.2 Building a single layer neural network <a class=\"anchor\" id=\"single\"></a>\n",
    "\n",
    "Now that we know how to create aperceptron, we can create a single layer neural network, which consists of multiple neurons in a single layer. We have an input, a hidden layer, and an output layer.\n",
    "\n",
    "For this example we will use the included file *data_single_layer.txt*:"
   ]
  },
  {
   "cell_type": "code",
   "execution_count": 7,
   "metadata": {
    "collapsed": false
   },
   "outputs": [
    {
     "data": {
      "text/html": [
       "<div>\n",
       "<table border=\"1\" class=\"dataframe\">\n",
       "  <thead>\n",
       "    <tr style=\"text-align: right;\">\n",
       "      <th></th>\n",
       "      <th>x1</th>\n",
       "      <th>x2</th>\n",
       "      <th>y1</th>\n",
       "      <th>y2</th>\n",
       "    </tr>\n",
       "  </thead>\n",
       "  <tbody>\n",
       "    <tr>\n",
       "      <th>0</th>\n",
       "      <td>1.0</td>\n",
       "      <td>4.0</td>\n",
       "      <td>0</td>\n",
       "      <td>0</td>\n",
       "    </tr>\n",
       "    <tr>\n",
       "      <th>1</th>\n",
       "      <td>1.1</td>\n",
       "      <td>3.9</td>\n",
       "      <td>0</td>\n",
       "      <td>0</td>\n",
       "    </tr>\n",
       "    <tr>\n",
       "      <th>2</th>\n",
       "      <td>1.2</td>\n",
       "      <td>4.1</td>\n",
       "      <td>0</td>\n",
       "      <td>0</td>\n",
       "    </tr>\n",
       "    <tr>\n",
       "      <th>3</th>\n",
       "      <td>0.9</td>\n",
       "      <td>3.7</td>\n",
       "      <td>0</td>\n",
       "      <td>0</td>\n",
       "    </tr>\n",
       "    <tr>\n",
       "      <th>4</th>\n",
       "      <td>7.0</td>\n",
       "      <td>4.0</td>\n",
       "      <td>0</td>\n",
       "      <td>1</td>\n",
       "    </tr>\n",
       "  </tbody>\n",
       "</table>\n",
       "</div>"
      ],
      "text/plain": [
       "    x1   x2  y1  y2\n",
       "0  1.0  4.0   0   0\n",
       "1  1.1  3.9   0   0\n",
       "2  1.2  4.1   0   0\n",
       "3  0.9  3.7   0   0\n",
       "4  7.0  4.0   0   1"
      ]
     },
     "execution_count": 7,
     "metadata": {},
     "output_type": "execute_result"
    }
   ],
   "source": [
    "data = pd.read_csv('data_single_layer.txt',delim_whitespace=True,names=['x1','x2','y1','y2'])\n",
    "data.head()"
   ]
  },
  {
   "cell_type": "markdown",
   "metadata": {},
   "source": [
    "Make a plot:"
   ]
  },
  {
   "cell_type": "code",
   "execution_count": 8,
   "metadata": {
    "collapsed": false
   },
   "outputs": [
    {
     "data": {
      "text/plain": [
       "<seaborn.axisgrid.FacetGrid at 0x1170b8978>"
      ]
     },
     "execution_count": 8,
     "metadata": {},
     "output_type": "execute_result"
    },
    {
     "data": {
      "image/png": "[encoded data removed]",
      "text/plain": [
       "<matplotlib.figure.Figure at 0x1170cf2e8>"
      ]
     },
     "metadata": {},
     "output_type": "display_data"
    },
    {
     "data": {
      "image/png": "[encoded data removed]",
      "text/plain": [
       "<matplotlib.figure.Figure at 0x1171e32b0>"
      ]
     },
     "metadata": {},
     "output_type": "display_data"
    }
   ],
   "source": [
    "sns.lmplot(data=data,x='x1',y='x2',hue='y1',fit_reg=False)\n",
    "sns.lmplot(data=data,x='x1',y='x2',hue='y2',fit_reg=False)"
   ]
  },
  {
   "cell_type": "markdown",
   "metadata": {},
   "source": [
    "Extract the minimum and maximum values:"
   ]
  },
  {
   "cell_type": "code",
   "execution_count": 9,
   "metadata": {
    "collapsed": false
   },
   "outputs": [],
   "source": [
    "maxs=data[['x1','x2']].max()\n",
    "mins=data[['x1','x2']].min()"
   ]
  },
  {
   "cell_type": "markdown",
   "metadata": {},
   "source": [
    "Define a single layer neural network with two neurons in the hidden layer:"
   ]
  },
  {
   "cell_type": "code",
   "execution_count": 10,
   "metadata": {
    "collapsed": false
   },
   "outputs": [
    {
     "name": "stdout",
     "output_type": "stream",
     "text": [
      "Epoch: 20; Error: 4.0;\n",
      "Epoch: 40; Error: 4.0;\n",
      "The maximum number of train epochs is reached\n"
     ]
    }
   ],
   "source": [
    "# Each element in the list specifies the min/max values of the inputs\n",
    "single_layer_net = neurolab.net.newp([[mins.x1,maxs.x1],[mins.x2,maxs.x2]],2)\n",
    "# Train the nerual network until 50 epochs\n",
    "X=data.drop(['y1','y2'],axis=1);y=data[['y1','y2']]\n",
    "error = single_layer_net.train(X.values,y.values,epochs=50,show=20,lr=0.01)"
   ]
  },
  {
   "cell_type": "markdown",
   "metadata": {},
   "source": [
    "Plot the errror:"
   ]
  },
  {
   "cell_type": "code",
   "execution_count": 11,
   "metadata": {
    "collapsed": false
   },
   "outputs": [
    {
     "data": {
      "text/plain": [
       "<matplotlib.text.Text at 0x1175049e8>"
      ]
     },
     "execution_count": 11,
     "metadata": {},
     "output_type": "execute_result"
    },
    {
     "data": {
      "image/png": "[encoded data removed]",
      "text/plain": [
       "<matplotlib.figure.Figure at 0x1170e6f28>"
      ]
     },
     "metadata": {},
     "output_type": "display_data"
    }
   ],
   "source": [
    "plt.figure()\n",
    "plt.plot(error);plt.xlabel('Number of epochs');plt.ylabel('Training error');plt.title('Training error progress')"
   ]
  },
  {
   "cell_type": "markdown",
   "metadata": {},
   "source": [
    "Can see from the above the error converges to 4 and doesn't reach 0. Now let's test the neural network on new test data."
   ]
  },
  {
   "cell_type": "code",
   "execution_count": 12,
   "metadata": {
    "collapsed": false
   },
   "outputs": [
    {
     "data": {
      "text/plain": [
       "<seaborn.axisgrid.FacetGrid at 0x117541390>"
      ]
     },
     "execution_count": 12,
     "metadata": {},
     "output_type": "execute_result"
    },
    {
     "data": {
      "image/png": "[encoded data removed]",
      "text/plain": [
       "<matplotlib.figure.Figure at 0x117541278>"
      ]
     },
     "metadata": {},
     "output_type": "display_data"
    },
    {
     "data": {
      "image/png": "[encoded data removed]",
      "text/plain": [
       "<matplotlib.figure.Figure at 0x11765d630>"
      ]
     },
     "metadata": {},
     "output_type": "display_data"
    }
   ],
   "source": [
    "# Test data\n",
    "test = pd.DataFrame([[0.3,4.5],[4.5,0.5],[4.3,8]],columns=['x1','x2'])\n",
    "pred = single_layer_net.sim(test.values)\n",
    "\n",
    "# Make plots\n",
    "test['y1'] = pred[:,0];test['y2']=pred[:,1]\n",
    "sns.lmplot(data=test,x='x1',y='x2',hue='y1',fit_reg=False)\n",
    "sns.lmplot(data=test,x='x1',y='x2',hue='y2',fit_reg=False)"
   ]
  },
  {
   "cell_type": "markdown",
   "metadata": {
    "collapsed": false
   },
   "source": [
    "Can compare the above to the training dataset we used, to see how it does for points in close to the same area."
   ]
  },
  {
   "cell_type": "markdown",
   "metadata": {
    "collapsed": false
   },
   "source": [
    "## 7.3 Building a deep neural network <a class=\"anchor\" id=\"deep\"></a>\n",
    "\n",
    "A deep neural network consists of an input layer, many hidden layers, and an output layer. Looks like this multilayer neural network:\n",
    "\n",
    "![title](img/deep.png)\n",
    "\n",
    "We will generate some training data base on a function to transform the values, and we expect the neural network to learn the function on its own with only input and output training data:"
   ]
  },
  {
   "cell_type": "code",
   "execution_count": 13,
   "metadata": {
    "collapsed": false
   },
   "outputs": [
    {
     "data": {
      "text/plain": [
       "<seaborn.axisgrid.FacetGrid at 0x117547710>"
      ]
     },
     "execution_count": 13,
     "metadata": {},
     "output_type": "execute_result"
    },
    {
     "data": {
      "image/png": "[encoded data removed]",
      "text/plain": [
       "<matplotlib.figure.Figure at 0x117547828>"
      ]
     },
     "metadata": {},
     "output_type": "display_data"
    }
   ],
   "source": [
    "min_value=-12\n",
    "max_value=12\n",
    "num_datapoints=90\n",
    "\n",
    "x = np.linspace(min_value,max_value,num_datapoints)\n",
    "y = 2*np.square(x) + 7\n",
    "y /= np.linalg.norm(y)\n",
    "#Reshape the arrays\n",
    "data = pd.DataFrame({'x':x,'y':y})\n",
    "sns.lmplot(data=data,x='x',y='y',fit_reg=False)"
   ]
  },
  {
   "cell_type": "markdown",
   "metadata": {},
   "source": [
    "Build deep neural network with each hidden layer having 10 neurons:"
   ]
  },
  {
   "cell_type": "code",
   "execution_count": 14,
   "metadata": {
    "collapsed": true
   },
   "outputs": [],
   "source": [
    "#Each hidden layer has 10 neurons and the output layer has 1 neuron\n",
    "multilayer_net = neurolab.net.newff([[min_value,max_value]],[10,10,1])"
   ]
  },
  {
   "cell_type": "markdown",
   "metadata": {},
   "source": [
    "The training algorithm is set to gradient descent that is an algorithm that minimizes functions. Given a function defined by a set of parameters, gradient descent starts with an initial set of parameter values and iteratively moves toward a set of parameter values that minimize the function. The learningRate variable controls how large of a step we take downhill during each iteration. If we take too large of a step, we may step over the minimum. "
   ]
  },
  {
   "cell_type": "code",
   "execution_count": 15,
   "metadata": {
    "collapsed": false
   },
   "outputs": [
    {
     "name": "stdout",
     "output_type": "stream",
     "text": [
      "Epoch: 100; Error: 2.086941630742826;\n",
      "Epoch: 200; Error: 0.3982914619781928;\n",
      "Epoch: 300; Error: 0.14410094393172654;\n",
      "Epoch: 400; Error: 0.07877849255397519;\n",
      "Epoch: 500; Error: 0.1947789911652117;\n",
      "Epoch: 600; Error: 0.08156999653613474;\n",
      "Epoch: 700; Error: 0.06708037471416688;\n",
      "Epoch: 800; Error: 0.0749822256009174;\n",
      "The maximum number of train epochs is reached\n"
     ]
    }
   ],
   "source": [
    "multilayer_net.trainf = neurolab.train.train_gd\n",
    "# Train\n",
    "error = multilayer_net.train(data.x.values.reshape((num_datapoints,1)),\n",
    "                             data.y.values.reshape((num_datapoints,1)),\n",
    "                            epochs=800,show=100,goal=0.01)"
   ]
  },
  {
   "cell_type": "markdown",
   "metadata": {},
   "source": [
    "Plot the training error:"
   ]
  },
  {
   "cell_type": "code",
   "execution_count": 16,
   "metadata": {
    "collapsed": false
   },
   "outputs": [
    {
     "data": {
      "text/plain": [
       "<matplotlib.text.Text at 0x117a78080>"
      ]
     },
     "execution_count": 16,
     "metadata": {},
     "output_type": "execute_result"
    },
    {
     "data": {
      "image/png": "[encoded data removed]",
      "text/plain": [
       "<matplotlib.figure.Figure at 0x10a537fd0>"
      ]
     },
     "metadata": {},
     "output_type": "display_data"
    }
   ],
   "source": [
    "plt.plot(error);plt.xlabel('Epochs');plt.ylabel('Error')"
   ]
  },
  {
   "cell_type": "markdown",
   "metadata": {},
   "source": [
    "Let's make a set of predictions on new data and see what it looks like:"
   ]
  },
  {
   "cell_type": "code",
   "execution_count": 17,
   "metadata": {
    "collapsed": false
   },
   "outputs": [
    {
     "data": {
      "text/plain": [
       "<matplotlib.legend.Legend at 0x117b2f7f0>"
      ]
     },
     "execution_count": 17,
     "metadata": {},
     "output_type": "execute_result"
    },
    {
     "data": {
      "image/png": "[encoded data removed]",
      "text/plain": [
       "<matplotlib.figure.Figure at 0x117a78898>"
      ]
     },
     "metadata": {},
     "output_type": "display_data"
    }
   ],
   "source": [
    "#Run network on training data to see performance\n",
    "predicted_output= multilayer_net.sim(data.x.values.reshape((num_datapoints,1)))\n",
    "x2=np.linspace(min_value,max_value,num_datapoints*2)\n",
    "y2 = multilayer_net.sim(x2.reshape((num_datapoints*2,1)))\n",
    "#Plot\n",
    "plt.figure()\n",
    "plt.plot(x,y,'k',lw=3.0,label='original')\n",
    "plt.plot(x,predicted_output,'ko',label='predicted')\n",
    "plt.plot(x2,y2,'ro',label='new test set')\n",
    "plt.legend()"
   ]
  },
  {
   "cell_type": "markdown",
   "metadata": {},
   "source": [
    "Can see it almost gets the correct shape. Can play around with the number of neurons and see if it changes."
   ]
  },
  {
   "cell_type": "markdown",
   "metadata": {},
   "source": [
    "## 7.4 Creating a vector quantizer <a class=\"anchor\" id=\"quantizer\"></a>\n",
    "\n",
    "As we learned in Tutorial 4, **vector quantization** is the *N* dimensional version of \"rounding off\". \n",
    "\n",
    "In this example we will use included data file *data_vq.txt*:"
   ]
  },
  {
   "cell_type": "code",
   "execution_count": 18,
   "metadata": {
    "collapsed": false
   },
   "outputs": [
    {
     "data": {
      "text/html": [
       "<div>\n",
       "<table border=\"1\" class=\"dataframe\">\n",
       "  <thead>\n",
       "    <tr style=\"text-align: right;\">\n",
       "      <th></th>\n",
       "      <th>x1</th>\n",
       "      <th>x2</th>\n",
       "      <th>y1</th>\n",
       "      <th>y2</th>\n",
       "      <th>y3</th>\n",
       "      <th>y4</th>\n",
       "    </tr>\n",
       "  </thead>\n",
       "  <tbody>\n",
       "    <tr>\n",
       "      <th>0</th>\n",
       "      <td>1.0</td>\n",
       "      <td>4.0</td>\n",
       "      <td>1</td>\n",
       "      <td>0</td>\n",
       "      <td>0</td>\n",
       "      <td>0</td>\n",
       "    </tr>\n",
       "    <tr>\n",
       "      <th>1</th>\n",
       "      <td>1.1</td>\n",
       "      <td>3.9</td>\n",
       "      <td>1</td>\n",
       "      <td>0</td>\n",
       "      <td>0</td>\n",
       "      <td>0</td>\n",
       "    </tr>\n",
       "    <tr>\n",
       "      <th>2</th>\n",
       "      <td>1.2</td>\n",
       "      <td>4.1</td>\n",
       "      <td>1</td>\n",
       "      <td>0</td>\n",
       "      <td>0</td>\n",
       "      <td>0</td>\n",
       "    </tr>\n",
       "    <tr>\n",
       "      <th>3</th>\n",
       "      <td>0.9</td>\n",
       "      <td>3.7</td>\n",
       "      <td>1</td>\n",
       "      <td>0</td>\n",
       "      <td>0</td>\n",
       "      <td>0</td>\n",
       "    </tr>\n",
       "    <tr>\n",
       "      <th>4</th>\n",
       "      <td>7.0</td>\n",
       "      <td>4.0</td>\n",
       "      <td>0</td>\n",
       "      <td>1</td>\n",
       "      <td>0</td>\n",
       "      <td>0</td>\n",
       "    </tr>\n",
       "  </tbody>\n",
       "</table>\n",
       "</div>"
      ],
      "text/plain": [
       "    x1   x2  y1  y2  y3  y4\n",
       "0  1.0  4.0   1   0   0   0\n",
       "1  1.1  3.9   1   0   0   0\n",
       "2  1.2  4.1   1   0   0   0\n",
       "3  0.9  3.7   1   0   0   0\n",
       "4  7.0  4.0   0   1   0   0"
      ]
     },
     "execution_count": 18,
     "metadata": {},
     "output_type": "execute_result"
    }
   ],
   "source": [
    "data= pd.read_csv('data_vq.txt',delim_whitespace=True,names=['x1','x2','y1','y2','y3','y4'])\n",
    "data.head()\n"
   ]
  },
  {
   "cell_type": "markdown",
   "metadata": {},
   "source": [
    "We see above there are 4 labels. We will define a **learning vector quantization (LVQ)** neural network with two layers. The array in the last parameter specifies the percentage weightage to each ouput (should sum up to 1):"
   ]
  },
  {
   "cell_type": "code",
   "execution_count": 19,
   "metadata": {
    "collapsed": false
   },
   "outputs": [
    {
     "name": "stderr",
     "output_type": "stream",
     "text": [
      "/Users/Justin/anaconda3/lib/python3.6/site-packages/neurolab/net.py:179: VisibleDeprecationWarning: using a non-integer number instead of an integer will result in an error in the future\n",
      "  layer_out.np['w'][n][st:i].fill(1.0)\n"
     ]
    },
    {
     "name": "stdout",
     "output_type": "stream",
     "text": [
      "Epoch: 100; Error: 0.0;\n",
      "The maximum number of train epochs is reached\n"
     ]
    }
   ],
   "source": [
    "#Define neural network with 2 layers, 10 neurons in input layer \n",
    "# and 4 neurons in output layer\n",
    "X = data[['x1','x2']]; y = data[['y1','y2','y3','y4']]\n",
    "net = neurolab.net.newlvq(neurolab.tool.minmax(X.values),10,[0.25,0.25,0.25,0.25])\n",
    "\n",
    "# Train the LVQ neural network\n",
    "error = net.train(X.values,y.values,epochs=100,goal=-1)"
   ]
  },
  {
   "cell_type": "markdown",
   "metadata": {},
   "source": [
    "Create a grid of values for testing and visualization:"
   ]
  },
  {
   "cell_type": "code",
   "execution_count": 20,
   "metadata": {
    "collapsed": true
   },
   "outputs": [],
   "source": [
    "# Input grid\n",
    "xx,yy = np.meshgrid(np.arange(0,8,0.2),np.arange(0,8,0.2))\n",
    "xx.shape= xx.size, 1\n",
    "yy.shape= yy.size, 1\n",
    "input_grid = np.concatenate((xx,yy),axis=1)"
   ]
  },
  {
   "cell_type": "code",
   "execution_count": 21,
   "metadata": {
    "collapsed": false
   },
   "outputs": [],
   "source": [
    "# Evaluate the network on this grid\n",
    "output_grid = net.sim(input_grid)\n",
    "\n",
    "# Define the 4 classes in data\n",
    "class1 = X.loc[(y.y1==1)]\n",
    "class2 = X.loc[(y.y2==1)]\n",
    "class3 = X.loc[(y.y3==1)]\n",
    "class4 = X.loc[(y.y4==1)]\n",
    "\n",
    "# Define the grid for all the classes\n",
    "grid1 = input_grid[output_grid[:,0]==1 ]\n",
    "grid2 = input_grid[output_grid[:,1]==1 ]\n",
    "grid3 = input_grid[output_grid[:,2]==1 ]\n",
    "grid4 = input_grid[output_grid[:,3]==1 ]"
   ]
  },
  {
   "cell_type": "markdown",
   "metadata": {},
   "source": [
    "Plot the outputs:"
   ]
  },
  {
   "cell_type": "code",
   "execution_count": 22,
   "metadata": {
    "collapsed": false
   },
   "outputs": [
    {
     "data": {
      "text/plain": [
       "<matplotlib.text.Text at 0x117c637f0>"
      ]
     },
     "execution_count": 22,
     "metadata": {},
     "output_type": "execute_result"
    },
    {
     "data": {
      "image/png": "[encoded data removed]",
      "text/plain": [
       "<matplotlib.figure.Figure at 0x117af2e10>"
      ]
     },
     "metadata": {},
     "output_type": "display_data"
    }
   ],
   "source": [
    "plt.plot(class1.x1,class1.x2,'ko')\n",
    "plt.plot(class2.x1,class2.x2,'ro')\n",
    "plt.plot(class3.x1,class3.x2,'go')\n",
    "plt.plot(class4.x1,class4.x2,'bo')\n",
    "plt.plot(grid1[:,0],grid1[:,1],'k.')\n",
    "plt.plot(grid2[:,0],grid2[:,1],'r.')\n",
    "plt.plot(grid3[:,0],grid3[:,1],'g.')\n",
    "plt.plot(grid4[:,0],grid4[:,1],'b.')\n",
    "plt.axis([0,8,0,8])\n",
    "plt.title('Vector quantization using neural networks')"
   ]
  },
  {
   "cell_type": "markdown",
   "metadata": {},
   "source": [
    "Space is divided into regions, each region corresponds to a bucket in the list of vector-quantized regions in the space."
   ]
  },
  {
   "cell_type": "markdown",
   "metadata": {
    "collapsed": true
   },
   "source": [
    "## 7.5 Building a recurrent neural network for sequential data analysis <a class=\"anchor\" id=\"recurrent\"></a>\n",
    "\n",
    "Recurrent neural networks are important for analyzing sequential and time-series data. When dealing with seuqential and time series data, we need to account for the temporal dependencies in the data. \n",
    "\n",
    "In this example we will generate waveform data:"
   ]
  },
  {
   "cell_type": "code",
   "execution_count": 23,
   "metadata": {
    "collapsed": false
   },
   "outputs": [],
   "source": [
    "# Create samples for training and testing\n",
    "def create_waveform(num_points):\n",
    "    wave = pd.DataFrame( np.tile(np.cos(np.arange(0,num_points)),(4,1)).T,columns=['x1','x2','x3','x4'])\n",
    "    wave.x2 = wave.x2*2\n",
    "    wave.x3 = wave.x3*3\n",
    "    wave.x4 = wave.x4*4\n",
    "    \n",
    "    amps    = pd.DataFrame({'amp1':np.ones(num_points),'amp2':4+np.zeros(num_points),'amp3':2*np.ones(num_points),\n",
    "                        'amp4':0.5+np.zeros(num_points)})\n",
    "    \n",
    "    #Concatenate waves and amplitudes together \n",
    "    data = pd.concat([wave.x1,wave.x2,wave.x3,wave.x4], axis=0, ignore_index=True)\n",
    "    amp  = pd.concat([amps.amp1,amps.amp2,amps.amp3,amps.amp4], axis=0, ignore_index=True)\n",
    "    \n",
    "    return data,amp"
   ]
  },
  {
   "cell_type": "code",
   "execution_count": 24,
   "metadata": {
    "collapsed": false
   },
   "outputs": [
    {
     "data": {
      "text/plain": [
       "<matplotlib.axes._subplots.AxesSubplot at 0x117b867b8>"
      ]
     },
     "execution_count": 24,
     "metadata": {},
     "output_type": "execute_result"
    },
    {
     "data": {
      "image/png": "[encoded data removed]",
      "text/plain": [
       "<matplotlib.figure.Figure at 0x1179cb2b0>"
      ]
     },
     "metadata": {},
     "output_type": "display_data"
    }
   ],
   "source": [
    "# Create sample data with 30 points and make plots\n",
    "num_points=30\n",
    "data,amplitude = create_waveform(num_points)\n",
    "data.plot()\n",
    "amplitude.plot()"
   ]
  },
  {
   "cell_type": "markdown",
   "metadata": {},
   "source": [
    "Creat a recurrent neural network with 2 layers, and set the intialized functions for each layer, then train the recurrent neural network:"
   ]
  },
  {
   "cell_type": "code",
   "execution_count": 25,
   "metadata": {
    "collapsed": false
   },
   "outputs": [],
   "source": [
    "# Network with 2 layers\n",
    "net = neurolab.net.newelm([[-2,2]],[10,1],[neurolab.trans.TanSig(),neurolab.trans.PureLin()])\n",
    "# Set initialized functions for each layer\n",
    "net.layers[0].initf = neurolab.init.InitRand([-0.1,0.1],'wb')\n",
    "net.layers[1].initf = neurolab.init.InitRand([-0.1,0.1],'wb')\n",
    "net.init()"
   ]
  },
  {
   "cell_type": "code",
   "execution_count": 26,
   "metadata": {
    "collapsed": false
   },
   "outputs": [
    {
     "name": "stdout",
     "output_type": "stream",
     "text": [
      "Epoch: 100; Error: 1.5160529275851122;\n",
      "Epoch: 200; Error: 0.6271211462161403;\n",
      "Epoch: 300; Error: 0.2684376664779806;\n",
      "Epoch: 400; Error: 0.29483470671176043;\n",
      "Epoch: 500; Error: 0.35864318698374487;\n",
      "Epoch: 600; Error: 0.22554689347375792;\n",
      "Epoch: 700; Error: 0.19163413653656244;\n",
      "Epoch: 800; Error: 0.17112898710231625;\n",
      "Epoch: 900; Error: 0.16113965838770475;\n",
      "Epoch: 1000; Error: 0.1549178052417129;\n",
      "The maximum number of train epochs is reached\n"
     ]
    },
    {
     "data": {
      "text/plain": [
       "<matplotlib.text.Text at 0x117d9fcc0>"
      ]
     },
     "execution_count": 26,
     "metadata": {},
     "output_type": "execute_result"
    },
    {
     "data": {
      "image/png": "[encoded data removed]",
      "text/plain": [
       "<matplotlib.figure.Figure at 0x117641048>"
      ]
     },
     "metadata": {},
     "output_type": "display_data"
    }
   ],
   "source": [
    "#Training the recurrent neural network\n",
    "shape = data.values.shape[0]\n",
    "error = net.train(data.values.reshape(shape,1),amplitude.values.reshape(shape,1),\n",
    "                  epochs=1000,show=100,goal=0.01)\n",
    "plt.plot(error);plt.xlabel('Epochs');plt.ylabel('Error')"
   ]
  },
  {
   "cell_type": "markdown",
   "metadata": {},
   "source": [
    "Get the predicted output from the neural network and plot the results:"
   ]
  },
  {
   "cell_type": "code",
   "execution_count": 27,
   "metadata": {
    "collapsed": false
   },
   "outputs": [
    {
     "data": {
      "text/plain": [
       "<matplotlib.legend.Legend at 0x117ddca20>"
      ]
     },
     "execution_count": 27,
     "metadata": {},
     "output_type": "execute_result"
    },
    {
     "data": {
      "image/png": "[encoded data removed]",
      "text/plain": [
       "<matplotlib.figure.Figure at 0x1170bdcf8>"
      ]
     },
     "metadata": {},
     "output_type": "display_data"
    }
   ],
   "source": [
    "predicted = net.sim(data.values.reshape(shape,1))\n",
    "plt.figure()\n",
    "plt.plot(amplitude,'k',lw=3.0,label='Original')\n",
    "plt.plot(predicted,'r',label='Predicted');plt.legend()"
   ]
  },
  {
   "cell_type": "markdown",
   "metadata": {},
   "source": [
    "Can see from the above it does a reasonable job at predicting the amplitude given the waveform. Define a function that can draw the ouput after passing dat through the trained neural network:"
   ]
  },
  {
   "cell_type": "code",
   "execution_count": 28,
   "metadata": {
    "collapsed": false
   },
   "outputs": [],
   "source": [
    "def draw_output(net,num_points_test):\n",
    "    data_test,amplitude_test = create_waveform(num_points_test)\n",
    "    pred_test = net.sim(data_test.values.reshape(num_points_test*4,1))\n",
    "    plt.figure();plt.title('Num_points = {}'.format(num_points_test))\n",
    "    plt.plot(amplitude_test.values,'k',lw=3.0,label='Original')\n",
    "    plt.plot(pred_test,'r',label='Predicted');plt.legend()"
   ]
  },
  {
   "cell_type": "markdown",
   "metadata": {},
   "source": [
    "Now can create waveforms of random length and see if neural network can predict the amplitude:"
   ]
  },
  {
   "cell_type": "code",
   "execution_count": 29,
   "metadata": {
    "collapsed": false
   },
   "outputs": [
    {
     "data": {
      "image/png": "[encoded data removed]",
      "text/plain": [
       "<matplotlib.figure.Figure at 0x1172ebc50>"
      ]
     },
     "metadata": {},
     "output_type": "display_data"
    },
    {
     "data": {
      "image/png": "[encoded data removed]",
      "text/plain": [
       "<matplotlib.figure.Figure at 0x1173ba860>"
      ]
     },
     "metadata": {},
     "output_type": "display_data"
    }
   ],
   "source": [
    "draw_output(net,74)\n",
    "draw_output(net,54)"
   ]
  },
  {
   "cell_type": "markdown",
   "metadata": {},
   "source": [
    "Can see again that it does a reasonable job for different waveform lengths."
   ]
  },
  {
   "cell_type": "markdown",
   "metadata": {},
   "source": [
    "## 7.6 Building an optical character recognizer using neural networks <a class=\"anchor\" id=\"optical\"></a>\n",
    "\n",
    "Neural networks can be used for optical character recognition, the process of identifying handwritten characters in images.\n",
    "\n",
    "We will use the data file, *letter.data*, included, and also available for download here: http://ai.stanford.edu/~btaskar/ocr/\n",
    "\n",
    "1. id: each letter is assigned a unique integer id\n",
    "2. letter: a-z\n",
    "3. next_id: id for next letter in the word, -1 if last letter\n",
    "4. word_id: each word is assigned a unique integer id (not used)\n",
    "5. position: position of letter in the word (not used)\n",
    "6. fold: 0-9 -- cross-validation fold\n",
    "7. p_i_j: 0/1 -- value of pixel in row i, column j"
   ]
  },
  {
   "cell_type": "code",
   "execution_count": 30,
   "metadata": {
    "collapsed": false
   },
   "outputs": [],
   "source": [
    "letterdf = pd.read_table('letter.data',header=None)"
   ]
  },
  {
   "cell_type": "code",
   "execution_count": 31,
   "metadata": {
    "collapsed": false
   },
   "outputs": [
    {
     "data": {
      "text/html": [
       "<div>\n",
       "<table border=\"1\" class=\"dataframe\">\n",
       "  <thead>\n",
       "    <tr style=\"text-align: right;\">\n",
       "      <th></th>\n",
       "      <th>0</th>\n",
       "      <th>1</th>\n",
       "      <th>2</th>\n",
       "      <th>3</th>\n",
       "      <th>4</th>\n",
       "      <th>5</th>\n",
       "      <th>6</th>\n",
       "      <th>7</th>\n",
       "      <th>8</th>\n",
       "      <th>9</th>\n",
       "      <th>...</th>\n",
       "      <th>125</th>\n",
       "      <th>126</th>\n",
       "      <th>127</th>\n",
       "      <th>128</th>\n",
       "      <th>129</th>\n",
       "      <th>130</th>\n",
       "      <th>131</th>\n",
       "      <th>132</th>\n",
       "      <th>133</th>\n",
       "      <th>134</th>\n",
       "    </tr>\n",
       "  </thead>\n",
       "  <tbody>\n",
       "    <tr>\n",
       "      <th>0</th>\n",
       "      <td>1</td>\n",
       "      <td>o</td>\n",
       "      <td>2</td>\n",
       "      <td>1</td>\n",
       "      <td>1</td>\n",
       "      <td>0</td>\n",
       "      <td>0</td>\n",
       "      <td>0</td>\n",
       "      <td>0</td>\n",
       "      <td>0</td>\n",
       "      <td>...</td>\n",
       "      <td>0</td>\n",
       "      <td>0</td>\n",
       "      <td>0</td>\n",
       "      <td>0</td>\n",
       "      <td>0</td>\n",
       "      <td>0</td>\n",
       "      <td>0</td>\n",
       "      <td>0</td>\n",
       "      <td>0</td>\n",
       "      <td>NaN</td>\n",
       "    </tr>\n",
       "    <tr>\n",
       "      <th>1</th>\n",
       "      <td>2</td>\n",
       "      <td>m</td>\n",
       "      <td>3</td>\n",
       "      <td>1</td>\n",
       "      <td>2</td>\n",
       "      <td>0</td>\n",
       "      <td>0</td>\n",
       "      <td>0</td>\n",
       "      <td>0</td>\n",
       "      <td>0</td>\n",
       "      <td>...</td>\n",
       "      <td>0</td>\n",
       "      <td>0</td>\n",
       "      <td>0</td>\n",
       "      <td>0</td>\n",
       "      <td>0</td>\n",
       "      <td>0</td>\n",
       "      <td>0</td>\n",
       "      <td>0</td>\n",
       "      <td>0</td>\n",
       "      <td>NaN</td>\n",
       "    </tr>\n",
       "    <tr>\n",
       "      <th>2</th>\n",
       "      <td>3</td>\n",
       "      <td>m</td>\n",
       "      <td>4</td>\n",
       "      <td>1</td>\n",
       "      <td>3</td>\n",
       "      <td>0</td>\n",
       "      <td>0</td>\n",
       "      <td>0</td>\n",
       "      <td>0</td>\n",
       "      <td>0</td>\n",
       "      <td>...</td>\n",
       "      <td>0</td>\n",
       "      <td>0</td>\n",
       "      <td>0</td>\n",
       "      <td>0</td>\n",
       "      <td>0</td>\n",
       "      <td>0</td>\n",
       "      <td>0</td>\n",
       "      <td>0</td>\n",
       "      <td>0</td>\n",
       "      <td>NaN</td>\n",
       "    </tr>\n",
       "    <tr>\n",
       "      <th>3</th>\n",
       "      <td>4</td>\n",
       "      <td>a</td>\n",
       "      <td>5</td>\n",
       "      <td>1</td>\n",
       "      <td>4</td>\n",
       "      <td>0</td>\n",
       "      <td>0</td>\n",
       "      <td>0</td>\n",
       "      <td>0</td>\n",
       "      <td>0</td>\n",
       "      <td>...</td>\n",
       "      <td>0</td>\n",
       "      <td>0</td>\n",
       "      <td>0</td>\n",
       "      <td>0</td>\n",
       "      <td>0</td>\n",
       "      <td>0</td>\n",
       "      <td>0</td>\n",
       "      <td>0</td>\n",
       "      <td>0</td>\n",
       "      <td>NaN</td>\n",
       "    </tr>\n",
       "    <tr>\n",
       "      <th>4</th>\n",
       "      <td>5</td>\n",
       "      <td>n</td>\n",
       "      <td>6</td>\n",
       "      <td>1</td>\n",
       "      <td>5</td>\n",
       "      <td>0</td>\n",
       "      <td>0</td>\n",
       "      <td>0</td>\n",
       "      <td>0</td>\n",
       "      <td>0</td>\n",
       "      <td>...</td>\n",
       "      <td>0</td>\n",
       "      <td>0</td>\n",
       "      <td>0</td>\n",
       "      <td>0</td>\n",
       "      <td>0</td>\n",
       "      <td>0</td>\n",
       "      <td>0</td>\n",
       "      <td>0</td>\n",
       "      <td>0</td>\n",
       "      <td>NaN</td>\n",
       "    </tr>\n",
       "    <tr>\n",
       "      <th>5</th>\n",
       "      <td>6</td>\n",
       "      <td>d</td>\n",
       "      <td>7</td>\n",
       "      <td>1</td>\n",
       "      <td>6</td>\n",
       "      <td>0</td>\n",
       "      <td>0</td>\n",
       "      <td>0</td>\n",
       "      <td>0</td>\n",
       "      <td>0</td>\n",
       "      <td>...</td>\n",
       "      <td>1</td>\n",
       "      <td>0</td>\n",
       "      <td>0</td>\n",
       "      <td>0</td>\n",
       "      <td>0</td>\n",
       "      <td>0</td>\n",
       "      <td>0</td>\n",
       "      <td>0</td>\n",
       "      <td>0</td>\n",
       "      <td>NaN</td>\n",
       "    </tr>\n",
       "    <tr>\n",
       "      <th>6</th>\n",
       "      <td>7</td>\n",
       "      <td>i</td>\n",
       "      <td>8</td>\n",
       "      <td>1</td>\n",
       "      <td>7</td>\n",
       "      <td>0</td>\n",
       "      <td>0</td>\n",
       "      <td>0</td>\n",
       "      <td>0</td>\n",
       "      <td>0</td>\n",
       "      <td>...</td>\n",
       "      <td>0</td>\n",
       "      <td>0</td>\n",
       "      <td>0</td>\n",
       "      <td>1</td>\n",
       "      <td>0</td>\n",
       "      <td>0</td>\n",
       "      <td>0</td>\n",
       "      <td>0</td>\n",
       "      <td>0</td>\n",
       "      <td>NaN</td>\n",
       "    </tr>\n",
       "    <tr>\n",
       "      <th>7</th>\n",
       "      <td>8</td>\n",
       "      <td>n</td>\n",
       "      <td>9</td>\n",
       "      <td>1</td>\n",
       "      <td>8</td>\n",
       "      <td>0</td>\n",
       "      <td>0</td>\n",
       "      <td>0</td>\n",
       "      <td>0</td>\n",
       "      <td>0</td>\n",
       "      <td>...</td>\n",
       "      <td>0</td>\n",
       "      <td>0</td>\n",
       "      <td>0</td>\n",
       "      <td>0</td>\n",
       "      <td>0</td>\n",
       "      <td>0</td>\n",
       "      <td>0</td>\n",
       "      <td>0</td>\n",
       "      <td>0</td>\n",
       "      <td>NaN</td>\n",
       "    </tr>\n",
       "    <tr>\n",
       "      <th>8</th>\n",
       "      <td>9</td>\n",
       "      <td>g</td>\n",
       "      <td>-1</td>\n",
       "      <td>1</td>\n",
       "      <td>9</td>\n",
       "      <td>0</td>\n",
       "      <td>0</td>\n",
       "      <td>1</td>\n",
       "      <td>1</td>\n",
       "      <td>1</td>\n",
       "      <td>...</td>\n",
       "      <td>0</td>\n",
       "      <td>0</td>\n",
       "      <td>0</td>\n",
       "      <td>0</td>\n",
       "      <td>0</td>\n",
       "      <td>0</td>\n",
       "      <td>1</td>\n",
       "      <td>0</td>\n",
       "      <td>0</td>\n",
       "      <td>NaN</td>\n",
       "    </tr>\n",
       "    <tr>\n",
       "      <th>9</th>\n",
       "      <td>10</td>\n",
       "      <td>o</td>\n",
       "      <td>11</td>\n",
       "      <td>2</td>\n",
       "      <td>1</td>\n",
       "      <td>7</td>\n",
       "      <td>0</td>\n",
       "      <td>0</td>\n",
       "      <td>0</td>\n",
       "      <td>0</td>\n",
       "      <td>...</td>\n",
       "      <td>0</td>\n",
       "      <td>0</td>\n",
       "      <td>0</td>\n",
       "      <td>0</td>\n",
       "      <td>0</td>\n",
       "      <td>0</td>\n",
       "      <td>0</td>\n",
       "      <td>0</td>\n",
       "      <td>0</td>\n",
       "      <td>NaN</td>\n",
       "    </tr>\n",
       "  </tbody>\n",
       "</table>\n",
       "<p>10 rows × 135 columns</p>\n",
       "</div>"
      ],
      "text/plain": [
       "   0   1    2    3    4    5    6    7    8    9   ...   125  126  127  128  \\\n",
       "0    1   o    2    1    1    0    0    0    0    0 ...     0    0    0    0   \n",
       "1    2   m    3    1    2    0    0    0    0    0 ...     0    0    0    0   \n",
       "2    3   m    4    1    3    0    0    0    0    0 ...     0    0    0    0   \n",
       "3    4   a    5    1    4    0    0    0    0    0 ...     0    0    0    0   \n",
       "4    5   n    6    1    5    0    0    0    0    0 ...     0    0    0    0   \n",
       "5    6   d    7    1    6    0    0    0    0    0 ...     1    0    0    0   \n",
       "6    7   i    8    1    7    0    0    0    0    0 ...     0    0    0    1   \n",
       "7    8   n    9    1    8    0    0    0    0    0 ...     0    0    0    0   \n",
       "8    9   g   -1    1    9    0    0    1    1    1 ...     0    0    0    0   \n",
       "9   10   o   11    2    1    7    0    0    0    0 ...     0    0    0    0   \n",
       "\n",
       "   129  130  131  132  133  134  \n",
       "0    0    0    0    0    0  NaN  \n",
       "1    0    0    0    0    0  NaN  \n",
       "2    0    0    0    0    0  NaN  \n",
       "3    0    0    0    0    0  NaN  \n",
       "4    0    0    0    0    0  NaN  \n",
       "5    0    0    0    0    0  NaN  \n",
       "6    0    0    0    0    0  NaN  \n",
       "7    0    0    0    0    0  NaN  \n",
       "8    0    0    1    0    0  NaN  \n",
       "9    0    0    0    0    0  NaN  \n",
       "\n",
       "[10 rows x 135 columns]"
      ]
     },
     "execution_count": 31,
     "metadata": {},
     "output_type": "execute_result"
    }
   ],
   "source": [
    "letterdf.head(10)"
   ]
  },
  {
   "cell_type": "markdown",
   "metadata": {},
   "source": [
    "We will only take 20 datapoints from the input file, if you look at the first 20 letters below, you will see there are 7 distinct letters among them 'omandig':"
   ]
  },
  {
   "cell_type": "code",
   "execution_count": 32,
   "metadata": {
    "collapsed": false
   },
   "outputs": [
    {
     "name": "stdout",
     "output_type": "stream",
     "text": [
      "Unique letters in first 20:  ['o' 'm' 'a' 'n' 'd' 'i' 'g']\n"
     ]
    }
   ],
   "source": [
    "letters20 = letterdf.iloc[:20,:]\n",
    "# Unique letters \n",
    "unique = letters20.ix[:,1].unique()\n",
    "print('Unique letters in first 20: ',unique)"
   ]
  },
  {
   "cell_type": "markdown",
   "metadata": {},
   "source": [
    "We now want to create a vector for data that has the letters above, and the datapoints will have a 1 in the corresponding element:"
   ]
  },
  {
   "cell_type": "code",
   "execution_count": 33,
   "metadata": {
    "collapsed": false
   },
   "outputs": [
    {
     "data": {
      "text/html": [
       "<div>\n",
       "<table border=\"1\" class=\"dataframe\">\n",
       "  <thead>\n",
       "    <tr style=\"text-align: right;\">\n",
       "      <th></th>\n",
       "      <th>a</th>\n",
       "      <th>d</th>\n",
       "      <th>g</th>\n",
       "      <th>i</th>\n",
       "      <th>m</th>\n",
       "      <th>n</th>\n",
       "      <th>o</th>\n",
       "    </tr>\n",
       "  </thead>\n",
       "  <tbody>\n",
       "    <tr>\n",
       "      <th>0</th>\n",
       "      <td>0</td>\n",
       "      <td>0</td>\n",
       "      <td>0</td>\n",
       "      <td>0</td>\n",
       "      <td>0</td>\n",
       "      <td>0</td>\n",
       "      <td>1</td>\n",
       "    </tr>\n",
       "    <tr>\n",
       "      <th>1</th>\n",
       "      <td>0</td>\n",
       "      <td>0</td>\n",
       "      <td>0</td>\n",
       "      <td>0</td>\n",
       "      <td>1</td>\n",
       "      <td>0</td>\n",
       "      <td>0</td>\n",
       "    </tr>\n",
       "    <tr>\n",
       "      <th>2</th>\n",
       "      <td>0</td>\n",
       "      <td>0</td>\n",
       "      <td>0</td>\n",
       "      <td>0</td>\n",
       "      <td>1</td>\n",
       "      <td>0</td>\n",
       "      <td>0</td>\n",
       "    </tr>\n",
       "    <tr>\n",
       "      <th>3</th>\n",
       "      <td>1</td>\n",
       "      <td>0</td>\n",
       "      <td>0</td>\n",
       "      <td>0</td>\n",
       "      <td>0</td>\n",
       "      <td>0</td>\n",
       "      <td>0</td>\n",
       "    </tr>\n",
       "    <tr>\n",
       "      <th>4</th>\n",
       "      <td>0</td>\n",
       "      <td>0</td>\n",
       "      <td>0</td>\n",
       "      <td>0</td>\n",
       "      <td>0</td>\n",
       "      <td>1</td>\n",
       "      <td>0</td>\n",
       "    </tr>\n",
       "    <tr>\n",
       "      <th>5</th>\n",
       "      <td>0</td>\n",
       "      <td>1</td>\n",
       "      <td>0</td>\n",
       "      <td>0</td>\n",
       "      <td>0</td>\n",
       "      <td>0</td>\n",
       "      <td>0</td>\n",
       "    </tr>\n",
       "    <tr>\n",
       "      <th>6</th>\n",
       "      <td>0</td>\n",
       "      <td>0</td>\n",
       "      <td>0</td>\n",
       "      <td>1</td>\n",
       "      <td>0</td>\n",
       "      <td>0</td>\n",
       "      <td>0</td>\n",
       "    </tr>\n",
       "    <tr>\n",
       "      <th>7</th>\n",
       "      <td>0</td>\n",
       "      <td>0</td>\n",
       "      <td>0</td>\n",
       "      <td>0</td>\n",
       "      <td>0</td>\n",
       "      <td>1</td>\n",
       "      <td>0</td>\n",
       "    </tr>\n",
       "    <tr>\n",
       "      <th>8</th>\n",
       "      <td>0</td>\n",
       "      <td>0</td>\n",
       "      <td>1</td>\n",
       "      <td>0</td>\n",
       "      <td>0</td>\n",
       "      <td>0</td>\n",
       "      <td>0</td>\n",
       "    </tr>\n",
       "    <tr>\n",
       "      <th>9</th>\n",
       "      <td>0</td>\n",
       "      <td>0</td>\n",
       "      <td>0</td>\n",
       "      <td>0</td>\n",
       "      <td>0</td>\n",
       "      <td>0</td>\n",
       "      <td>1</td>\n",
       "    </tr>\n",
       "  </tbody>\n",
       "</table>\n",
       "</div>"
      ],
      "text/plain": [
       "   a  d  g  i  m  n  o\n",
       "0  0  0  0  0  0  0  1\n",
       "1  0  0  0  0  1  0  0\n",
       "2  0  0  0  0  1  0  0\n",
       "3  1  0  0  0  0  0  0\n",
       "4  0  0  0  0  0  1  0\n",
       "5  0  1  0  0  0  0  0\n",
       "6  0  0  0  1  0  0  0\n",
       "7  0  0  0  0  0  1  0\n",
       "8  0  0  1  0  0  0  0\n",
       "9  0  0  0  0  0  0  1"
      ]
     },
     "execution_count": 33,
     "metadata": {},
     "output_type": "execute_result"
    }
   ],
   "source": [
    "lettersencode = pd.get_dummies(letters20.ix[:,1])\n",
    "lettersencode.head(10)"
   ]
  },
  {
   "cell_type": "markdown",
   "metadata": {},
   "source": [
    "We see from the above that each letter has been vectorized and is represented by a '1' in the column.\n",
    "\n",
    "Now we want to extract the character vector:"
   ]
  },
  {
   "cell_type": "code",
   "execution_count": 34,
   "metadata": {
    "collapsed": false
   },
   "outputs": [
    {
     "data": {
      "text/html": [
       "<div>\n",
       "<table border=\"1\" class=\"dataframe\">\n",
       "  <thead>\n",
       "    <tr style=\"text-align: right;\">\n",
       "      <th></th>\n",
       "      <th>6</th>\n",
       "      <th>7</th>\n",
       "      <th>8</th>\n",
       "      <th>9</th>\n",
       "      <th>10</th>\n",
       "      <th>11</th>\n",
       "      <th>12</th>\n",
       "      <th>13</th>\n",
       "      <th>14</th>\n",
       "      <th>15</th>\n",
       "      <th>...</th>\n",
       "      <th>124</th>\n",
       "      <th>125</th>\n",
       "      <th>126</th>\n",
       "      <th>127</th>\n",
       "      <th>128</th>\n",
       "      <th>129</th>\n",
       "      <th>130</th>\n",
       "      <th>131</th>\n",
       "      <th>132</th>\n",
       "      <th>133</th>\n",
       "    </tr>\n",
       "  </thead>\n",
       "  <tbody>\n",
       "    <tr>\n",
       "      <th>0</th>\n",
       "      <td>0</td>\n",
       "      <td>0</td>\n",
       "      <td>0</td>\n",
       "      <td>0</td>\n",
       "      <td>0</td>\n",
       "      <td>0</td>\n",
       "      <td>0</td>\n",
       "      <td>0</td>\n",
       "      <td>0</td>\n",
       "      <td>0</td>\n",
       "      <td>...</td>\n",
       "      <td>0</td>\n",
       "      <td>0</td>\n",
       "      <td>0</td>\n",
       "      <td>0</td>\n",
       "      <td>0</td>\n",
       "      <td>0</td>\n",
       "      <td>0</td>\n",
       "      <td>0</td>\n",
       "      <td>0</td>\n",
       "      <td>0</td>\n",
       "    </tr>\n",
       "    <tr>\n",
       "      <th>1</th>\n",
       "      <td>0</td>\n",
       "      <td>0</td>\n",
       "      <td>0</td>\n",
       "      <td>0</td>\n",
       "      <td>0</td>\n",
       "      <td>0</td>\n",
       "      <td>0</td>\n",
       "      <td>0</td>\n",
       "      <td>0</td>\n",
       "      <td>0</td>\n",
       "      <td>...</td>\n",
       "      <td>0</td>\n",
       "      <td>0</td>\n",
       "      <td>0</td>\n",
       "      <td>0</td>\n",
       "      <td>0</td>\n",
       "      <td>0</td>\n",
       "      <td>0</td>\n",
       "      <td>0</td>\n",
       "      <td>0</td>\n",
       "      <td>0</td>\n",
       "    </tr>\n",
       "    <tr>\n",
       "      <th>2</th>\n",
       "      <td>0</td>\n",
       "      <td>0</td>\n",
       "      <td>0</td>\n",
       "      <td>0</td>\n",
       "      <td>0</td>\n",
       "      <td>0</td>\n",
       "      <td>0</td>\n",
       "      <td>0</td>\n",
       "      <td>0</td>\n",
       "      <td>0</td>\n",
       "      <td>...</td>\n",
       "      <td>0</td>\n",
       "      <td>0</td>\n",
       "      <td>0</td>\n",
       "      <td>0</td>\n",
       "      <td>0</td>\n",
       "      <td>0</td>\n",
       "      <td>0</td>\n",
       "      <td>0</td>\n",
       "      <td>0</td>\n",
       "      <td>0</td>\n",
       "    </tr>\n",
       "    <tr>\n",
       "      <th>3</th>\n",
       "      <td>0</td>\n",
       "      <td>0</td>\n",
       "      <td>0</td>\n",
       "      <td>0</td>\n",
       "      <td>0</td>\n",
       "      <td>0</td>\n",
       "      <td>0</td>\n",
       "      <td>0</td>\n",
       "      <td>0</td>\n",
       "      <td>0</td>\n",
       "      <td>...</td>\n",
       "      <td>0</td>\n",
       "      <td>0</td>\n",
       "      <td>0</td>\n",
       "      <td>0</td>\n",
       "      <td>0</td>\n",
       "      <td>0</td>\n",
       "      <td>0</td>\n",
       "      <td>0</td>\n",
       "      <td>0</td>\n",
       "      <td>0</td>\n",
       "    </tr>\n",
       "    <tr>\n",
       "      <th>4</th>\n",
       "      <td>0</td>\n",
       "      <td>0</td>\n",
       "      <td>0</td>\n",
       "      <td>0</td>\n",
       "      <td>0</td>\n",
       "      <td>0</td>\n",
       "      <td>0</td>\n",
       "      <td>0</td>\n",
       "      <td>0</td>\n",
       "      <td>0</td>\n",
       "      <td>...</td>\n",
       "      <td>0</td>\n",
       "      <td>0</td>\n",
       "      <td>0</td>\n",
       "      <td>0</td>\n",
       "      <td>0</td>\n",
       "      <td>0</td>\n",
       "      <td>0</td>\n",
       "      <td>0</td>\n",
       "      <td>0</td>\n",
       "      <td>0</td>\n",
       "    </tr>\n",
       "  </tbody>\n",
       "</table>\n",
       "<p>5 rows × 128 columns</p>\n",
       "</div>"
      ],
      "text/plain": [
       "   6    7    8    9    10   11   12   13   14   15  ...   124  125  126  127  \\\n",
       "0    0    0    0    0    0    0    0    0    0    0 ...     0    0    0    0   \n",
       "1    0    0    0    0    0    0    0    0    0    0 ...     0    0    0    0   \n",
       "2    0    0    0    0    0    0    0    0    0    0 ...     0    0    0    0   \n",
       "3    0    0    0    0    0    0    0    0    0    0 ...     0    0    0    0   \n",
       "4    0    0    0    0    0    0    0    0    0    0 ...     0    0    0    0   \n",
       "\n",
       "   128  129  130  131  132  133  \n",
       "0    0    0    0    0    0    0  \n",
       "1    0    0    0    0    0    0  \n",
       "2    0    0    0    0    0    0  \n",
       "3    0    0    0    0    0    0  \n",
       "4    0    0    0    0    0    0  \n",
       "\n",
       "[5 rows x 128 columns]"
      ]
     },
     "execution_count": 34,
     "metadata": {},
     "output_type": "execute_result"
    }
   ],
   "source": [
    "startind=6;endind = -1\n",
    "characters = letters20.iloc[:,startind:endind]\n",
    "characters.head()"
   ]
  },
  {
   "cell_type": "markdown",
   "metadata": {},
   "source": [
    "We now have a 128 column data that goes along with the encoded letters, and then we will want to split into training and testing dataset. We will use 90% of data for training and 10% for testing:"
   ]
  },
  {
   "cell_type": "code",
   "execution_count": 35,
   "metadata": {
    "collapsed": true
   },
   "outputs": [],
   "source": [
    "from sklearn.model_selection import train_test_split\n",
    "Xtrain,Xtest,ytrain,ytest = train_test_split(characters,lettersencode,test_size=0.1,random_state=4)"
   ]
  },
  {
   "cell_type": "markdown",
   "metadata": {},
   "source": [
    "#### Train neural network with 10,000 epochs\n",
    "Then plot the error:"
   ]
  },
  {
   "cell_type": "code",
   "execution_count": 36,
   "metadata": {
    "collapsed": false
   },
   "outputs": [
    {
     "name": "stdout",
     "output_type": "stream",
     "text": [
      "Epoch: 1000; Error: 0.21581750946167724;\n",
      "Epoch: 2000; Error: 0.1332406685694399;\n",
      "Epoch: 3000; Error: 0.08868205158909369;\n",
      "Epoch: 4000; Error: 0.06256580816398742;\n",
      "Epoch: 5000; Error: 0.06323175485763506;\n",
      "Epoch: 6000; Error: 0.04952539984585368;\n",
      "Epoch: 7000; Error: 0.05593942269779839;\n",
      "Epoch: 8000; Error: 0.027134577139445528;\n",
      "Epoch: 9000; Error: 0.0292231521547478;\n",
      "Epoch: 10000; Error: 0.02586520736900532;\n",
      "The maximum number of train epochs is reached\n"
     ]
    },
    {
     "data": {
      "text/plain": [
       "<matplotlib.text.Text at 0x11c5ecac8>"
      ]
     },
     "execution_count": 36,
     "metadata": {},
     "output_type": "execute_result"
    },
    {
     "data": {
      "image/png": "[encoded data removed]",
      "text/plain": [
       "<matplotlib.figure.Figure at 0x11765d518>"
      ]
     },
     "metadata": {},
     "output_type": "display_data"
    }
   ],
   "source": [
    "net = neurolab.net.newff([[0,1] for _ in range(128)],[128,16,len(unique)])\n",
    "net.trainf = neurolab.train.train_gd #gradient descent\n",
    "error = net.train(Xtrain.values,ytrain.values,epochs=10000, show=1000,goal=0.01)\n",
    "plt.plot(error);plt.xlabel('Epochs');plt.ylabel('Error')"
   ]
  },
  {
   "cell_type": "markdown",
   "metadata": {},
   "source": [
    "Can see the error gets rapidly close to zero for the training data.\n",
    "\n",
    "Now let's predict the ouput for the test inputs, the return values are not 1's and 0's but float numbers so we will take the largest value as the 1 in the encoded vector:"
   ]
  },
  {
   "cell_type": "code",
   "execution_count": 37,
   "metadata": {
    "collapsed": false
   },
   "outputs": [
    {
     "name": "stdout",
     "output_type": "stream",
     "text": [
      "Predicted vs True for test data\n",
      "Orignal letter:  m , Predicted letter:  m\n",
      "Orignal letter:  a , Predicted letter:  n\n"
     ]
    }
   ],
   "source": [
    "predicted = net.sim(Xtest.values)\n",
    "letters = lettersencode.columns.values\n",
    "#Print predicted vs true value\n",
    "print('Predicted vs True for test data')\n",
    "for n in range(len(Xtest.index)):\n",
    "    pred_encoded = np.argmax( predicted[n,:] )\n",
    "    orig_ind = ytest.iloc[n,:] == 1\n",
    "    orig_letter = letters[orig_ind.values][0]\n",
    "    pred_letter = letters[pred_encoded]\n",
    "    print('Orignal letter: ',orig_letter, ', Predicted letter: ',pred_letter)"
   ]
  },
  {
   "cell_type": "markdown",
   "metadata": {},
   "source": [
    "Can see for our limited sample that the neural network correctly predicted the characters."
   ]
  }
 ],
 "metadata": {
  "kernelspec": {
   "display_name": "Python 3",
   "language": "python",
   "name": "python3"
  },
  "language_info": {
   "codemirror_mode": {
    "name": "ipython",
    "version": 3
   },
   "file_extension": ".py",
   "mimetype": "text/x-python",
   "name": "python",
   "nbconvert_exporter": "python",
   "pygments_lexer": "ipython3",
   "version": "3.6.0"
  }
 },
 "nbformat": 4,
 "nbformat_minor": 2
}
